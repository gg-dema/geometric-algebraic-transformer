{
 "cells": [
  {
   "cell_type": "code",
   "execution_count": 1,
   "metadata": {},
   "outputs": [],
   "source": [
    "import os\n",
    "import random \n",
    "import math\n",
    "\n",
    "from functools import partial # fix some parameters of a function and generate a new function\n",
    "from tqdm.notebook import tqdm\n",
    "\n",
    "import torch\n",
    "import numpy as np\n",
    "import matplotlib.pyplot as plt\n",
    "\n",
    "# utility torch\n",
    "import torch.nn as nn\n",
    "import torch.nn.functional as F\n",
    "\n",
    "try: \n",
    "    import pytorch_lightning as pl\n",
    "except ModuleNotFoundError:\n",
    "    %pip install --quiet pytorch-lightning\n",
    "    import pytorch_lightning as pl\n",
    "from pytorch_lightning.callbacks import LearningRateMonitor, ModelCheckpoint"
   ]
  },
  {
   "cell_type": "code",
   "execution_count": 2,
   "metadata": {},
   "outputs": [
    {
     "name": "stderr",
     "output_type": "stream",
     "text": [
      "Seed set to 42\n"
     ]
    }
   ],
   "source": [
    "pl.seed_everything(42)\n",
    "device = torch.device(\"cuda:0\" if torch.cuda.is_available() else \"cpu\")"
   ]
  },
  {
   "cell_type": "code",
   "execution_count": 3,
   "metadata": {},
   "outputs": [],
   "source": [
    "def scaled_dot_product(q_vect, k_vect, v_vect, mask=None):\n",
    "    dim_key_vect = k_vect.size()[-1]\n",
    "    attention_logits = torch.matmul(q_vect, k_vect.transpose(-2, -1)) / math.sqrt(dim_key_vect)\n",
    "    if mask is not None:\n",
    "        attention_logits = attention_logits.masked_fill(mask == 0, -9e15)\n",
    "    \n",
    "    attention_weights = F.softmax(attention_logits, dim=-1)\n",
    "    values = torch.matmul(attention_weights, v_vect)\n",
    "    return values, attention_weights\n"
   ]
  },
  {
   "cell_type": "code",
   "execution_count": 4,
   "metadata": {},
   "outputs": [],
   "source": [
    "seq_len, dim_k = 3, 30\n",
    "Q_mat = torch.rand((seq_len, dim_k))\n",
    "K_mat = torch.rand((seq_len, dim_k))\n",
    "V_mat = torch.rand((seq_len, dim_k))\n",
    "values, attention = scaled_dot_product(Q_mat, K_mat, V_mat)\n"
   ]
  },
  {
   "cell_type": "code",
   "execution_count": 5,
   "metadata": {},
   "outputs": [
    {
     "data": {
      "text/plain": [
       "(tensor([[0.6161, 0.7583, 0.5907, 0.3219, 0.7610, 0.7628, 0.6870, 0.4121, 0.3676,\n",
       "          0.5535, 0.4117, 0.3510, 0.8196, 0.9297, 0.4505, 0.3881, 0.5073, 0.4701,\n",
       "          0.6202, 0.6401, 0.0459, 0.3155, 0.9211, 0.6948, 0.4751, 0.1985, 0.1941,\n",
       "          0.0521, 0.3370, 0.6689],\n",
       "         [0.8188, 0.7308, 0.0580, 0.1993, 0.4211, 0.9837, 0.5723, 0.3705, 0.7069,\n",
       "          0.3096, 0.1764, 0.8649, 0.2726, 0.3998, 0.0026, 0.8346, 0.8788, 0.6822,\n",
       "          0.1514, 0.0065, 0.0939, 0.8729, 0.7401, 0.9208, 0.7619, 0.6265, 0.4951,\n",
       "          0.1197, 0.0716, 0.0323],\n",
       "         [0.7047, 0.2545, 0.3994, 0.2122, 0.4089, 0.1481, 0.1733, 0.6659, 0.3514,\n",
       "          0.8087, 0.3396, 0.1332, 0.4118, 0.2576, 0.3470, 0.0240, 0.7797, 0.1519,\n",
       "          0.7513, 0.7269, 0.8572, 0.1165, 0.8596, 0.2636, 0.6855, 0.9696, 0.4295,\n",
       "          0.4961, 0.3849, 0.0825]]),\n",
       " tensor([[0.7166, 0.5460, 0.3434, 0.2385, 0.5103, 0.5850, 0.4429, 0.5013, 0.4694,\n",
       "          0.5787, 0.3074, 0.4271, 0.4803, 0.4891, 0.2657, 0.3836, 0.7359, 0.4093,\n",
       "          0.5235, 0.4729, 0.3889, 0.4130, 0.8385, 0.5928, 0.6517, 0.6466, 0.3853,\n",
       "          0.2531, 0.2716, 0.2288],\n",
       "         [0.7216, 0.5474, 0.3301, 0.2357, 0.5027, 0.5933, 0.4419, 0.4992, 0.4783,\n",
       "          0.5713, 0.3015, 0.4415, 0.4675, 0.4778, 0.2544, 0.3968, 0.7446, 0.4162,\n",
       "          0.5106, 0.4559, 0.3869, 0.4285, 0.8339, 0.6004, 0.6584, 0.6548, 0.3922,\n",
       "          0.2530, 0.2645, 0.2144],\n",
       "         [0.7160, 0.5544, 0.3443, 0.2398, 0.5147, 0.5962, 0.4510, 0.4969, 0.4711,\n",
       "          0.5734, 0.3076, 0.4329, 0.4848, 0.4980, 0.2655, 0.3916, 0.7330, 0.4155,\n",
       "          0.5193, 0.4688, 0.3756, 0.4187, 0.8387, 0.6009, 0.6494, 0.6355, 0.3826,\n",
       "          0.2459, 0.2697, 0.2359]]))"
      ]
     },
     "execution_count": 5,
     "metadata": {},
     "output_type": "execute_result"
    }
   ],
   "source": [
    "V_mat, values"
   ]
  },
  {
   "cell_type": "code",
   "execution_count": 6,
   "metadata": {},
   "outputs": [],
   "source": [
    "# X = batch * seq_len * dim_hidden_state \n",
    "\n",
    "# Helper function to support different mask shapes.\n",
    "# Output shape supports (batch_size, number of heads, seq length, seq length)\n",
    "# If 2D: broadcasted over batch size and number of heads\n",
    "# If 3D: broadcasted over number of heads\n",
    "# If 4D: leave as is\n",
    "\n",
    "def expand_mask(mask):\n",
    "    assert mask.ndim >= 2, \"Mask must be at least 2-dimensional with seq_length x seq_length\"\n",
    "    if mask.ndim == 3:\n",
    "        mask = mask.unsqueeze(1)\n",
    "    while mask.ndim < 4:\n",
    "        mask = mask.unsqueeze(0)\n",
    "    return mask\n",
    "\n",
    "\n",
    "class MultiHead(nn.Module):\n",
    "\n",
    "    def __init__(self, input_dim, hidden_dim, num_heads):\n",
    "        super(MultiHead, self).__init__()\n",
    "\n",
    "        assert hidden_dim % num_heads == 0, \"latent dimension must be divisible by the number of heads\"\n",
    "\n",
    "        self.num_heads = num_heads\n",
    "        self.embedding_dim = hidden_dim\n",
    "        self.input_dim = input_dim\n",
    "        self.dim_head = hidden_dim // num_heads\n",
    "\n",
    "        self.qkv_projection = nn.Linear(input_dim, 3 * hidden_dim)\n",
    "        self.my_projection = nn.Linear(hidden_dim, hidden_dim)\n",
    "\n",
    "        self._reset_parameters()\n",
    "    \n",
    "    def _reset_parameters(self):\n",
    "        nn.init.xavier_uniform_(self.qkv_projection.weight)\n",
    "        self.qkv_projection.bias.data.fill_(0)\n",
    "        \n",
    "        nn.init.xavier_uniform_(self.my_projection.weight)\n",
    "        self.my_projection.bias.data.fill_(0)\n",
    "    \n",
    "    def forward(self, x, mask=None, return_attention=False):\n",
    "        batch_size, seq_len, _ = x.size()\n",
    "\n",
    "        if mask is not None:\n",
    "            mask = expand_mask(mask)\n",
    "        \n",
    "        qkv = self.qkv_projection(x)\n",
    "        qkv = qkv.reshape(batch_size, seq_len, self.num_heads, 3 * self.dim_head)\n",
    "        q, k, v = qkv.chunk(3, dim=-1)\n",
    "        \n",
    "        values, attention = scaled_dot_product(q, k, v, mask)\n",
    "        values = values.permute(0, 2, 1, 3) # batch, seq_len, num_heads, self.embedding_dim\n",
    "        values = values.reshape(batch_size, seq_len, self.embedding_dim)\n",
    "\n",
    "        if return_attention:\n",
    "            return self.my_projection(values), attention\n",
    "        return self.my_projection(values)\n",
    "    "
   ]
  },
  {
   "cell_type": "code",
   "execution_count": 7,
   "metadata": {},
   "outputs": [],
   "source": [
    "class Encoder(nn.Module):\n",
    "\n",
    "    def __init__(self, input_dim, num_heads, dim_feedforwards, dropout=0.0):\n",
    "        super(Encoder, self).__init__()\n",
    "\n",
    "        self.multi_head = MultiHead(input_dim, input_dim, num_heads)\n",
    "        self.feedforward = nn.Sequential(\n",
    "            nn.Linear(input_dim, dim_feedforwards),\n",
    "            nn.Dropout(dropout),\n",
    "            nn.ReLU(inplace=True),\n",
    "            nn.Linear(dim_feedforwards, input_dim),\n",
    "        )\n",
    "        self.norm1 = nn.LayerNorm(input_dim)\n",
    "        self.norm2 = nn.LayerNorm(input_dim)\n",
    "        self.dropout = nn.Dropout(dropout)\n",
    "\n",
    "    def forward(self, x, mask=None):\n",
    "        \n",
    "        _, values = self.multi_head(x, mask)\n",
    "        x = x + self.dropout(values) # residual connection\n",
    "        x = self.norm1(x)\n",
    "\n",
    "        lin_output = self.feedforward(x)\n",
    "        x = x + self.dropout(lin_output)\n",
    "        x = self.norm2(x)\n",
    "        return x\n",
    "    \n"
   ]
  },
  {
   "cell_type": "code",
   "execution_count": 8,
   "metadata": {},
   "outputs": [],
   "source": [
    "class PositionalEmbedding(nn.Module):\n",
    "\n",
    "    def __init__(self, input_dim, max_seq_len=512):\n",
    "        super(PositionalEmbedding, self).__init__()\n",
    "\n",
    "        embedd = torch.zeros(max_seq_len, input_dim)\n",
    "        position = torch.arange(0, max_seq_len, dtype=torch.float).unsqueeze(1)\n",
    "        div_term = torch.exp(torch.arange(0, input_dim, 2).float() * (-math.log(10000.0) / input_dim))\n",
    "        embedd[:, 0::2] = torch.sin(position * div_term)\n",
    "        embedd[:, 1::2] = torch.cos(position * div_term)\n",
    "        embedd = embedd.unsqueeze(0)\n",
    "\n",
    "        self.register_buffer('embedding', embedd)\n",
    "\n",
    "        #self.token_embedding = nn.Linear(input_dim, input_dim)\n",
    "        #self.position_embedding = nn.Parameter(torch.randn(max_position, 1, input_dim))\n",
    "        #self.dropout = nn.Dropout(0.1)\n",
    "\n",
    "    def forward(self, x):\n",
    "        return x + self.embedding[:, :x.size(1)]\n",
    "    \n",
    "\n",
    "\n",
    "class Transformer(nn.Module):\n",
    "\n",
    "    def __init__(self, num_layers, **kwargs):\n",
    "        super(Transformer, self).__init__()\n",
    "\n",
    "        self.encoder = nn.ModuleList([\n",
    "            Encoder(**kwargs) for _ in range(num_layers)\n",
    "        ])\n",
    "    \n",
    "    def forward(self, x, mask=None):\n",
    "        for layer in self.encoder:\n",
    "            x = layer(x, mask)\n",
    "        return x\n",
    "    \n",
    "    def get_attention_map(self, x, mask=None):\n",
    "        attention_maps = []\n",
    "        for layer in self.encoder:\n",
    "            _, attention = layer(x, mask, return_attention=True)\n",
    "            attention_maps.append(attention)\n",
    "        return _, attention_maps"
   ]
  },
  {
   "cell_type": "code",
   "execution_count": 9,
   "metadata": {},
   "outputs": [
    {
     "data": {
      "text/plain": [
       "[<matplotlib.lines.Line2D at 0x72c49eeedc60>]"
      ]
     },
     "execution_count": 9,
     "metadata": {},
     "output_type": "execute_result"
    },
    {
     "data": {
      "image/png": "[encoded data removed]",
      "text/plain": [
       "<Figure size 1000x500 with 1 Axes>"
      ]
     },
     "metadata": {},
     "output_type": "display_data"
    }
   ],
   "source": [
    "class WarmupScheduler(torch.optim.lr_scheduler._LRScheduler):\n",
    "\n",
    "    def __init__(self, optimizer, warmup, max_number_iters=-1):\n",
    "        self.warmup = warmup\n",
    "        self.max_number_iters = max_number_iters\n",
    "        super(WarmupScheduler, self).__init__(optimizer)\n",
    "\n",
    "\n",
    "    def get_lr(self):\n",
    "        lr_factor = self.get_lr_factor(epoch=self.last_epoch)\n",
    "        return [base_lr * lr_factor for base_lr in self.base_lrs]\n",
    "    \n",
    "    def get_lr_factor(self, epoch):\n",
    "        lr_factor = 0.5 * (1 + np.cos(np.pi * epoch  / self.max_number_iters))\n",
    "        if epoch < self.warmup:\n",
    "            lr_factor *= epoch / self.warmup\n",
    "        return lr_factor\n",
    "    \n",
    "\n",
    "p = nn.Parameter(torch.randn(1, 3, 4))\n",
    "optimizer = torch.optim.Adam([p], lr=1e-3)\n",
    "lr_scheduler = WarmupScheduler(optimizer, warmup=100, max_number_iters=2000)\n",
    "\n",
    "epochs = list(range(10000))\n",
    "plt.figure(figsize=(10, 5))\n",
    "plt.plot(epochs, [lr_scheduler.get_lr_factor(epoch) for epoch in epochs])    \n",
    "\n"
   ]
  },
  {
   "cell_type": "code",
   "execution_count": null,
   "metadata": {},
   "outputs": [],
   "source": [
    "\n",
    "import torch.optim as optim\n"
   ]
  },
  {
   "cell_type": "code",
   "execution_count": 10,
   "metadata": {},
   "outputs": [],
   "source": [
    "class TransformerArchitecture(pl.LightningModule):\n",
    "\n",
    "    def __init__(self):\n",
    "        super(TransformerArchitecture, self).__init__()\n",
    "        self.save_hyperparameters()\n",
    "\n",
    "        self.input_net = nn.Sequential(\n",
    "            nn.Dropout(self.hparams.dropout),\n",
    "            nn.Linear(self.hparams.input_dim, self.hparams.hidden_dim),            \n",
    "        )\n",
    "        self.positional_embedding = PositionalEmbedding(self.hparams.hidden_dim, max_seq_len=self.hparams.max_seq_len)\n",
    "        self.transformer = Transformer(**self.hparams)\n",
    "        self.output_net = nn.Sequential(\n",
    "            nn.Linear(self.hparams.hidden_dim, self.hparams.output_dim),\n",
    "            nn.LayerNorm(self.hparams.output_dim), \n",
    "            nn.Dropout(self.hparams.dropout),    \n",
    "            nn.Linear(self.hparams.output_dim, self.hparams.num_classes),\n",
    "        )\n",
    "\n",
    "    def forward(self, x, mask=None):\n",
    "        x = self.input_net(x)\n",
    "        x = self.positional_embedding(x)\n",
    "        x = self.transformer(x, mask)\n",
    "        x = self.output_net(x)\n",
    "        return x\n",
    "\n",
    "\n",
    "\n",
    "    @torch.no_grad()\n",
    "    def get_attention_maps(self, x, mask=None, add_positional_encoding=True):\n",
    "        \"\"\"\n",
    "        Function for extracting the attention matrices of the whole Transformer for a single batch.\n",
    "        Input arguments same as the forward pass.\n",
    "        \"\"\"\n",
    "        x = self.input_net(x)\n",
    "        if add_positional_encoding:\n",
    "            x = self.positional_encoding(x)\n",
    "        attention_maps = self.transformer.get_attention_maps(x, mask=mask)\n",
    "        return attention_maps\n",
    "\n",
    "    def configure_optimizers(self):\n",
    "        optimizer = optim.Adam(self.parameters(), lr=self.hparams.lr)\n",
    "\n",
    "        # Apply lr scheduler per step\n",
    "        lr_scheduler = WarmupScheduler(optimizer,\n",
    "                                             warmup=self.hparams.warmup,\n",
    "                                             max_iters=self.hparams.max_iters)\n",
    "        return [optimizer], [{'scheduler': lr_scheduler, 'interval': 'step'}]\n",
    "\n",
    "    def training_step(self, batch, batch_idx):\n",
    "        raise NotImplementedError\n",
    "\n",
    "    def validation_step(self, batch, batch_idx):\n",
    "        raise NotImplementedError\n",
    "\n",
    "    def test_step(self, batch, batch_idx):\n",
    "        raise NotImplementedError"
   ]
  },
  {
   "cell_type": "code",
   "execution_count": null,
   "metadata": {},
   "outputs": [],
   "source": []
  }
 ],
 "metadata": {
  "kernelspec": {
   "display_name": ".venv",
   "language": "python",
   "name": "python3"
  },
  "language_info": {
   "codemirror_mode": {
    "name": "ipython",
    "version": 3
   },
   "file_extension": ".py",
   "mimetype": "text/x-python",
   "name": "python",
   "nbconvert_exporter": "python",
   "pygments_lexer": "ipython3",
   "version": "3.10.12"
  }
 },
 "nbformat": 4,
 "nbformat_minor": 2
}
