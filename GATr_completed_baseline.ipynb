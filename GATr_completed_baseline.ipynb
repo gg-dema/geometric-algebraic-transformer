{
  "nbformat": 4,
  "nbformat_minor": 0,
  "metadata": {
    "colab": {
      "provenance": [],
      "toc_visible": true,
      "collapsed_sections": [
        "Z13NbrOz89WI",
        "aNxTImNk2YQ2",
        "_oF9GkIr-A4k"
      ],
      "include_colab_link": true
    },
    "kernelspec": {
      "name": "python3",
      "display_name": "Python 3"
    },
    "language_info": {
      "name": "python"
    },
    "widgets": {
      "application/vnd.jupyter.widget-state+json": {
        "8f8f6d8c62234902aac0299c26ff3a2b": {
          "model_module": "@jupyter-widgets/controls",
          "model_name": "HBoxModel",
          "model_module_version": "1.5.0",
          "state": {
            "_dom_classes": [],
            "_model_module": "@jupyter-widgets/controls",
            "_model_module_version": "1.5.0",
            "_model_name": "HBoxModel",
            "_view_count": null,
            "_view_module": "@jupyter-widgets/controls",
            "_view_module_version": "1.5.0",
            "_view_name": "HBoxView",
            "box_style": "",
            "children": [
              "IPY_MODEL_3b08d42b1b6e485889bb6d6e3b11d734",
              "IPY_MODEL_a60c785de7f84969924756d8707df99c",
              "IPY_MODEL_7fd5a052464f4e0794106c6ae707a202"
            ],
            "layout": "IPY_MODEL_d00538df828e4924bb1ff4773691e36c"
          }
        },
        "3b08d42b1b6e485889bb6d6e3b11d734": {
          "model_module": "@jupyter-widgets/controls",
          "model_name": "HTMLModel",
          "model_module_version": "1.5.0",
          "state": {
            "_dom_classes": [],
            "_model_module": "@jupyter-widgets/controls",
            "_model_module_version": "1.5.0",
            "_model_name": "HTMLModel",
            "_view_count": null,
            "_view_module": "@jupyter-widgets/controls",
            "_view_module_version": "1.5.0",
            "_view_name": "HTMLView",
            "description": "",
            "description_tooltip": null,
            "layout": "IPY_MODEL_cd52aa1f8cc040ec94e427808f95619c",
            "placeholder": "​",
            "style": "IPY_MODEL_02138fcce4b64374b6558885e9b71e14",
            "value": "Sanity Checking DataLoader 0: 100%"
          }
        },
        "a60c785de7f84969924756d8707df99c": {
          "model_module": "@jupyter-widgets/controls",
          "model_name": "FloatProgressModel",
          "model_module_version": "1.5.0",
          "state": {
            "_dom_classes": [],
            "_model_module": "@jupyter-widgets/controls",
            "_model_module_version": "1.5.0",
            "_model_name": "FloatProgressModel",
            "_view_count": null,
            "_view_module": "@jupyter-widgets/controls",
            "_view_module_version": "1.5.0",
            "_view_name": "ProgressView",
            "bar_style": "",
            "description": "",
            "description_tooltip": null,
            "layout": "IPY_MODEL_b79d6c50f2754dc3bbc604b29b6883a8",
            "max": 2,
            "min": 0,
            "orientation": "horizontal",
            "style": "IPY_MODEL_63da5942205540f8a3e9724189800446",
            "value": 2
          }
        },
        "7fd5a052464f4e0794106c6ae707a202": {
          "model_module": "@jupyter-widgets/controls",
          "model_name": "HTMLModel",
          "model_module_version": "1.5.0",
          "state": {
            "_dom_classes": [],
            "_model_module": "@jupyter-widgets/controls",
            "_model_module_version": "1.5.0",
            "_model_name": "HTMLModel",
            "_view_count": null,
            "_view_module": "@jupyter-widgets/controls",
            "_view_module_version": "1.5.0",
            "_view_name": "HTMLView",
            "description": "",
            "description_tooltip": null,
            "layout": "IPY_MODEL_9206c6f789884c2f8dcc0cd6b5fc15d7",
            "placeholder": "​",
            "style": "IPY_MODEL_0165880f9826445fbc6a4c2cfa4b8dae",
            "value": " 2/2 [00:00&lt;00:00,  4.46it/s]"
          }
        },
        "d00538df828e4924bb1ff4773691e36c": {
          "model_module": "@jupyter-widgets/base",
          "model_name": "LayoutModel",
          "model_module_version": "1.2.0",
          "state": {
            "_model_module": "@jupyter-widgets/base",
            "_model_module_version": "1.2.0",
            "_model_name": "LayoutModel",
            "_view_count": null,
            "_view_module": "@jupyter-widgets/base",
            "_view_module_version": "1.2.0",
            "_view_name": "LayoutView",
            "align_content": null,
            "align_items": null,
            "align_self": null,
            "border": null,
            "bottom": null,
            "display": "inline-flex",
            "flex": null,
            "flex_flow": "row wrap",
            "grid_area": null,
            "grid_auto_columns": null,
            "grid_auto_flow": null,
            "grid_auto_rows": null,
            "grid_column": null,
            "grid_gap": null,
            "grid_row": null,
            "grid_template_areas": null,
            "grid_template_columns": null,
            "grid_template_rows": null,
            "height": null,
            "justify_content": null,
            "justify_items": null,
            "left": null,
            "margin": null,
            "max_height": null,
            "max_width": null,
            "min_height": null,
            "min_width": null,
            "object_fit": null,
            "object_position": null,
            "order": null,
            "overflow": null,
            "overflow_x": null,
            "overflow_y": null,
            "padding": null,
            "right": null,
            "top": null,
            "visibility": "hidden",
            "width": "100%"
          }
        },
        "cd52aa1f8cc040ec94e427808f95619c": {
          "model_module": "@jupyter-widgets/base",
          "model_name": "LayoutModel",
          "model_module_version": "1.2.0",
          "state": {
            "_model_module": "@jupyter-widgets/base",
            "_model_module_version": "1.2.0",
            "_model_name": "LayoutModel",
            "_view_count": null,
            "_view_module": "@jupyter-widgets/base",
            "_view_module_version": "1.2.0",
            "_view_name": "LayoutView",
            "align_content": null,
            "align_items": null,
            "align_self": null,
            "border": null,
            "bottom": null,
            "display": null,
            "flex": null,
            "flex_flow": null,
            "grid_area": null,
            "grid_auto_columns": null,
            "grid_auto_flow": null,
            "grid_auto_rows": null,
            "grid_column": null,
            "grid_gap": null,
            "grid_row": null,
            "grid_template_areas": null,
            "grid_template_columns": null,
            "grid_template_rows": null,
            "height": null,
            "justify_content": null,
            "justify_items": null,
            "left": null,
            "margin": null,
            "max_height": null,
            "max_width": null,
            "min_height": null,
            "min_width": null,
            "object_fit": null,
            "object_position": null,
            "order": null,
            "overflow": null,
            "overflow_x": null,
            "overflow_y": null,
            "padding": null,
            "right": null,
            "top": null,
            "visibility": null,
            "width": null
          }
        },
        "02138fcce4b64374b6558885e9b71e14": {
          "model_module": "@jupyter-widgets/controls",
          "model_name": "DescriptionStyleModel",
          "model_module_version": "1.5.0",
          "state": {
            "_model_module": "@jupyter-widgets/controls",
            "_model_module_version": "1.5.0",
            "_model_name": "DescriptionStyleModel",
            "_view_count": null,
            "_view_module": "@jupyter-widgets/base",
            "_view_module_version": "1.2.0",
            "_view_name": "StyleView",
            "description_width": ""
          }
        },
        "b79d6c50f2754dc3bbc604b29b6883a8": {
          "model_module": "@jupyter-widgets/base",
          "model_name": "LayoutModel",
          "model_module_version": "1.2.0",
          "state": {
            "_model_module": "@jupyter-widgets/base",
            "_model_module_version": "1.2.0",
            "_model_name": "LayoutModel",
            "_view_count": null,
            "_view_module": "@jupyter-widgets/base",
            "_view_module_version": "1.2.0",
            "_view_name": "LayoutView",
            "align_content": null,
            "align_items": null,
            "align_self": null,
            "border": null,
            "bottom": null,
            "display": null,
            "flex": "2",
            "flex_flow": null,
            "grid_area": null,
            "grid_auto_columns": null,
            "grid_auto_flow": null,
            "grid_auto_rows": null,
            "grid_column": null,
            "grid_gap": null,
            "grid_row": null,
            "grid_template_areas": null,
            "grid_template_columns": null,
            "grid_template_rows": null,
            "height": null,
            "justify_content": null,
            "justify_items": null,
            "left": null,
            "margin": null,
            "max_height": null,
            "max_width": null,
            "min_height": null,
            "min_width": null,
            "object_fit": null,
            "object_position": null,
            "order": null,
            "overflow": null,
            "overflow_x": null,
            "overflow_y": null,
            "padding": null,
            "right": null,
            "top": null,
            "visibility": null,
            "width": null
          }
        },
        "63da5942205540f8a3e9724189800446": {
          "model_module": "@jupyter-widgets/controls",
          "model_name": "ProgressStyleModel",
          "model_module_version": "1.5.0",
          "state": {
            "_model_module": "@jupyter-widgets/controls",
            "_model_module_version": "1.5.0",
            "_model_name": "ProgressStyleModel",
            "_view_count": null,
            "_view_module": "@jupyter-widgets/base",
            "_view_module_version": "1.2.0",
            "_view_name": "StyleView",
            "bar_color": null,
            "description_width": ""
          }
        },
        "9206c6f789884c2f8dcc0cd6b5fc15d7": {
          "model_module": "@jupyter-widgets/base",
          "model_name": "LayoutModel",
          "model_module_version": "1.2.0",
          "state": {
            "_model_module": "@jupyter-widgets/base",
            "_model_module_version": "1.2.0",
            "_model_name": "LayoutModel",
            "_view_count": null,
            "_view_module": "@jupyter-widgets/base",
            "_view_module_version": "1.2.0",
            "_view_name": "LayoutView",
            "align_content": null,
            "align_items": null,
            "align_self": null,
            "border": null,
            "bottom": null,
            "display": null,
            "flex": null,
            "flex_flow": null,
            "grid_area": null,
            "grid_auto_columns": null,
            "grid_auto_flow": null,
            "grid_auto_rows": null,
            "grid_column": null,
            "grid_gap": null,
            "grid_row": null,
            "grid_template_areas": null,
            "grid_template_columns": null,
            "grid_template_rows": null,
            "height": null,
            "justify_content": null,
            "justify_items": null,
            "left": null,
            "margin": null,
            "max_height": null,
            "max_width": null,
            "min_height": null,
            "min_width": null,
            "object_fit": null,
            "object_position": null,
            "order": null,
            "overflow": null,
            "overflow_x": null,
            "overflow_y": null,
            "padding": null,
            "right": null,
            "top": null,
            "visibility": null,
            "width": null
          }
        },
        "0165880f9826445fbc6a4c2cfa4b8dae": {
          "model_module": "@jupyter-widgets/controls",
          "model_name": "DescriptionStyleModel",
          "model_module_version": "1.5.0",
          "state": {
            "_model_module": "@jupyter-widgets/controls",
            "_model_module_version": "1.5.0",
            "_model_name": "DescriptionStyleModel",
            "_view_count": null,
            "_view_module": "@jupyter-widgets/base",
            "_view_module_version": "1.2.0",
            "_view_name": "StyleView",
            "description_width": ""
          }
        },
        "7e3e0421f871469ba78ea530837733f2": {
          "model_module": "@jupyter-widgets/controls",
          "model_name": "HBoxModel",
          "model_module_version": "1.5.0",
          "state": {
            "_dom_classes": [],
            "_model_module": "@jupyter-widgets/controls",
            "_model_module_version": "1.5.0",
            "_model_name": "HBoxModel",
            "_view_count": null,
            "_view_module": "@jupyter-widgets/controls",
            "_view_module_version": "1.5.0",
            "_view_name": "HBoxView",
            "box_style": "",
            "children": [
              "IPY_MODEL_4d6ef9eb936141a4a1485e3abf45572e",
              "IPY_MODEL_e6a5ed81c4be4d6c8f6be3f387ab2f19",
              "IPY_MODEL_b45040da9f5a4cfd8d42d60dc41f8fc5"
            ],
            "layout": "IPY_MODEL_3f91d5f56dc0435b9e401a447ae2391c"
          }
        },
        "4d6ef9eb936141a4a1485e3abf45572e": {
          "model_module": "@jupyter-widgets/controls",
          "model_name": "HTMLModel",
          "model_module_version": "1.5.0",
          "state": {
            "_dom_classes": [],
            "_model_module": "@jupyter-widgets/controls",
            "_model_module_version": "1.5.0",
            "_model_name": "HTMLModel",
            "_view_count": null,
            "_view_module": "@jupyter-widgets/controls",
            "_view_module_version": "1.5.0",
            "_view_name": "HTMLView",
            "description": "",
            "description_tooltip": null,
            "layout": "IPY_MODEL_e68466d6738541e3b95feb67c9aa72d6",
            "placeholder": "​",
            "style": "IPY_MODEL_a785103db61a40b9888d07bcf4cdba63",
            "value": "Epoch 1:  69%"
          }
        },
        "e6a5ed81c4be4d6c8f6be3f387ab2f19": {
          "model_module": "@jupyter-widgets/controls",
          "model_name": "FloatProgressModel",
          "model_module_version": "1.5.0",
          "state": {
            "_dom_classes": [],
            "_model_module": "@jupyter-widgets/controls",
            "_model_module_version": "1.5.0",
            "_model_name": "FloatProgressModel",
            "_view_count": null,
            "_view_module": "@jupyter-widgets/controls",
            "_view_module_version": "1.5.0",
            "_view_name": "ProgressView",
            "bar_style": "",
            "description": "",
            "description_tooltip": null,
            "layout": "IPY_MODEL_563fa7c8619d4bc8aa55ee5404cb3dcc",
            "max": 144,
            "min": 0,
            "orientation": "horizontal",
            "style": "IPY_MODEL_32695631b19549fd90bbced4b91e5176",
            "value": 100
          }
        },
        "b45040da9f5a4cfd8d42d60dc41f8fc5": {
          "model_module": "@jupyter-widgets/controls",
          "model_name": "HTMLModel",
          "model_module_version": "1.5.0",
          "state": {
            "_dom_classes": [],
            "_model_module": "@jupyter-widgets/controls",
            "_model_module_version": "1.5.0",
            "_model_name": "HTMLModel",
            "_view_count": null,
            "_view_module": "@jupyter-widgets/controls",
            "_view_module_version": "1.5.0",
            "_view_name": "HTMLView",
            "description": "",
            "description_tooltip": null,
            "layout": "IPY_MODEL_884f3e39d95749c8b5f811b277af901c",
            "placeholder": "​",
            "style": "IPY_MODEL_4906be0d1a4f475098907c8c6cc47c05",
            "value": " 100/144 [00:15&lt;00:06,  6.50it/s, v_num=1, train_loss=0.00296, train_acc=1.000, val_loss=0.00607, val_acc=1.000]"
          }
        },
        "3f91d5f56dc0435b9e401a447ae2391c": {
          "model_module": "@jupyter-widgets/base",
          "model_name": "LayoutModel",
          "model_module_version": "1.2.0",
          "state": {
            "_model_module": "@jupyter-widgets/base",
            "_model_module_version": "1.2.0",
            "_model_name": "LayoutModel",
            "_view_count": null,
            "_view_module": "@jupyter-widgets/base",
            "_view_module_version": "1.2.0",
            "_view_name": "LayoutView",
            "align_content": null,
            "align_items": null,
            "align_self": null,
            "border": null,
            "bottom": null,
            "display": "inline-flex",
            "flex": null,
            "flex_flow": "row wrap",
            "grid_area": null,
            "grid_auto_columns": null,
            "grid_auto_flow": null,
            "grid_auto_rows": null,
            "grid_column": null,
            "grid_gap": null,
            "grid_row": null,
            "grid_template_areas": null,
            "grid_template_columns": null,
            "grid_template_rows": null,
            "height": null,
            "justify_content": null,
            "justify_items": null,
            "left": null,
            "margin": null,
            "max_height": null,
            "max_width": null,
            "min_height": null,
            "min_width": null,
            "object_fit": null,
            "object_position": null,
            "order": null,
            "overflow": null,
            "overflow_x": null,
            "overflow_y": null,
            "padding": null,
            "right": null,
            "top": null,
            "visibility": null,
            "width": "100%"
          }
        },
        "e68466d6738541e3b95feb67c9aa72d6": {
          "model_module": "@jupyter-widgets/base",
          "model_name": "LayoutModel",
          "model_module_version": "1.2.0",
          "state": {
            "_model_module": "@jupyter-widgets/base",
            "_model_module_version": "1.2.0",
            "_model_name": "LayoutModel",
            "_view_count": null,
            "_view_module": "@jupyter-widgets/base",
            "_view_module_version": "1.2.0",
            "_view_name": "LayoutView",
            "align_content": null,
            "align_items": null,
            "align_self": null,
            "border": null,
            "bottom": null,
            "display": null,
            "flex": null,
            "flex_flow": null,
            "grid_area": null,
            "grid_auto_columns": null,
            "grid_auto_flow": null,
            "grid_auto_rows": null,
            "grid_column": null,
            "grid_gap": null,
            "grid_row": null,
            "grid_template_areas": null,
            "grid_template_columns": null,
            "grid_template_rows": null,
            "height": null,
            "justify_content": null,
            "justify_items": null,
            "left": null,
            "margin": null,
            "max_height": null,
            "max_width": null,
            "min_height": null,
            "min_width": null,
            "object_fit": null,
            "object_position": null,
            "order": null,
            "overflow": null,
            "overflow_x": null,
            "overflow_y": null,
            "padding": null,
            "right": null,
            "top": null,
            "visibility": null,
            "width": null
          }
        },
        "a785103db61a40b9888d07bcf4cdba63": {
          "model_module": "@jupyter-widgets/controls",
          "model_name": "DescriptionStyleModel",
          "model_module_version": "1.5.0",
          "state": {
            "_model_module": "@jupyter-widgets/controls",
            "_model_module_version": "1.5.0",
            "_model_name": "DescriptionStyleModel",
            "_view_count": null,
            "_view_module": "@jupyter-widgets/base",
            "_view_module_version": "1.2.0",
            "_view_name": "StyleView",
            "description_width": ""
          }
        },
        "563fa7c8619d4bc8aa55ee5404cb3dcc": {
          "model_module": "@jupyter-widgets/base",
          "model_name": "LayoutModel",
          "model_module_version": "1.2.0",
          "state": {
            "_model_module": "@jupyter-widgets/base",
            "_model_module_version": "1.2.0",
            "_model_name": "LayoutModel",
            "_view_count": null,
            "_view_module": "@jupyter-widgets/base",
            "_view_module_version": "1.2.0",
            "_view_name": "LayoutView",
            "align_content": null,
            "align_items": null,
            "align_self": null,
            "border": null,
            "bottom": null,
            "display": null,
            "flex": "2",
            "flex_flow": null,
            "grid_area": null,
            "grid_auto_columns": null,
            "grid_auto_flow": null,
            "grid_auto_rows": null,
            "grid_column": null,
            "grid_gap": null,
            "grid_row": null,
            "grid_template_areas": null,
            "grid_template_columns": null,
            "grid_template_rows": null,
            "height": null,
            "justify_content": null,
            "justify_items": null,
            "left": null,
            "margin": null,
            "max_height": null,
            "max_width": null,
            "min_height": null,
            "min_width": null,
            "object_fit": null,
            "object_position": null,
            "order": null,
            "overflow": null,
            "overflow_x": null,
            "overflow_y": null,
            "padding": null,
            "right": null,
            "top": null,
            "visibility": null,
            "width": null
          }
        },
        "32695631b19549fd90bbced4b91e5176": {
          "model_module": "@jupyter-widgets/controls",
          "model_name": "ProgressStyleModel",
          "model_module_version": "1.5.0",
          "state": {
            "_model_module": "@jupyter-widgets/controls",
            "_model_module_version": "1.5.0",
            "_model_name": "ProgressStyleModel",
            "_view_count": null,
            "_view_module": "@jupyter-widgets/base",
            "_view_module_version": "1.2.0",
            "_view_name": "StyleView",
            "bar_color": null,
            "description_width": ""
          }
        },
        "884f3e39d95749c8b5f811b277af901c": {
          "model_module": "@jupyter-widgets/base",
          "model_name": "LayoutModel",
          "model_module_version": "1.2.0",
          "state": {
            "_model_module": "@jupyter-widgets/base",
            "_model_module_version": "1.2.0",
            "_model_name": "LayoutModel",
            "_view_count": null,
            "_view_module": "@jupyter-widgets/base",
            "_view_module_version": "1.2.0",
            "_view_name": "LayoutView",
            "align_content": null,
            "align_items": null,
            "align_self": null,
            "border": null,
            "bottom": null,
            "display": null,
            "flex": null,
            "flex_flow": null,
            "grid_area": null,
            "grid_auto_columns": null,
            "grid_auto_flow": null,
            "grid_auto_rows": null,
            "grid_column": null,
            "grid_gap": null,
            "grid_row": null,
            "grid_template_areas": null,
            "grid_template_columns": null,
            "grid_template_rows": null,
            "height": null,
            "justify_content": null,
            "justify_items": null,
            "left": null,
            "margin": null,
            "max_height": null,
            "max_width": null,
            "min_height": null,
            "min_width": null,
            "object_fit": null,
            "object_position": null,
            "order": null,
            "overflow": null,
            "overflow_x": null,
            "overflow_y": null,
            "padding": null,
            "right": null,
            "top": null,
            "visibility": null,
            "width": null
          }
        },
        "4906be0d1a4f475098907c8c6cc47c05": {
          "model_module": "@jupyter-widgets/controls",
          "model_name": "DescriptionStyleModel",
          "model_module_version": "1.5.0",
          "state": {
            "_model_module": "@jupyter-widgets/controls",
            "_model_module_version": "1.5.0",
            "_model_name": "DescriptionStyleModel",
            "_view_count": null,
            "_view_module": "@jupyter-widgets/base",
            "_view_module_version": "1.2.0",
            "_view_name": "StyleView",
            "description_width": ""
          }
        },
        "01498c56a19f4c3b857a52b3bd161b5e": {
          "model_module": "@jupyter-widgets/controls",
          "model_name": "HBoxModel",
          "model_module_version": "1.5.0",
          "state": {
            "_dom_classes": [],
            "_model_module": "@jupyter-widgets/controls",
            "_model_module_version": "1.5.0",
            "_model_name": "HBoxModel",
            "_view_count": null,
            "_view_module": "@jupyter-widgets/controls",
            "_view_module_version": "1.5.0",
            "_view_name": "HBoxView",
            "box_style": "",
            "children": [
              "IPY_MODEL_232756229e1c48979ad342dedc560c1b",
              "IPY_MODEL_58ccd6ee7b314a84940cabca1d8bea63",
              "IPY_MODEL_b5cd3cbe561646d287edc042bac00583"
            ],
            "layout": "IPY_MODEL_ce977106066047048442a95deffb4aae"
          }
        },
        "232756229e1c48979ad342dedc560c1b": {
          "model_module": "@jupyter-widgets/controls",
          "model_name": "HTMLModel",
          "model_module_version": "1.5.0",
          "state": {
            "_dom_classes": [],
            "_model_module": "@jupyter-widgets/controls",
            "_model_module_version": "1.5.0",
            "_model_name": "HTMLModel",
            "_view_count": null,
            "_view_module": "@jupyter-widgets/controls",
            "_view_module_version": "1.5.0",
            "_view_name": "HTMLView",
            "description": "",
            "description_tooltip": null,
            "layout": "IPY_MODEL_adc37a1f4a1544cf9cc51a2a3c9a1841",
            "placeholder": "​",
            "style": "IPY_MODEL_618fe951621249928d462ed0691b66ce",
            "value": "Validation DataLoader 0: 100%"
          }
        },
        "58ccd6ee7b314a84940cabca1d8bea63": {
          "model_module": "@jupyter-widgets/controls",
          "model_name": "FloatProgressModel",
          "model_module_version": "1.5.0",
          "state": {
            "_dom_classes": [],
            "_model_module": "@jupyter-widgets/controls",
            "_model_module_version": "1.5.0",
            "_model_name": "FloatProgressModel",
            "_view_count": null,
            "_view_module": "@jupyter-widgets/controls",
            "_view_module_version": "1.5.0",
            "_view_name": "ProgressView",
            "bar_style": "",
            "description": "",
            "description_tooltip": null,
            "layout": "IPY_MODEL_3f34903acdee469cb5bd5da0a434cec2",
            "max": 16,
            "min": 0,
            "orientation": "horizontal",
            "style": "IPY_MODEL_115e6c1a6549455eb4106efe474322b4",
            "value": 16
          }
        },
        "b5cd3cbe561646d287edc042bac00583": {
          "model_module": "@jupyter-widgets/controls",
          "model_name": "HTMLModel",
          "model_module_version": "1.5.0",
          "state": {
            "_dom_classes": [],
            "_model_module": "@jupyter-widgets/controls",
            "_model_module_version": "1.5.0",
            "_model_name": "HTMLModel",
            "_view_count": null,
            "_view_module": "@jupyter-widgets/controls",
            "_view_module_version": "1.5.0",
            "_view_name": "HTMLView",
            "description": "",
            "description_tooltip": null,
            "layout": "IPY_MODEL_139ee906990241e38f492c88f971d717",
            "placeholder": "​",
            "style": "IPY_MODEL_c24b345a316a4838806766dbc14a544a",
            "value": " 16/16 [00:01&lt;00:00, 12.65it/s]"
          }
        },
        "ce977106066047048442a95deffb4aae": {
          "model_module": "@jupyter-widgets/base",
          "model_name": "LayoutModel",
          "model_module_version": "1.2.0",
          "state": {
            "_model_module": "@jupyter-widgets/base",
            "_model_module_version": "1.2.0",
            "_model_name": "LayoutModel",
            "_view_count": null,
            "_view_module": "@jupyter-widgets/base",
            "_view_module_version": "1.2.0",
            "_view_name": "LayoutView",
            "align_content": null,
            "align_items": null,
            "align_self": null,
            "border": null,
            "bottom": null,
            "display": "inline-flex",
            "flex": null,
            "flex_flow": "row wrap",
            "grid_area": null,
            "grid_auto_columns": null,
            "grid_auto_flow": null,
            "grid_auto_rows": null,
            "grid_column": null,
            "grid_gap": null,
            "grid_row": null,
            "grid_template_areas": null,
            "grid_template_columns": null,
            "grid_template_rows": null,
            "height": null,
            "justify_content": null,
            "justify_items": null,
            "left": null,
            "margin": null,
            "max_height": null,
            "max_width": null,
            "min_height": null,
            "min_width": null,
            "object_fit": null,
            "object_position": null,
            "order": null,
            "overflow": null,
            "overflow_x": null,
            "overflow_y": null,
            "padding": null,
            "right": null,
            "top": null,
            "visibility": "hidden",
            "width": "100%"
          }
        },
        "adc37a1f4a1544cf9cc51a2a3c9a1841": {
          "model_module": "@jupyter-widgets/base",
          "model_name": "LayoutModel",
          "model_module_version": "1.2.0",
          "state": {
            "_model_module": "@jupyter-widgets/base",
            "_model_module_version": "1.2.0",
            "_model_name": "LayoutModel",
            "_view_count": null,
            "_view_module": "@jupyter-widgets/base",
            "_view_module_version": "1.2.0",
            "_view_name": "LayoutView",
            "align_content": null,
            "align_items": null,
            "align_self": null,
            "border": null,
            "bottom": null,
            "display": null,
            "flex": null,
            "flex_flow": null,
            "grid_area": null,
            "grid_auto_columns": null,
            "grid_auto_flow": null,
            "grid_auto_rows": null,
            "grid_column": null,
            "grid_gap": null,
            "grid_row": null,
            "grid_template_areas": null,
            "grid_template_columns": null,
            "grid_template_rows": null,
            "height": null,
            "justify_content": null,
            "justify_items": null,
            "left": null,
            "margin": null,
            "max_height": null,
            "max_width": null,
            "min_height": null,
            "min_width": null,
            "object_fit": null,
            "object_position": null,
            "order": null,
            "overflow": null,
            "overflow_x": null,
            "overflow_y": null,
            "padding": null,
            "right": null,
            "top": null,
            "visibility": null,
            "width": null
          }
        },
        "618fe951621249928d462ed0691b66ce": {
          "model_module": "@jupyter-widgets/controls",
          "model_name": "DescriptionStyleModel",
          "model_module_version": "1.5.0",
          "state": {
            "_model_module": "@jupyter-widgets/controls",
            "_model_module_version": "1.5.0",
            "_model_name": "DescriptionStyleModel",
            "_view_count": null,
            "_view_module": "@jupyter-widgets/base",
            "_view_module_version": "1.2.0",
            "_view_name": "StyleView",
            "description_width": ""
          }
        },
        "3f34903acdee469cb5bd5da0a434cec2": {
          "model_module": "@jupyter-widgets/base",
          "model_name": "LayoutModel",
          "model_module_version": "1.2.0",
          "state": {
            "_model_module": "@jupyter-widgets/base",
            "_model_module_version": "1.2.0",
            "_model_name": "LayoutModel",
            "_view_count": null,
            "_view_module": "@jupyter-widgets/base",
            "_view_module_version": "1.2.0",
            "_view_name": "LayoutView",
            "align_content": null,
            "align_items": null,
            "align_self": null,
            "border": null,
            "bottom": null,
            "display": null,
            "flex": "2",
            "flex_flow": null,
            "grid_area": null,
            "grid_auto_columns": null,
            "grid_auto_flow": null,
            "grid_auto_rows": null,
            "grid_column": null,
            "grid_gap": null,
            "grid_row": null,
            "grid_template_areas": null,
            "grid_template_columns": null,
            "grid_template_rows": null,
            "height": null,
            "justify_content": null,
            "justify_items": null,
            "left": null,
            "margin": null,
            "max_height": null,
            "max_width": null,
            "min_height": null,
            "min_width": null,
            "object_fit": null,
            "object_position": null,
            "order": null,
            "overflow": null,
            "overflow_x": null,
            "overflow_y": null,
            "padding": null,
            "right": null,
            "top": null,
            "visibility": null,
            "width": null
          }
        },
        "115e6c1a6549455eb4106efe474322b4": {
          "model_module": "@jupyter-widgets/controls",
          "model_name": "ProgressStyleModel",
          "model_module_version": "1.5.0",
          "state": {
            "_model_module": "@jupyter-widgets/controls",
            "_model_module_version": "1.5.0",
            "_model_name": "ProgressStyleModel",
            "_view_count": null,
            "_view_module": "@jupyter-widgets/base",
            "_view_module_version": "1.2.0",
            "_view_name": "StyleView",
            "bar_color": null,
            "description_width": ""
          }
        },
        "139ee906990241e38f492c88f971d717": {
          "model_module": "@jupyter-widgets/base",
          "model_name": "LayoutModel",
          "model_module_version": "1.2.0",
          "state": {
            "_model_module": "@jupyter-widgets/base",
            "_model_module_version": "1.2.0",
            "_model_name": "LayoutModel",
            "_view_count": null,
            "_view_module": "@jupyter-widgets/base",
            "_view_module_version": "1.2.0",
            "_view_name": "LayoutView",
            "align_content": null,
            "align_items": null,
            "align_self": null,
            "border": null,
            "bottom": null,
            "display": null,
            "flex": null,
            "flex_flow": null,
            "grid_area": null,
            "grid_auto_columns": null,
            "grid_auto_flow": null,
            "grid_auto_rows": null,
            "grid_column": null,
            "grid_gap": null,
            "grid_row": null,
            "grid_template_areas": null,
            "grid_template_columns": null,
            "grid_template_rows": null,
            "height": null,
            "justify_content": null,
            "justify_items": null,
            "left": null,
            "margin": null,
            "max_height": null,
            "max_width": null,
            "min_height": null,
            "min_width": null,
            "object_fit": null,
            "object_position": null,
            "order": null,
            "overflow": null,
            "overflow_x": null,
            "overflow_y": null,
            "padding": null,
            "right": null,
            "top": null,
            "visibility": null,
            "width": null
          }
        },
        "c24b345a316a4838806766dbc14a544a": {
          "model_module": "@jupyter-widgets/controls",
          "model_name": "DescriptionStyleModel",
          "model_module_version": "1.5.0",
          "state": {
            "_model_module": "@jupyter-widgets/controls",
            "_model_module_version": "1.5.0",
            "_model_name": "DescriptionStyleModel",
            "_view_count": null,
            "_view_module": "@jupyter-widgets/base",
            "_view_module_version": "1.2.0",
            "_view_name": "StyleView",
            "description_width": ""
          }
        },
        "6a3c605fdc7a47bfbaa1284406fe11de": {
          "model_module": "@jupyter-widgets/controls",
          "model_name": "HBoxModel",
          "model_module_version": "1.5.0",
          "state": {
            "_dom_classes": [],
            "_model_module": "@jupyter-widgets/controls",
            "_model_module_version": "1.5.0",
            "_model_name": "HBoxModel",
            "_view_count": null,
            "_view_module": "@jupyter-widgets/controls",
            "_view_module_version": "1.5.0",
            "_view_name": "HBoxView",
            "box_style": "",
            "children": [
              "IPY_MODEL_53cd3f1fcc7744bbb9accc31b889126f",
              "IPY_MODEL_340db81470214d80b3b6e33f8812f1d8",
              "IPY_MODEL_bbd19a388b2443a3912f56aa8f90463c"
            ],
            "layout": "IPY_MODEL_a31b27955572407198479855b0d185b3"
          }
        },
        "53cd3f1fcc7744bbb9accc31b889126f": {
          "model_module": "@jupyter-widgets/controls",
          "model_name": "HTMLModel",
          "model_module_version": "1.5.0",
          "state": {
            "_dom_classes": [],
            "_model_module": "@jupyter-widgets/controls",
            "_model_module_version": "1.5.0",
            "_model_name": "HTMLModel",
            "_view_count": null,
            "_view_module": "@jupyter-widgets/controls",
            "_view_module_version": "1.5.0",
            "_view_name": "HTMLView",
            "description": "",
            "description_tooltip": null,
            "layout": "IPY_MODEL_6672b011b82143c898a16a9e68015fbe",
            "placeholder": "​",
            "style": "IPY_MODEL_c86dbd4caf15496f8201e7f34de5c79f",
            "value": "Sanity Checking DataLoader 0:   0%"
          }
        },
        "340db81470214d80b3b6e33f8812f1d8": {
          "model_module": "@jupyter-widgets/controls",
          "model_name": "FloatProgressModel",
          "model_module_version": "1.5.0",
          "state": {
            "_dom_classes": [],
            "_model_module": "@jupyter-widgets/controls",
            "_model_module_version": "1.5.0",
            "_model_name": "FloatProgressModel",
            "_view_count": null,
            "_view_module": "@jupyter-widgets/controls",
            "_view_module_version": "1.5.0",
            "_view_name": "ProgressView",
            "bar_style": "",
            "description": "",
            "description_tooltip": null,
            "layout": "IPY_MODEL_73f28c088c61440d88f239fcd9bcdf79",
            "max": 2,
            "min": 0,
            "orientation": "horizontal",
            "style": "IPY_MODEL_ff8b180b381d4be7b317f78f9a87ef5b",
            "value": 0
          }
        },
        "bbd19a388b2443a3912f56aa8f90463c": {
          "model_module": "@jupyter-widgets/controls",
          "model_name": "HTMLModel",
          "model_module_version": "1.5.0",
          "state": {
            "_dom_classes": [],
            "_model_module": "@jupyter-widgets/controls",
            "_model_module_version": "1.5.0",
            "_model_name": "HTMLModel",
            "_view_count": null,
            "_view_module": "@jupyter-widgets/controls",
            "_view_module_version": "1.5.0",
            "_view_name": "HTMLView",
            "description": "",
            "description_tooltip": null,
            "layout": "IPY_MODEL_edcc1ab73aaf4ac090a04a6db3d03a89",
            "placeholder": "​",
            "style": "IPY_MODEL_5222b7426009468c919e6ba577c615d5",
            "value": " 0/2 [00:00&lt;?, ?it/s]"
          }
        },
        "a31b27955572407198479855b0d185b3": {
          "model_module": "@jupyter-widgets/base",
          "model_name": "LayoutModel",
          "model_module_version": "1.2.0",
          "state": {
            "_model_module": "@jupyter-widgets/base",
            "_model_module_version": "1.2.0",
            "_model_name": "LayoutModel",
            "_view_count": null,
            "_view_module": "@jupyter-widgets/base",
            "_view_module_version": "1.2.0",
            "_view_name": "LayoutView",
            "align_content": null,
            "align_items": null,
            "align_self": null,
            "border": null,
            "bottom": null,
            "display": "inline-flex",
            "flex": null,
            "flex_flow": "row wrap",
            "grid_area": null,
            "grid_auto_columns": null,
            "grid_auto_flow": null,
            "grid_auto_rows": null,
            "grid_column": null,
            "grid_gap": null,
            "grid_row": null,
            "grid_template_areas": null,
            "grid_template_columns": null,
            "grid_template_rows": null,
            "height": null,
            "justify_content": null,
            "justify_items": null,
            "left": null,
            "margin": null,
            "max_height": null,
            "max_width": null,
            "min_height": null,
            "min_width": null,
            "object_fit": null,
            "object_position": null,
            "order": null,
            "overflow": null,
            "overflow_x": null,
            "overflow_y": null,
            "padding": null,
            "right": null,
            "top": null,
            "visibility": null,
            "width": "100%"
          }
        },
        "6672b011b82143c898a16a9e68015fbe": {
          "model_module": "@jupyter-widgets/base",
          "model_name": "LayoutModel",
          "model_module_version": "1.2.0",
          "state": {
            "_model_module": "@jupyter-widgets/base",
            "_model_module_version": "1.2.0",
            "_model_name": "LayoutModel",
            "_view_count": null,
            "_view_module": "@jupyter-widgets/base",
            "_view_module_version": "1.2.0",
            "_view_name": "LayoutView",
            "align_content": null,
            "align_items": null,
            "align_self": null,
            "border": null,
            "bottom": null,
            "display": null,
            "flex": null,
            "flex_flow": null,
            "grid_area": null,
            "grid_auto_columns": null,
            "grid_auto_flow": null,
            "grid_auto_rows": null,
            "grid_column": null,
            "grid_gap": null,
            "grid_row": null,
            "grid_template_areas": null,
            "grid_template_columns": null,
            "grid_template_rows": null,
            "height": null,
            "justify_content": null,
            "justify_items": null,
            "left": null,
            "margin": null,
            "max_height": null,
            "max_width": null,
            "min_height": null,
            "min_width": null,
            "object_fit": null,
            "object_position": null,
            "order": null,
            "overflow": null,
            "overflow_x": null,
            "overflow_y": null,
            "padding": null,
            "right": null,
            "top": null,
            "visibility": null,
            "width": null
          }
        },
        "c86dbd4caf15496f8201e7f34de5c79f": {
          "model_module": "@jupyter-widgets/controls",
          "model_name": "DescriptionStyleModel",
          "model_module_version": "1.5.0",
          "state": {
            "_model_module": "@jupyter-widgets/controls",
            "_model_module_version": "1.5.0",
            "_model_name": "DescriptionStyleModel",
            "_view_count": null,
            "_view_module": "@jupyter-widgets/base",
            "_view_module_version": "1.2.0",
            "_view_name": "StyleView",
            "description_width": ""
          }
        },
        "73f28c088c61440d88f239fcd9bcdf79": {
          "model_module": "@jupyter-widgets/base",
          "model_name": "LayoutModel",
          "model_module_version": "1.2.0",
          "state": {
            "_model_module": "@jupyter-widgets/base",
            "_model_module_version": "1.2.0",
            "_model_name": "LayoutModel",
            "_view_count": null,
            "_view_module": "@jupyter-widgets/base",
            "_view_module_version": "1.2.0",
            "_view_name": "LayoutView",
            "align_content": null,
            "align_items": null,
            "align_self": null,
            "border": null,
            "bottom": null,
            "display": null,
            "flex": "2",
            "flex_flow": null,
            "grid_area": null,
            "grid_auto_columns": null,
            "grid_auto_flow": null,
            "grid_auto_rows": null,
            "grid_column": null,
            "grid_gap": null,
            "grid_row": null,
            "grid_template_areas": null,
            "grid_template_columns": null,
            "grid_template_rows": null,
            "height": null,
            "justify_content": null,
            "justify_items": null,
            "left": null,
            "margin": null,
            "max_height": null,
            "max_width": null,
            "min_height": null,
            "min_width": null,
            "object_fit": null,
            "object_position": null,
            "order": null,
            "overflow": null,
            "overflow_x": null,
            "overflow_y": null,
            "padding": null,
            "right": null,
            "top": null,
            "visibility": null,
            "width": null
          }
        },
        "ff8b180b381d4be7b317f78f9a87ef5b": {
          "model_module": "@jupyter-widgets/controls",
          "model_name": "ProgressStyleModel",
          "model_module_version": "1.5.0",
          "state": {
            "_model_module": "@jupyter-widgets/controls",
            "_model_module_version": "1.5.0",
            "_model_name": "ProgressStyleModel",
            "_view_count": null,
            "_view_module": "@jupyter-widgets/base",
            "_view_module_version": "1.2.0",
            "_view_name": "StyleView",
            "bar_color": null,
            "description_width": ""
          }
        },
        "edcc1ab73aaf4ac090a04a6db3d03a89": {
          "model_module": "@jupyter-widgets/base",
          "model_name": "LayoutModel",
          "model_module_version": "1.2.0",
          "state": {
            "_model_module": "@jupyter-widgets/base",
            "_model_module_version": "1.2.0",
            "_model_name": "LayoutModel",
            "_view_count": null,
            "_view_module": "@jupyter-widgets/base",
            "_view_module_version": "1.2.0",
            "_view_name": "LayoutView",
            "align_content": null,
            "align_items": null,
            "align_self": null,
            "border": null,
            "bottom": null,
            "display": null,
            "flex": null,
            "flex_flow": null,
            "grid_area": null,
            "grid_auto_columns": null,
            "grid_auto_flow": null,
            "grid_auto_rows": null,
            "grid_column": null,
            "grid_gap": null,
            "grid_row": null,
            "grid_template_areas": null,
            "grid_template_columns": null,
            "grid_template_rows": null,
            "height": null,
            "justify_content": null,
            "justify_items": null,
            "left": null,
            "margin": null,
            "max_height": null,
            "max_width": null,
            "min_height": null,
            "min_width": null,
            "object_fit": null,
            "object_position": null,
            "order": null,
            "overflow": null,
            "overflow_x": null,
            "overflow_y": null,
            "padding": null,
            "right": null,
            "top": null,
            "visibility": null,
            "width": null
          }
        },
        "5222b7426009468c919e6ba577c615d5": {
          "model_module": "@jupyter-widgets/controls",
          "model_name": "DescriptionStyleModel",
          "model_module_version": "1.5.0",
          "state": {
            "_model_module": "@jupyter-widgets/controls",
            "_model_module_version": "1.5.0",
            "_model_name": "DescriptionStyleModel",
            "_view_count": null,
            "_view_module": "@jupyter-widgets/base",
            "_view_module_version": "1.2.0",
            "_view_name": "StyleView",
            "description_width": ""
          }
        }
      }
    }
  },
  "cells": [
    {
      "cell_type": "markdown",
      "metadata": {
        "id": "view-in-github",
        "colab_type": "text"
      },
      "source": [
        "<a href=\"https://colab.research.google.com/github/gg-dema/geometric-algebraic-transformer/blob/main/GATr_completed_baseline.ipynb\" target=\"_parent\"><img src=\"https://colab.research.google.com/assets/colab-badge.svg\" alt=\"Open In Colab\"/></a>"
      ]
    },
    {
      "cell_type": "markdown",
      "source": [
        "#Mount Drive"
      ],
      "metadata": {
        "id": "klb2G6igbqpy"
      }
    },
    {
      "cell_type": "code",
      "execution_count": 1,
      "metadata": {
        "colab": {
          "base_uri": "https://localhost:8080/"
        },
        "id": "0FsZIdrjU3xL",
        "outputId": "6c543c97-68d8-4e84-fd40-9a6e21cf7124"
      },
      "outputs": [
        {
          "output_type": "stream",
          "name": "stdout",
          "text": [
            "Mounted at /content/drive\n"
          ]
        }
      ],
      "source": [
        "from google.colab import drive  #import drive from google colab\n",
        "from pydrive2.auth import GoogleAuth\n",
        "from pydrive2.drive import GoogleDrive\n",
        "from google.colab import auth\n",
        "from oauth2client.client import GoogleCredentials\n",
        "\n",
        "ROOT = \"/content/drive\"         #location for the drive\n",
        "\n",
        "drive.mount(ROOT)\n",
        "\n",
        "auth.authenticate_user()\n",
        "gauth = GoogleAuth()\n",
        "gauth.credentials = GoogleCredentials.get_application_default()\n",
        "drive = GoogleDrive(gauth)"
      ]
    },
    {
      "cell_type": "code",
      "source": [
        "%cd ./drive/MyDrive//deep/"
      ],
      "metadata": {
        "colab": {
          "base_uri": "https://localhost:8080/"
        },
        "id": "nhxXgMBkaYrB",
        "outputId": "8009dd3e-58fb-445c-bd5d-7844954a6855"
      },
      "execution_count": 2,
      "outputs": [
        {
          "output_type": "stream",
          "name": "stdout",
          "text": [
            "/content/drive/MyDrive/deep\n"
          ]
        }
      ]
    },
    {
      "cell_type": "markdown",
      "source": [
        "#Set up required packages"
      ],
      "metadata": {
        "id": "kU571SbBdg6c"
      }
    },
    {
      "cell_type": "code",
      "source": [
        "!pip install einops optuna pytorch_lightning wget --quiet"
      ],
      "metadata": {
        "id": "Xa89f7FoSy0_",
        "colab": {
          "base_uri": "https://localhost:8080/"
        },
        "outputId": "f4a1430d-d420-4d28-b2f9-07a401387f6d"
      },
      "execution_count": 3,
      "outputs": [
        {
          "output_type": "stream",
          "name": "stdout",
          "text": [
            "\u001b[2K     \u001b[90m━━━━━━━━━━━━━━━━━━━━━━━━━━━━━━━━━━━━━━━━\u001b[0m \u001b[32m43.2/43.2 kB\u001b[0m \u001b[31m1.4 MB/s\u001b[0m eta \u001b[36m0:00:00\u001b[0m\n",
            "\u001b[2K     \u001b[90m━━━━━━━━━━━━━━━━━━━━━━━━━━━━━━━━━━━━━━━━\u001b[0m \u001b[32m380.1/380.1 kB\u001b[0m \u001b[31m9.5 MB/s\u001b[0m eta \u001b[36m0:00:00\u001b[0m\n",
            "\u001b[2K     \u001b[90m━━━━━━━━━━━━━━━━━━━━━━━━━━━━━━━━━━━━━━━━\u001b[0m \u001b[32m812.2/812.2 kB\u001b[0m \u001b[31m38.0 MB/s\u001b[0m eta \u001b[36m0:00:00\u001b[0m\n",
            "\u001b[?25h  Preparing metadata (setup.py) ... \u001b[?25l\u001b[?25hdone\n",
            "\u001b[2K     \u001b[90m━━━━━━━━━━━━━━━━━━━━━━━━━━━━━━━━━━━━━━━━\u001b[0m \u001b[32m233.4/233.4 kB\u001b[0m \u001b[31m21.8 MB/s\u001b[0m eta \u001b[36m0:00:00\u001b[0m\n",
            "\u001b[2K     \u001b[90m━━━━━━━━━━━━━━━━━━━━━━━━━━━━━━━━━━━━━━━━\u001b[0m \u001b[32m868.8/868.8 kB\u001b[0m \u001b[31m44.3 MB/s\u001b[0m eta \u001b[36m0:00:00\u001b[0m\n",
            "\u001b[2K     \u001b[90m━━━━━━━━━━━━━━━━━━━━━━━━━━━━━━━━━━━━━━━━\u001b[0m \u001b[32m78.6/78.6 kB\u001b[0m \u001b[31m5.6 MB/s\u001b[0m eta \u001b[36m0:00:00\u001b[0m\n",
            "\u001b[2K     \u001b[90m━━━━━━━━━━━━━━━━━━━━━━━━━━━━━━━━━━━━━━━━\u001b[0m \u001b[32m21.3/21.3 MB\u001b[0m \u001b[31m59.3 MB/s\u001b[0m eta \u001b[36m0:00:00\u001b[0m\n",
            "\u001b[?25h  Building wheel for wget (setup.py) ... \u001b[?25l\u001b[?25hdone\n"
          ]
        }
      ]
    },
    {
      "cell_type": "markdown",
      "source": [
        "Import required libraries"
      ],
      "metadata": {
        "id": "G8en83Vsbb7u"
      }
    },
    {
      "cell_type": "code",
      "source": [
        "import random\n",
        "import h5py\n",
        "import numpy as np\n",
        "import torch\n",
        "import torch.nn as nn\n",
        "import os\n",
        "import re\n",
        "from pathlib import Path\n",
        "import tqdm\n",
        "import glob\n",
        "import h5py\n",
        "from torch.optim.lr_scheduler import ExponentialLR\n",
        "from torch.nn.functional import scaled_dot_product_attention\n",
        "import matplotlib.pyplot as plt\n",
        "from torch.utils.data import Dataset, DataLoader, random_split\n",
        "import pytorch_lightning as pl\n",
        "from pytorch_lightning import LightningModule\n",
        "from collections import defaultdict\n",
        "import wget\n",
        "import torchmetrics\n",
        "from einops import rearrange\n",
        "import optuna\n",
        "from pytorch_lightning.loggers import TensorBoardLogger\n",
        "from pytorch_lightning.callbacks.progress import TQDMProgressBar\n",
        "from pytorch_lightning.callbacks import ModelCheckpoint"
      ],
      "metadata": {
        "id": "mWGI5h00m9ic"
      },
      "execution_count": 4,
      "outputs": []
    },
    {
      "cell_type": "markdown",
      "source": [
        "#Set GPU device"
      ],
      "metadata": {
        "id": "yACYnqJK6kIS"
      }
    },
    {
      "cell_type": "code",
      "source": [
        "device = torch.device(\"cuda\" if torch.cuda.is_available() else \"cpu\")"
      ],
      "metadata": {
        "id": "UDUrpGw_NuC_"
      },
      "execution_count": 5,
      "outputs": []
    },
    {
      "cell_type": "markdown",
      "source": [
        "#Define utils"
      ],
      "metadata": {
        "id": "NU_JcXi8f1-n"
      }
    },
    {
      "cell_type": "markdown",
      "source": [
        "##Data Investigation"
      ],
      "metadata": {
        "id": "1X5mwp3igD6z"
      }
    },
    {
      "cell_type": "code",
      "source": [
        "def check_hdf5_samples(file):\n",
        "    sample_indices = []\n",
        "    num_groups = 0\n",
        "    def collect_sample_indices(name, obj):\n",
        "        if isinstance(obj, h5py.Group):\n",
        "            match = re.match(r'sample_(\\d{4})', name)\n",
        "            if match:\n",
        "                try:\n",
        "                    sample_number = int(match.group(1))\n",
        "                    sample_indices.append(sample_number)\n",
        "                except ValueError:\n",
        "                    pass\n",
        "    def count_groups(name, obj):\n",
        "        nonlocal num_groups\n",
        "        if isinstance(obj, h5py.Group):\n",
        "            match = re.match(r'sample_\\d{4}', name)\n",
        "            if match:\n",
        "                num_groups += 1\n",
        "\n",
        "    with h5py.File(file, \"r\") as f:\n",
        "        f.visititems(count_groups)\n",
        "        f.visititems(collect_sample_indices)\n",
        "\n",
        "    sample_indices.sort()\n",
        "    min_index = sample_indices[0] if sample_indices else None\n",
        "    max_index = sample_indices[-1] if sample_indices else None\n",
        "\n",
        "    if min_index is not None and max_index is not None:\n",
        "        missing_indices = [i for i in range(min_index, max_index + 1) if i not in sample_indices]\n",
        "        repeated_indices = {i for i in sample_indices if sample_indices.count(i) > 1}\n",
        "    else:\n",
        "        missing_indices = []\n",
        "        repeated_indices = []\n",
        "\n",
        "    # Print results\n",
        "    print(f\"Sample Indices: {sample_indices}\")\n",
        "    print(f\"Missing Indices: {missing_indices}\")\n",
        "    print(f\"Repeated Indices: {sorted(repeated_indices)}\")\n",
        "    print(f\"Number of Groups: {num_groups}\")\n"
      ],
      "metadata": {
        "id": "5sHPw7EUghWN"
      },
      "execution_count": 6,
      "outputs": []
    },
    {
      "cell_type": "code",
      "source": [
        "def check_hdf5_structure(file, start_sample=None, end_sample=None):\n",
        "    def print_hdf5_item(name, obj):\n",
        "        if isinstance(obj, h5py.Dataset):\n",
        "            print(name, \":\", obj.shape)\n",
        "        elif isinstance(obj, h5py.Group):\n",
        "            print(\"\\n\")\n",
        "            print(name, \"(Group)\")\n",
        "            for key in obj.keys():\n",
        "                print_hdf5_item(name + \"/\" + key, obj[key])\n",
        "\n",
        "    with h5py.File(file, \"r\") as f:\n",
        "        for key in f.keys():\n",
        "            if 'sample_' in key:\n",
        "                try:\n",
        "                    sample_number = int(key.split('_')[1])\n",
        "                    if (start_sample is None or sample_number >= start_sample) and \\\n",
        "                       (end_sample is None or sample_number <= end_sample):\n",
        "                        print_hdf5_item(key, f[key])\n",
        "                except ValueError:\n",
        "                    pass"
      ],
      "metadata": {
        "id": "w81XqUTgf54J"
      },
      "execution_count": 7,
      "outputs": []
    },
    {
      "cell_type": "code",
      "source": [
        "def extract_and_print_global_stats(file):\n",
        "    stats = defaultdict(lambda: defaultdict(dict))\n",
        "\n",
        "    def collect_stats(name, obj):\n",
        "        if isinstance(obj, h5py.Dataset):\n",
        "            if 'wss' in name or 'pressure' in name:\n",
        "                data = obj[:]\n",
        "                dataset_name = name.split('/')[-1]\n",
        "                stats[dataset_name]['min'] = np.min(data)\n",
        "                stats[dataset_name]['max'] = np.max(data)\n",
        "                stats[dataset_name]['mean'] = np.mean(data)\n",
        "                stats[dataset_name]['std'] = np.std(data)\n",
        "\n",
        "    with h5py.File(file, \"r\") as f:\n",
        "        f.visititems(collect_stats)\n",
        "\n",
        "    print(f\"\\nStatistics for {file}:\")\n",
        "    for dataset_name, data in stats.items():\n",
        "        print(f\"\\nDataset: {dataset_name}\")\n",
        "        print(f\"  Min: {data['min']}\")\n",
        "        print(f\"  Max: {data['max']}\")\n",
        "        print(f\"  Mean: {data['mean']}\")\n",
        "        print(f\"  Standard Deviation: {data['std']}\")"
      ],
      "metadata": {
        "id": "tXeB3o4mkUZ5"
      },
      "execution_count": 8,
      "outputs": []
    },
    {
      "cell_type": "code",
      "source": [
        "def extract_and_plot_sample_stats(file1, file2):\n",
        "    def extract_sample_stats(file):\n",
        "        sample_stats = []\n",
        "\n",
        "        def collect_stats(name, obj):\n",
        "            if isinstance(obj, h5py.Group):\n",
        "                if 'pressure' in obj and 'wss' in obj:\n",
        "                    pressure_data = obj['pressure'][:]\n",
        "                    wss_data = obj['wss'][:]\n",
        "                    mean_pressure = np.mean(pressure_data)\n",
        "                    max_wss = np.max(wss_data)\n",
        "                    min_wss = np.min(wss_data)\n",
        "                    sample_stats.append((mean_pressure, max_wss, min_wss))\n",
        "\n",
        "        with h5py.File(file, \"r\") as f:\n",
        "            f.visititems(collect_stats)\n",
        "\n",
        "        return sample_stats\n",
        "\n",
        "    single_sample_stats = extract_sample_stats(file1)\n",
        "    bifurcating_sample_stats = extract_sample_stats(file2)\n",
        "\n",
        "    all_stats = single_sample_stats + bifurcating_sample_stats\n",
        "    all_stats_np = np.array(all_stats)\n",
        "\n",
        "    mean_pressure_mean = np.mean(all_stats_np[:, 0])\n",
        "    mean_pressure_std = np.std(all_stats_np[:, 0])\n",
        "    max_wss_mean = np.mean(all_stats_np[:, 1])\n",
        "    max_wss_std = np.std(all_stats_np[:, 1])\n",
        "    min_wss_mean = np.mean(all_stats_np[:, 2])\n",
        "    min_wss_std = np.std(all_stats_np[:, 2])\n",
        "\n",
        "    def standardize(stats):\n",
        "        stats_np = np.array(stats)\n",
        "        standardized_mean_pressure = (stats_np[:, 0] - mean_pressure_mean) / mean_pressure_std\n",
        "        standardized_max_wss = (stats_np[:, 1] - max_wss_mean) / max_wss_std\n",
        "        standardized_min_wss = (stats_np[:, 2] - min_wss_mean) / min_wss_std\n",
        "        standardized_stats = np.vstack((standardized_mean_pressure, standardized_max_wss, standardized_min_wss)).T\n",
        "\n",
        "        # Normalize each vector to have unitary norm\n",
        "        norms = np.linalg.norm(standardized_stats, axis=1)\n",
        "        normalized_stats = standardized_stats / norms[:, np.newaxis]\n",
        "        return normalized_stats\n",
        "\n",
        "    single_stats_std = standardize(single_sample_stats)\n",
        "    bifurcating_stats_std = standardize(bifurcating_sample_stats)\n",
        "\n",
        "    fig = plt.figure(figsize=(10, 6))\n",
        "    ax = fig.add_subplot(111, projection='3d')\n",
        "\n",
        "    ax.scatter(single_stats_std[:, 0], single_stats_std[:, 1], single_stats_std[:, 2], color='blue', label='Single', alpha=0.6)\n",
        "    ax.scatter(bifurcating_stats_std[:, 0], bifurcating_stats_std[:, 1], bifurcating_stats_std[:, 2], color='red', label='Bifurcating', alpha=0.6)\n",
        "\n",
        "    ax.set_xlabel('Mean Pressure')\n",
        "    ax.set_ylabel('Max WSS')\n",
        "    ax.set_zlabel('Min WSS')\n",
        "    ax.set_title('Mean Pressure, Max WSS, and Min WSS for Each Sample (Unitary Norm)')\n",
        "    ax.legend()\n",
        "    ax.grid(True)\n",
        "\n",
        "    plt.show()\n"
      ],
      "metadata": {
        "id": "xQzAMpjTScW5"
      },
      "execution_count": 9,
      "outputs": []
    },
    {
      "cell_type": "code",
      "source": [
        "extract_and_plot_sample_stats('single.hdf5','bifurcating.hdf5')"
      ],
      "metadata": {
        "colab": {
          "base_uri": "https://localhost:8080/",
          "height": 54
        },
        "id": "dGlOz18WShY8",
        "outputId": "204c2c6b-5026-4990-8446-2e4cbe80decb"
      },
      "execution_count": 10,
      "outputs": [
        {
          "output_type": "display_data",
          "data": {
            "text/plain": [
              "<Figure size 1000x600 with 1 Axes>"
            ],
            "image/png": "[encoded data removed]"
          },
          "metadata": {}
        }
      ]
    },
    {
      "cell_type": "markdown",
      "source": [
        "##Data Preprocessing"
      ],
      "metadata": {
        "id": "w7M1cY9mysoO"
      }
    },
    {
      "cell_type": "code",
      "source": [
        "def preprocess_3d_hdf5_file(file):\n",
        "    \"\"\"\n",
        "    This function computes the mean pressure and max WSS of each sample of the\n",
        "    file, standardizes the features, and adds a label. It returns a tensor with\n",
        "    shape (num_samples, 3) where col1 is for standardized max WSS, col2 is for\n",
        "    standardized mean pressure, col3 is for the label.\n",
        "    \"\"\"\n",
        "    total_list = []\n",
        "\n",
        "    with h5py.File(file, 'r') as f:\n",
        "        sample_keys = [key for key in f.keys() if key.startswith(\"sample_\")]\n",
        "\n",
        "        for sample_key in sample_keys:\n",
        "            wss = torch.from_numpy(f[sample_key]['wss'][()])\n",
        "            pressure = torch.from_numpy(f[sample_key]['pressure'][()])\n",
        "            total_list.append([wss, pressure])\n",
        "\n",
        "    # Create the tensor with standardized features\n",
        "    pre_mv_tensor = torch.zeros(len(total_list), 50, 3)\n",
        "\n",
        "    # Calculate the standardized features for max WSS, min WSS, and median-proximity pressure\n",
        "    max_wss_values = []\n",
        "    min_wss_values = []\n",
        "    median_proximity_pressure_values = []\n",
        "\n",
        "    for i, sample in enumerate(total_list):\n",
        "        wss_sorted = torch.sort(sample[0].flatten(), descending=True)[0]\n",
        "        top_50_max_wss = wss_sorted[:50]\n",
        "\n",
        "        min_wss_sorted = torch.sort(sample[0].flatten(), descending=False)[0]\n",
        "        top_50_min_wss = min_wss_sorted[:50]\n",
        "\n",
        "        median_pressure = torch.median(sample[1].flatten())\n",
        "        pressure_sorted_by_distance = torch.sort(torch.abs(sample[1].flatten() - median_pressure))[0]\n",
        "        top_50_closest_to_median = pressure_sorted_by_distance[:50]\n",
        "\n",
        "        pre_mv_tensor[i, :, 0] = top_50_max_wss\n",
        "        pre_mv_tensor[i, :, 1] = top_50_closest_to_median\n",
        "        pre_mv_tensor[i, :, 2] = top_50_min_wss\n",
        "\n",
        "    print(\"Number of samples processed:\", len(sample_keys))\n",
        "\n",
        "    return pre_mv_tensor\n"
      ],
      "metadata": {
        "id": "ANyRQjvzTW6Q"
      },
      "execution_count": 11,
      "outputs": []
    },
    {
      "cell_type": "markdown",
      "source": [
        "##Geometric Algebra Embedding\n"
      ],
      "metadata": {
        "id": "CxArAer9tYJU"
      }
    },
    {
      "cell_type": "code",
      "source": [
        "def scalar_to_mv(tensor):\n",
        "    \"\"\"\n",
        "    This function embeds a tensor of scalars with shape (n_items, ) in the\n",
        "    geometric algebra.\n",
        "    \"\"\"\n",
        "    n_items = tensor.shape[0]\n",
        "    n_columns = tensor.shape[1]\n",
        "\n",
        "    reshaped_tensor = tensor.reshape(n_items, n_columns, 1)\n",
        "\n",
        "    mv_shape = (n_items, n_columns, 16)\n",
        "    mv = torch.zeros(mv_shape)\n",
        "\n",
        "    mv[..., 0] = reshaped_tensor[..., 0]\n",
        "\n",
        "    return mv"
      ],
      "metadata": {
        "id": "RX0BYRtULLtE"
      },
      "execution_count": 12,
      "outputs": []
    },
    {
      "cell_type": "code",
      "source": [
        "def get_vector_mv(tensor):\n",
        "    \"\"\"\n",
        "    Embed the (n_items,3) position vector in geometric algebra\n",
        "\n",
        "    Args:\n",
        "        pos (torch.Tensor): Input position tensor.\n",
        "\n",
        "    Returns:\n",
        "        (torch.Tensor): Embed of the position vector in geometric algebra\n",
        "    \"\"\"\n",
        "    n_items, n_values, dimension = tensor.shape\n",
        "\n",
        "    # The reshape is necessary so that columns related to x,y,z\n",
        "    # coordinates can be taken separately\n",
        "    reshaped_tensor = tensor.reshape(n_items, n_values, dimension)\n",
        "    #print(reshaped_tensor.shape)\n",
        "    #mv_shape = reshaped_tensor.shape[:2]\n",
        "    mv = torch.zeros(n_items, n_values, 16)\n",
        "\n",
        "    mv[..., 14] = 1 # homogeneous coordinates\n",
        "    mv[..., 11] = reshaped_tensor[..., 0] # x-coordinate of pos\n",
        "    mv[..., 12] = reshaped_tensor[..., 1] # y-coordinate of pos\n",
        "    mv[..., 13] = reshaped_tensor[..., 2] # z-coordinate of pos\n",
        "\n",
        "    return mv"
      ],
      "metadata": {
        "id": "zhtV61zcC75-"
      },
      "execution_count": 13,
      "outputs": []
    },
    {
      "cell_type": "markdown",
      "source": [
        "##Geometric Algebra Operators"
      ],
      "metadata": {
        "id": "RhF8_ijLye0j"
      }
    },
    {
      "cell_type": "markdown",
      "source": [
        "###Blade operator"
      ],
      "metadata": {
        "id": "1wjNCbkSySTj"
      }
    },
    {
      "cell_type": "code",
      "source": [
        "grade_components = [1,4,6,4,1]"
      ],
      "metadata": {
        "id": "yOLWQhg0WhdP"
      },
      "execution_count": 14,
      "outputs": []
    },
    {
      "cell_type": "code",
      "source": [
        "def blade_operator():\n",
        "    \"\"\"\n",
        "    Generates a blade operator matrix for the geometric algebra\n",
        "\n",
        "    Args:\n",
        "        None\n",
        "\n",
        "    Returns:\n",
        "        (torch.Tensor): Blade operator matrix.\n",
        "    \"\"\"\n",
        "\n",
        "    mv_dimension = 16\n",
        "    blade_shape = (mv_dimension,mv_dimension)\n",
        "\n",
        "    coordinates = []\n",
        "    start = 0\n",
        "    for length in grade_components:\n",
        "        coordinates.append(list(range(start, start + length)))\n",
        "        start += length\n",
        "\n",
        "    coord_permutations = [\n",
        "        [[0,1]],\n",
        "        [[2,5],[3,6],[4,7]],\n",
        "        [[8,11],[9,12],[10,13]],\n",
        "        [[14,15]]\n",
        "     ]\n",
        "    blade_mask = []\n",
        "\n",
        "    w_dimension = len(grade_components)\n",
        "    for k_grade in range(w_dimension):\n",
        "        w_blade = torch.zeros(blade_shape)\n",
        "        for coordinate in coordinates[k_grade]:\n",
        "            w_blade[coordinate, coordinate] = 1.0\n",
        "        blade_mask.append(w_blade.unsqueeze(0))\n",
        "\n",
        "    v_dimension = len(grade_components) - 1\n",
        "    for k_grade in range(v_dimension):\n",
        "        v_blade = torch.zeros(blade_shape)\n",
        "        for coord_to,coord_from in coord_permutations[k_grade]:\n",
        "            v_blade[coord_from, coord_to] = 1.0\n",
        "        blade_mask.append(v_blade.unsqueeze(0))\n",
        "\n",
        "    blade_operator = torch.cat(blade_mask,dim = 0)\n",
        "\n",
        "    return blade_operator"
      ],
      "metadata": {
        "id": "7rOxv5btWG-E"
      },
      "execution_count": 15,
      "outputs": []
    },
    {
      "cell_type": "markdown",
      "source": [
        "###Reverse operator"
      ],
      "metadata": {
        "id": "qvlz_kQQ2QZ4"
      }
    },
    {
      "cell_type": "code",
      "source": [
        "def get_coordinates_range():\n",
        "    \"\"\"\n",
        "    Get the ranges of coordinates for each grade based on the configuration in `global_var`.\n",
        "\n",
        "    Args:\n",
        "        None\n",
        "\n",
        "    Returns:\n",
        "        (List[List[int]]): List of coordinate ranges for each grade.\n",
        "    \"\"\"\n",
        "    coordinates_range = []\n",
        "\n",
        "    for grade in range(len(grade_components)):\n",
        "        start_idx = sum(grade_components[:grade])\n",
        "        end_idx = sum(grade_components[:grade + 1]) - 1\n",
        "        coordinate_range = [start_idx,end_idx]\n",
        "        coordinates_range.append(coordinate_range)\n",
        "\n",
        "    return coordinates_range"
      ],
      "metadata": {
        "id": "5ReZM5Z3Zbeh"
      },
      "execution_count": 16,
      "outputs": []
    },
    {
      "cell_type": "code",
      "source": [
        "def reverse_operator():\n",
        "    \"\"\"\n",
        "    Generate a reverse operator for the given multivector configuration.\n",
        "\n",
        "    Args:\n",
        "        None\n",
        "\n",
        "    Returns:\n",
        "        (torch.Tensor): Reverse operator for the multivector space.\n",
        "    \"\"\"\n",
        "\n",
        "    reverse_operator = torch.ones(16)\n",
        "    *_, bivector_range, trivector_range, _ = get_coordinates_range()\n",
        "\n",
        "    reverse_range = list(\n",
        "        range(\n",
        "            bivector_range[0],\n",
        "            trivector_range[-1] + 1\n",
        "         )\n",
        "     )\n",
        "\n",
        "    reverse_operator[reverse_range] = -1\n",
        "\n",
        "    return reverse_operator.to(device)"
      ],
      "metadata": {
        "id": "PJzfBMzZZnX8"
      },
      "execution_count": 17,
      "outputs": []
    },
    {
      "cell_type": "markdown",
      "source": [
        "###Geometric product"
      ],
      "metadata": {
        "id": "SHKpajtQTdBo"
      }
    },
    {
      "cell_type": "code",
      "source": [
        "link = \"https://drive.google.com/uc?export=download&id=1cDI0Eh6hBpHQdE55-Ke0XSpUxcVu0SO9\""
      ],
      "metadata": {
        "id": "5yEFmBIISCXk"
      },
      "execution_count": 18,
      "outputs": []
    },
    {
      "cell_type": "code",
      "source": [
        "def get_guidance_matrix():\n",
        "    \"\"\"\n",
        "    Fetches and loads the guidance matrix from a specified URL,\n",
        "    saving it locally if not already present.\n",
        "\n",
        "    Returns:\n",
        "        (torch.Tensor): A tensor representing the guidance matrix.\n",
        "    \"\"\"\n",
        "    if not os.path.exists(\"guidance_matrix.pt\"):\n",
        "        matrix_url = link#prefix + global_var['guidance_id']\n",
        "        matrix_file = wget.download(matrix_url)\n",
        "\n",
        "    guidance_matrix = product_basis = torch.load(\"guidance_matrix.pt\")\n",
        "    guidance_matrix = guidance_matrix.to(torch.float32)\n",
        "    guidance_matrix = guidance_matrix.to_dense()\n",
        "\n",
        "    return guidance_matrix"
      ],
      "metadata": {
        "id": "er5v5j5UQu51"
      },
      "execution_count": 19,
      "outputs": []
    },
    {
      "cell_type": "code",
      "source": [
        "def geometric_product(x,y):\n",
        "    \"\"\"\n",
        "    Computes the geometric product of two multivectors using the guidance matrix.\n",
        "\n",
        "    Args:\n",
        "        x (torch.Tensor): the first multivector\n",
        "        y (torch.Tensor): the second multivector\n",
        "\n",
        "    Returns:\n",
        "        (torch.Tensor): multivector result of the geometric product\n",
        "    \"\"\"\n",
        "\n",
        "    guidance_matrix = get_guidance_matrix().to(device)\n",
        "\n",
        "    geom_prod = torch.einsum(\n",
        "        \"i j k, ... j, ... k -> ... i\",\n",
        "        guidance_matrix,\n",
        "        x,\n",
        "        y\n",
        "     )\n",
        "\n",
        "    return geom_prod"
      ],
      "metadata": {
        "id": "ZJmE3qXcTGdm"
      },
      "execution_count": 20,
      "outputs": []
    },
    {
      "cell_type": "markdown",
      "source": [
        "###Inner Product"
      ],
      "metadata": {
        "id": "_tHrzkbTQlrr"
      }
    },
    {
      "cell_type": "code",
      "source": [
        "def inner_product(x,y):\n",
        "    \"\"\"\n",
        "    Computes the inner product of two multivectors.\n",
        "\n",
        "    Args:\n",
        "        x (torch.Tensor): the first multivector\n",
        "        y (torch.Tensor): the second multivector\n",
        "\n",
        "    Returns:\n",
        "        (torch.Tensor): result of the inner product\n",
        "    \"\"\"\n",
        "\n",
        "    reverse_x = reverse_operator() * x\n",
        "    geom_x_y = geometric_product(reverse_x,y)\n",
        "    inner_product = geom_x_y[..., [0]]\n",
        "\n",
        "    return inner_product"
      ],
      "metadata": {
        "id": "occNT8EITMJq"
      },
      "execution_count": 21,
      "outputs": []
    },
    {
      "cell_type": "markdown",
      "source": [
        "###Dual operator"
      ],
      "metadata": {
        "id": "6itqPrsDF1Y3"
      }
    },
    {
      "cell_type": "code",
      "source": [
        "def dual_operators():\n",
        "    \"\"\"\n",
        "    Constructs dual operators, including the indices for sign flipping and the sign values.\n",
        "\n",
        "    Args:\n",
        "        None\n",
        "\n",
        "    Returns:\n",
        "        (Tuple[List[int], torch.Tensor]): Tuple containing a list of indices to mask to perfom dual and\n",
        "                                          the vector to perfom it. This masked approach make faster the\n",
        "                                          dual computation when applied to a multivector\n",
        "    \"\"\"\n",
        "\n",
        "    coords_range = get_coordinates_range()\n",
        "\n",
        "    dual_sign_idxs = [2,4,6,9,12,14]\n",
        "    dual_signs = [\n",
        "        1 if i not in dual_sign_idxs else -1\n",
        "        for i in range(16)\n",
        "    ][::-1]\n",
        "    dual_signs = torch.tensor(dual_signs)\n",
        "\n",
        "    dual_flip = list(\n",
        "        range(\n",
        "            coords_range[-1][0],coords_range[0][0]-1,-1\n",
        "         )\n",
        "     )\n",
        "\n",
        "    return dual_flip, dual_signs.to(device)"
      ],
      "metadata": {
        "id": "-4eDSRdKF04h"
      },
      "execution_count": 22,
      "outputs": []
    },
    {
      "cell_type": "markdown",
      "source": [
        "###Outer product"
      ],
      "metadata": {
        "id": "FwacvyERGHFT"
      }
    },
    {
      "cell_type": "code",
      "source": [
        "link = \"https://drive.google.com/uc?export=download&id=1nu_eI2SyN4zWRhIDJTsKxBW4b8eq6fPk\""
      ],
      "metadata": {
        "id": "YuUT4Q1OGRFc"
      },
      "execution_count": 23,
      "outputs": []
    },
    {
      "cell_type": "code",
      "source": [
        "def get_outer_matrix():\n",
        "    \"\"\"\n",
        "    Fetches and loads the outer product guidance matrix\n",
        "    from a specified URL,  saving it locally if not already present.\n",
        "\n",
        "    Returns:\n",
        "        (torch.Tensor): A tensor representing the outer guidance matrix.\n",
        "    \"\"\"\n",
        "\n",
        "    if not os.path.exists(\"outer_guidance.pt\"):\n",
        "        matrix_url = link #global_var['prefix'] + global_var['outer_id']\n",
        "        matrix_file = wget.download(matrix_url)\n",
        "\n",
        "    outer_matrix = torch.load(\"outer_guidance.pt\")\n",
        "    outer_matrix = outer_matrix.to(torch.float32)\n",
        "    outer_matrix = outer_matrix.to_dense()\n",
        "\n",
        "    return outer_matrix"
      ],
      "metadata": {
        "id": "zHkAZB1zGMO2"
      },
      "execution_count": 24,
      "outputs": []
    },
    {
      "cell_type": "code",
      "source": [
        "def outer_product(x,y):\n",
        "    \"\"\"\n",
        "    Computes the outer product of two multivectors using the outer guidance matrix.\n",
        "\n",
        "    Args:\n",
        "        x (torch.Tensor): the first multivector\n",
        "        y (torch.Tensor): the second multivector\n",
        "\n",
        "    Returns:\n",
        "        (torch.Tensor): multivector result of the outer product\n",
        "    \"\"\"\n",
        "\n",
        "    outer_matrix = get_outer_matrix().to(device)\n",
        "\n",
        "    outputs = torch.einsum(\"i j k, ... j, ... k -> ... i\", outer_matrix, x, y)\n",
        "    return outputs"
      ],
      "metadata": {
        "id": "vSRXizqtGUk-"
      },
      "execution_count": 25,
      "outputs": []
    },
    {
      "cell_type": "markdown",
      "source": [
        "### Join"
      ],
      "metadata": {
        "id": "F3p2VukfD9qB"
      }
    },
    {
      "cell_type": "code",
      "source": [
        "def join(x,y,ref):\n",
        "    \"\"\"\n",
        "    Computes the join of two multivectors relative to a reference multivector.\n",
        "\n",
        "    Args:\n",
        "        x (torch.Tensor): the first multivector\n",
        "        y (torch.Tensor): the second multivector\n",
        "        ref (torch.Tensor): the reference multivector, mean over the batch\n",
        "                            and channels of the entering GATr multivector\n",
        "\n",
        "    Returns:\n",
        "        (torch.Tensor): multivector result of the join operation\n",
        "    \"\"\"\n",
        "\n",
        "    dual_flip,dual_signs = dual_operators()\n",
        "    dual_x = dual_signs * x[...,dual_flip]\n",
        "    dual_y = dual_signs * y[...,dual_flip]\n",
        "\n",
        "    outer_prod = outer_product(dual_x, dual_y)\n",
        "    classic_join = dual_signs * outer_prod[...,dual_flip]\n",
        "    equi_join = ref[..., [15]] * classic_join\n",
        "\n",
        "    return equi_join"
      ],
      "metadata": {
        "id": "_1xZg2ezFrCn"
      },
      "execution_count": 26,
      "outputs": []
    },
    {
      "cell_type": "markdown",
      "source": [
        "#Investigate data\n",
        "\n"
      ],
      "metadata": {
        "id": "sFmxOjcEcLxM"
      }
    },
    {
      "cell_type": "markdown",
      "source": [
        "##Check for missing or repeated samples"
      ],
      "metadata": {
        "id": "Z13NbrOz89WI"
      }
    },
    {
      "cell_type": "code",
      "source": [
        "print(\"\\n Single\")\n",
        "check_hdf5_samples(\"single.hdf5\")\n",
        "print(\"\\n Bifurcating\")\n",
        "check_hdf5_samples(\"bifurcating.hdf5\")"
      ],
      "metadata": {
        "id": "ahGIq11w9Oni",
        "colab": {
          "base_uri": "https://localhost:8080/"
        },
        "outputId": "3ec8a9be-24fa-4441-c1b2-aed4ddae663d"
      },
      "execution_count": 41,
      "outputs": [
        {
          "output_type": "stream",
          "name": "stdout",
          "text": [
            "\n",
            " Single\n",
            "Sample Indices: [0, 1, 2, 3, 4, 5, 6, 7, 8, 9, 10, 11, 12, 13, 14, 15, 16, 17, 18, 19, 20, 21, 22, 23, 24, 25, 26, 27, 28, 29, 30, 31, 32, 33, 34, 35, 36, 37, 38, 39, 40, 41, 42, 43, 44, 45, 46, 47, 48, 49, 50, 51, 52, 53, 54, 55, 56, 57, 58, 59, 60, 61, 62, 63, 64, 65, 66, 67, 68, 69, 70, 71, 72, 73, 74, 75, 76, 77, 78, 79, 80, 81, 82, 83, 84, 85, 86, 87, 88, 89, 90, 91, 92, 93, 94, 95, 96, 97, 98, 99, 100, 101, 102, 103, 104, 105, 106, 107, 108, 109, 110, 111, 112, 113, 114, 115, 116, 117, 118, 119, 120, 121, 122, 123, 124, 125, 126, 127, 128, 129, 130, 131, 132, 133, 134, 135, 136, 137, 138, 139, 140, 141, 142, 143, 144, 145, 146, 147, 148, 149, 150, 151, 152, 153, 154, 155, 156, 157, 158, 159, 160, 161, 162, 163, 164, 165, 166, 167, 168, 169, 170, 171, 172, 173, 174, 175, 176, 177, 178, 179, 180, 181, 182, 183, 184, 185, 186, 187, 188, 189, 190, 191, 192, 193, 194, 195, 196, 197, 198, 199, 200, 201, 202, 203, 204, 205, 206, 207, 208, 209, 210, 211, 212, 213, 214, 215, 216, 217, 218, 219, 220, 221, 222, 223, 224, 225, 226, 227, 228, 229, 230, 231, 232, 233, 234, 235, 236, 237, 238, 239, 240, 241, 242, 243, 244, 245, 246, 247, 248, 249, 250, 251, 252, 253, 254, 255, 256, 257, 258, 259, 260, 261, 262, 263, 264, 265, 266, 267, 268, 269, 270, 271, 272, 273, 274, 275, 276, 277, 278, 279, 280, 281, 282, 283, 284, 285, 286, 287, 288, 289, 290, 291, 292, 293, 294, 295, 296, 297, 298, 299, 300, 301, 302, 303, 304, 305, 306, 307, 308, 309, 310, 311, 312, 313, 314, 315, 316, 317, 318, 319, 320, 321, 322, 323, 324, 325, 326, 327, 328, 329, 330, 331, 332, 333, 334, 335, 336, 337, 338, 339, 340, 341, 342, 343, 344, 345, 346, 347, 348, 349, 350, 351, 352, 353, 354, 355, 356, 357, 358, 359, 360, 361, 362, 363, 364, 365, 366, 367, 368, 369, 370, 371, 372, 373, 374, 375, 376, 377, 378, 379, 380, 381, 382, 383, 384, 385, 386, 387, 388, 389, 390, 391, 392, 393, 394, 395, 396, 397, 398, 399, 400, 401, 402, 403, 404, 405, 406, 407, 408, 409, 410, 411, 412, 413, 414, 415, 416, 417, 418, 419, 420, 421, 422, 423, 424, 425, 426, 427, 428, 429, 430, 431, 432, 433, 434, 435, 436, 437, 438, 439, 440, 441, 442, 443, 444, 445, 446, 447, 448, 449, 450, 451, 452, 453, 454, 455, 456, 457, 458, 459, 460, 461, 462, 463, 464, 465, 466, 467, 468, 469, 470, 471, 472, 473, 474, 475, 476, 477, 478, 479, 480, 481, 482, 483, 484, 485, 486, 487, 488, 489, 490, 491, 492, 493, 494, 495, 496, 497, 498, 499, 500, 501, 502, 503, 504, 505, 506, 507, 508, 509, 510, 511, 512, 513, 514, 515, 516, 517, 518, 519, 520, 521, 522, 523, 524, 525, 526, 527, 528, 529, 530, 531, 532, 533, 534, 535, 536, 537, 538, 539, 540, 541, 542, 543, 544, 545, 546, 547, 548, 549, 550, 551, 552, 553, 554, 555, 556, 557, 558, 559, 560, 561, 562, 563, 564, 565, 566, 567, 568, 569, 570, 571, 572, 573, 574, 575, 576, 577, 578, 579, 580, 581, 582, 583, 584, 585, 586, 587, 588, 589, 590, 591, 592, 593, 594, 595, 596, 597, 598, 599, 600, 601, 602, 603, 604, 605, 606, 607, 608, 609, 610, 611, 612, 613, 614, 615, 616, 617, 618, 619, 620, 621, 622, 623, 624, 625, 626, 627, 628, 629, 630, 631, 632, 633, 634, 635, 636, 637, 638, 639, 640, 641, 642, 643, 644, 645, 646, 647, 648, 649, 650, 651, 652, 653, 654, 655, 656, 657, 658, 659, 660, 661, 662, 663, 664, 665, 666, 667, 668, 669, 670, 671, 672, 673, 674, 675, 676, 677, 678, 679, 680, 681, 682, 683, 684, 685, 686, 687, 688, 689, 690, 691, 692, 693, 694, 695, 696, 697, 698, 699, 700, 701, 702, 703, 704, 705, 706, 707, 708, 709, 710, 711, 712, 713, 714, 715, 716, 717, 718, 719, 720, 721, 722, 723, 724, 725, 726, 727, 728, 729, 730, 731, 732, 733, 734, 735, 736, 737, 738, 739, 740, 741, 742, 743, 744, 745, 746, 747, 748, 749, 750, 751, 752, 753, 754, 755, 756, 757, 758, 759, 760, 761, 762, 763, 764, 765, 766, 767, 768, 769, 770, 771, 772, 773, 774, 775, 776, 777, 778, 779, 780, 781, 782, 783, 784, 785, 786, 787, 788, 789, 790, 791, 792, 793, 794, 795, 796, 797, 798, 799, 800, 801, 802, 803, 804, 805, 806, 807, 808, 809, 810, 811, 812, 813, 814, 815, 816, 817, 818, 819, 820, 821, 822, 823, 824, 825, 826, 827, 828, 829, 830, 831, 832, 833, 834, 835, 836, 837, 838, 839, 840, 841, 842, 843, 844, 845, 846, 847, 848, 849, 850, 851, 852, 853, 854, 855, 856, 857, 858, 859, 860, 861, 862, 863, 864, 865, 866, 867, 868, 869, 870, 871, 872, 873, 874, 875, 876, 877, 878, 879, 880, 881, 882, 883, 884, 885, 886, 887, 888, 889, 890, 891, 892, 893, 894, 895, 896, 897, 898, 899, 900, 901, 902, 903, 904, 905, 906, 907, 908, 909, 910, 911, 912, 913, 914, 915, 916, 917, 918, 919, 920, 921, 922, 923, 924, 925, 926, 927, 928, 929, 930, 931, 932, 933, 934, 935, 936, 937, 938, 939, 940, 941, 942, 943, 944, 945, 946, 947, 948, 949, 950, 951, 952, 953, 954, 955, 956, 957, 958, 959, 960, 961, 962, 963, 964, 965, 966, 967, 968, 969, 970, 971, 972, 973, 974, 975, 976, 977, 978, 979, 980, 981, 982, 983, 984, 985, 986, 987, 988, 989, 990, 991, 992, 993, 994, 995, 996, 997, 998, 999, 1000, 1001, 1002, 1003, 1004, 1005, 1006, 1007, 1008, 1009, 1010, 1011, 1012, 1013, 1014, 1015, 1016, 1017, 1018, 1019, 1020, 1021, 1022, 1023, 1024, 1025, 1026, 1027, 1028, 1029, 1030, 1031, 1032, 1033, 1034, 1035, 1036, 1037, 1038, 1039, 1040, 1041, 1042, 1043, 1044, 1045, 1046, 1047, 1048, 1049, 1050, 1051, 1052, 1053, 1054, 1055, 1056, 1057, 1058, 1059, 1060, 1061, 1062, 1063, 1064, 1065, 1066, 1067, 1068, 1069, 1070, 1071, 1072, 1073, 1074, 1075, 1076, 1077, 1078, 1079, 1080, 1081, 1082, 1083, 1084, 1085, 1086, 1087, 1088, 1089, 1090, 1091, 1092, 1093, 1094, 1095, 1096, 1097, 1098, 1099, 1100, 1101, 1102, 1103, 1104, 1105, 1106, 1107, 1108, 1109, 1110, 1111, 1112, 1113, 1114, 1115, 1116, 1117, 1118, 1119, 1120, 1121, 1122, 1123, 1124, 1125, 1126, 1127, 1128, 1129, 1130, 1131, 1132, 1133, 1134, 1135, 1136, 1137, 1138, 1139, 1140, 1141, 1142, 1143, 1144, 1145, 1146, 1147, 1148, 1149, 1150, 1151, 1152, 1153, 1154, 1155, 1156, 1157, 1158, 1159, 1160, 1161, 1162, 1163, 1164, 1165, 1166, 1167, 1168, 1169, 1170, 1171, 1172, 1173, 1174, 1175, 1176, 1177, 1178, 1179, 1180, 1181, 1182, 1183, 1184, 1185, 1186, 1187, 1188, 1189, 1190, 1191, 1192, 1193, 1194, 1195, 1196, 1197, 1198, 1199, 1200, 1201, 1202, 1203, 1204, 1205, 1206, 1207, 1208, 1209, 1210, 1211, 1212, 1213, 1214, 1215, 1216, 1217, 1218, 1219, 1220, 1221, 1222, 1223, 1224, 1225, 1226, 1227, 1228, 1229, 1230, 1231, 1232, 1233, 1234, 1235, 1236, 1237, 1238, 1239, 1240, 1241, 1242, 1243, 1244, 1245, 1246, 1247, 1248, 1249, 1250, 1251, 1252, 1253, 1254, 1255, 1256, 1257, 1258, 1259, 1260, 1261, 1262, 1263, 1264, 1265, 1266, 1267, 1268, 1269, 1270, 1271, 1272, 1273, 1274, 1275, 1276, 1277, 1278, 1279, 1280, 1281, 1282, 1283, 1284, 1285, 1286, 1287, 1288, 1289, 1290, 1291, 1292, 1293, 1294, 1295, 1296, 1297, 1298, 1299, 1300, 1301, 1302, 1303, 1304, 1305, 1306, 1307, 1308, 1309, 1310, 1311, 1312, 1313, 1314, 1315, 1316, 1317, 1318, 1319, 1320, 1321, 1322, 1323, 1324, 1325, 1326, 1327, 1328, 1329, 1330, 1331, 1332, 1333, 1334, 1335, 1336, 1337, 1338, 1339, 1340, 1341, 1342, 1343, 1344, 1345, 1346, 1347, 1348, 1349, 1350, 1351, 1352, 1353, 1354, 1355, 1356, 1357, 1358, 1359, 1360, 1361, 1362, 1363, 1364, 1365, 1366, 1367, 1368, 1369, 1370, 1371, 1372, 1373, 1374, 1375, 1376, 1377, 1378, 1379, 1380, 1381, 1382, 1383, 1384, 1385, 1386, 1387, 1388, 1389, 1390, 1391, 1392, 1393, 1394, 1395, 1396, 1397, 1398, 1399, 1400, 1401, 1402, 1403, 1404, 1405, 1406, 1407, 1408, 1409, 1410, 1411, 1412, 1413, 1414, 1415, 1416, 1417, 1418, 1419, 1420, 1421, 1422, 1423, 1424, 1425, 1426, 1427, 1428, 1429, 1430, 1431, 1432, 1433, 1434, 1435, 1436, 1437, 1438, 1439, 1440, 1441, 1442, 1443, 1444, 1445, 1446, 1447, 1448, 1449, 1450, 1451, 1452, 1453, 1454, 1455, 1456, 1457, 1458, 1459, 1460, 1461, 1462, 1463, 1464, 1465, 1466, 1467, 1468, 1469, 1470, 1471, 1472, 1473, 1474, 1475, 1476, 1477, 1478, 1479, 1480, 1481, 1482, 1483, 1484, 1485, 1486, 1487, 1488, 1489, 1490, 1491, 1492, 1493, 1494, 1495, 1496, 1497, 1498, 1499, 1500, 1501, 1502, 1503, 1504, 1505, 1506, 1507, 1508, 1509, 1510, 1511, 1512, 1513, 1514, 1515, 1516, 1517, 1518, 1519, 1520, 1521, 1522, 1523, 1524, 1525, 1526, 1527, 1528, 1529, 1530, 1531, 1532, 1533, 1534, 1535, 1536, 1537, 1538, 1539, 1540, 1541, 1542, 1543, 1544, 1545, 1546, 1547, 1548, 1549, 1550, 1551, 1552, 1553, 1554, 1555, 1556, 1557, 1558, 1559, 1560, 1561, 1562, 1563, 1564, 1565, 1566, 1567, 1568, 1569, 1570, 1571, 1572, 1573, 1574, 1575, 1576, 1577, 1578, 1579, 1580, 1581, 1582, 1583, 1584, 1585, 1586, 1587, 1588, 1589, 1590, 1591, 1592, 1593, 1594, 1595, 1596, 1597, 1598, 1599, 1600, 1601, 1602, 1603, 1604, 1605, 1606, 1607, 1608, 1609, 1610, 1611, 1612, 1613, 1614, 1615, 1616, 1617, 1618, 1619, 1620, 1621, 1622, 1623, 1624, 1625, 1626, 1627, 1628, 1629, 1630, 1631, 1632, 1633, 1634, 1635, 1636, 1637, 1638, 1639, 1640, 1641, 1642, 1643, 1644, 1645, 1646, 1647, 1648, 1649, 1650, 1651, 1652, 1653, 1654, 1655, 1656, 1657, 1658, 1659, 1660, 1661, 1662, 1663, 1664, 1665, 1666, 1667, 1668, 1669, 1670, 1671, 1672, 1673, 1674, 1675, 1676, 1677, 1678, 1679, 1680, 1681, 1682, 1683, 1684, 1685, 1686, 1687, 1688, 1689, 1690, 1691, 1692, 1693, 1694, 1695, 1696, 1697, 1698, 1699, 1700, 1701, 1702, 1703, 1704, 1705, 1706, 1707, 1708, 1709, 1710, 1711, 1712, 1713, 1714, 1715, 1716, 1717, 1718, 1719, 1720, 1721, 1722, 1723, 1724, 1725, 1726, 1727, 1728, 1729, 1730, 1731, 1732, 1733, 1734, 1735, 1736, 1737, 1738, 1739, 1740, 1741, 1742, 1743, 1744, 1745, 1746, 1747, 1748, 1749, 1750, 1751, 1752, 1753, 1754, 1755, 1756, 1757, 1758, 1759, 1760, 1761, 1762, 1763, 1764, 1765, 1766, 1767, 1768, 1769, 1770, 1771, 1772, 1773, 1774, 1775, 1776, 1777, 1778, 1779, 1780, 1781, 1782, 1783, 1784, 1785, 1786, 1787, 1788, 1789, 1790, 1791, 1792, 1793, 1794, 1795, 1796, 1797, 1798, 1799, 1800, 1801, 1802, 1803, 1804, 1805, 1806, 1807, 1808, 1809, 1810, 1811, 1812, 1813, 1814, 1815, 1816, 1817, 1818, 1819, 1820, 1821, 1822, 1823, 1824, 1825, 1826, 1827, 1828, 1829, 1830, 1831, 1832, 1833, 1834, 1835, 1836, 1837, 1838, 1839, 1840, 1841, 1842, 1843, 1844, 1845, 1846, 1847, 1848, 1849, 1850, 1851, 1852, 1853, 1854, 1855, 1856, 1857, 1858, 1859, 1860, 1861, 1862, 1863, 1864, 1865, 1866, 1867, 1868, 1869, 1870, 1871, 1872, 1873, 1874, 1875, 1876, 1877, 1878, 1879, 1880, 1881, 1882, 1883, 1884, 1885, 1886, 1887, 1888, 1889, 1890, 1891, 1892, 1893, 1894, 1895, 1896, 1897, 1898, 1899, 1900, 1901, 1902, 1903, 1904, 1905, 1906, 1907, 1908, 1909, 1910, 1911, 1912, 1913, 1914, 1915, 1916, 1917, 1918, 1919, 1920, 1921, 1922, 1923, 1924, 1925, 1926, 1927, 1928, 1929, 1930, 1931, 1932, 1933, 1934, 1935, 1936, 1937, 1938, 1939, 1940, 1941, 1942, 1943, 1944, 1945, 1946, 1947, 1948, 1949, 1950, 1951, 1952, 1953, 1954, 1955, 1956, 1957, 1958, 1959, 1960, 1961, 1962, 1963, 1964, 1965, 1966, 1967, 1968, 1969, 1970, 1971, 1972, 1973, 1974, 1975, 1976, 1977, 1978, 1979, 1980, 1981, 1982, 1983, 1984, 1985, 1986, 1987, 1988, 1989, 1990, 1991, 1992, 1993, 1994, 1995, 1996, 1997, 1998, 1999]\n",
            "Missing Indices: []\n",
            "Repeated Indices: []\n",
            "Number of Groups: 2000\n",
            "\n",
            " Bifurcating\n",
            "Sample Indices: [0, 1, 2, 3, 4, 5, 6, 7, 8, 9, 10, 11, 12, 13, 14, 15, 16, 17, 18, 19, 20, 21, 22, 23, 24, 25, 26, 27, 28, 29, 30, 31, 32, 33, 34, 35, 36, 37, 38, 39, 40, 41, 42, 43, 44, 45, 46, 47, 48, 49, 50, 51, 52, 53, 54, 55, 56, 57, 58, 59, 60, 61, 62, 63, 64, 65, 66, 67, 68, 69, 70, 71, 72, 73, 74, 75, 76, 77, 78, 79, 80, 81, 82, 83, 84, 85, 86, 87, 88, 89, 90, 91, 92, 93, 94, 95, 96, 97, 98, 99, 100, 101, 102, 103, 104, 105, 106, 107, 108, 109, 110, 111, 112, 113, 114, 115, 116, 117, 118, 119, 120, 121, 122, 123, 124, 125, 126, 127, 128, 129, 130, 131, 132, 133, 134, 135, 136, 137, 138, 139, 140, 141, 142, 143, 144, 145, 146, 147, 148, 149, 150, 151, 152, 153, 154, 155, 156, 157, 158, 159, 160, 161, 162, 163, 164, 165, 166, 167, 168, 169, 170, 171, 172, 173, 174, 175, 176, 177, 178, 179, 180, 181, 182, 183, 184, 185, 186, 187, 188, 189, 190, 191, 192, 193, 194, 195, 196, 197, 198, 199, 200, 201, 202, 203, 204, 205, 206, 207, 208, 209, 210, 211, 212, 213, 214, 215, 216, 217, 218, 219, 220, 221, 222, 223, 224, 225, 226, 227, 228, 229, 230, 231, 232, 233, 234, 235, 236, 237, 238, 239, 240, 241, 242, 243, 244, 245, 246, 247, 248, 249, 250, 251, 252, 253, 254, 255, 256, 257, 258, 259, 260, 261, 262, 263, 264, 265, 266, 267, 268, 269, 270, 271, 272, 273, 274, 275, 276, 277, 278, 279, 280, 281, 282, 283, 284, 285, 286, 287, 288, 289, 290, 291, 292, 293, 294, 295, 296, 297, 298, 299, 300, 301, 302, 303, 304, 305, 306, 307, 308, 309, 310, 311, 312, 313, 314, 315, 316, 317, 318, 319, 320, 321, 322, 323, 324, 325, 326, 327, 328, 329, 330, 331, 332, 333, 334, 335, 336, 337, 338, 339, 340, 341, 342, 343, 344, 345, 346, 347, 348, 349, 350, 351, 352, 353, 354, 355, 356, 357, 358, 359, 360, 361, 362, 363, 364, 365, 366, 367, 368, 369, 370, 371, 372, 373, 374, 375, 376, 377, 378, 379, 380, 381, 382, 383, 384, 385, 386, 387, 388, 389, 390, 391, 392, 393, 394, 395, 396, 397, 398, 399, 400, 401, 402, 403, 404, 405, 406, 407, 408, 409, 410, 411, 412, 413, 414, 415, 416, 417, 418, 419, 420, 421, 422, 423, 424, 425, 426, 427, 428, 429, 430, 431, 432, 433, 434, 435, 436, 437, 438, 439, 440, 441, 442, 443, 444, 445, 446, 447, 448, 449, 450, 451, 452, 453, 454, 455, 456, 457, 458, 459, 460, 461, 462, 463, 464, 465, 466, 467, 468, 469, 470, 471, 472, 473, 474, 475, 476, 477, 478, 479, 480, 481, 482, 483, 484, 485, 486, 487, 488, 489, 490, 491, 492, 493, 494, 495, 496, 497, 498, 499, 500, 501, 502, 503, 504, 505, 506, 507, 508, 509, 510, 511, 512, 513, 514, 515, 516, 517, 518, 519, 520, 521, 522, 523, 524, 525, 526, 527, 528, 529, 530, 531, 532, 533, 534, 535, 536, 537, 538, 539, 540, 541, 542, 543, 544, 545, 546, 547, 548, 549, 550, 551, 552, 553, 554, 555, 556, 557, 558, 559, 560, 561, 562, 563, 564, 565, 566, 567, 568, 569, 570, 571, 572, 573, 574, 575, 576, 577, 578, 579, 580, 581, 582, 583, 584, 585, 586, 587, 588, 589, 590, 591, 592, 593, 594, 595, 596, 597, 598, 599, 600, 601, 602, 603, 604, 605, 606, 607, 608, 609, 610, 611, 612, 613, 614, 615, 616, 617, 618, 619, 620, 621, 622, 623, 624, 625, 626, 627, 628, 629, 630, 631, 632, 633, 634, 635, 636, 637, 638, 639, 640, 641, 642, 643, 644, 645, 646, 647, 648, 649, 650, 651, 652, 653, 654, 655, 656, 657, 658, 659, 660, 661, 662, 663, 664, 665, 666, 667, 668, 669, 670, 671, 672, 673, 674, 675, 676, 677, 678, 679, 680, 681, 682, 683, 684, 685, 686, 687, 688, 689, 690, 691, 692, 693, 694, 695, 696, 697, 698, 699, 700, 701, 702, 703, 704, 705, 706, 707, 708, 709, 710, 711, 712, 713, 714, 715, 716, 717, 718, 719, 720, 721, 722, 723, 724, 725, 726, 727, 728, 729, 730, 731, 732, 733, 734, 735, 736, 737, 738, 739, 740, 741, 742, 743, 744, 745, 746, 747, 748, 749, 750, 751, 752, 753, 754, 755, 756, 757, 758, 759, 760, 761, 762, 763, 764, 765, 766, 767, 768, 769, 770, 771, 772, 773, 774, 775, 776, 777, 778, 779, 780, 781, 782, 783, 784, 785, 786, 787, 788, 789, 790, 791, 792, 793, 794, 795, 796, 797, 798, 799, 800, 801, 802, 803, 804, 805, 806, 807, 808, 809, 810, 811, 812, 813, 814, 815, 816, 817, 818, 819, 820, 821, 822, 823, 824, 825, 826, 828, 829, 830, 831, 832, 833, 834, 835, 836, 837, 838, 839, 840, 841, 842, 843, 844, 845, 846, 847, 848, 849, 850, 851, 852, 853, 854, 855, 856, 857, 858, 859, 860, 861, 862, 863, 864, 865, 866, 867, 868, 869, 870, 871, 872, 873, 874, 875, 876, 877, 878, 879, 880, 881, 882, 883, 884, 885, 886, 887, 888, 889, 890, 891, 892, 893, 894, 895, 896, 897, 898, 899, 900, 901, 902, 903, 904, 905, 906, 907, 908, 909, 910, 911, 912, 913, 914, 915, 916, 917, 918, 919, 920, 921, 922, 923, 924, 925, 926, 927, 928, 929, 930, 931, 932, 933, 934, 935, 936, 937, 938, 939, 940, 941, 942, 943, 944, 945, 946, 947, 948, 949, 950, 951, 952, 953, 954, 955, 956, 957, 958, 959, 960, 961, 962, 963, 964, 965, 966, 967, 968, 969, 970, 971, 972, 973, 974, 975, 976, 977, 978, 979, 980, 981, 982, 983, 984, 985, 986, 987, 988, 989, 990, 991, 992, 993, 994, 995, 996, 997, 998, 999, 1000, 1001, 1002, 1003, 1004, 1005, 1006, 1007, 1008, 1009, 1010, 1011, 1012, 1013, 1014, 1015, 1016, 1017, 1018, 1019, 1020, 1021, 1022, 1023, 1024, 1025, 1026, 1027, 1028, 1029, 1030, 1031, 1032, 1033, 1034, 1035, 1036, 1037, 1038, 1039, 1040, 1041, 1042, 1043, 1044, 1045, 1046, 1047, 1048, 1049, 1050, 1051, 1052, 1053, 1054, 1055, 1056, 1057, 1058, 1059, 1060, 1061, 1062, 1063, 1064, 1065, 1066, 1067, 1068, 1069, 1070, 1071, 1072, 1073, 1074, 1075, 1076, 1077, 1078, 1079, 1080, 1081, 1082, 1083, 1084, 1085, 1086, 1087, 1088, 1089, 1090, 1091, 1092, 1093, 1094, 1095, 1096, 1097, 1098, 1099, 1100, 1101, 1102, 1103, 1104, 1105, 1106, 1107, 1108, 1109, 1110, 1111, 1112, 1113, 1114, 1115, 1116, 1117, 1118, 1119, 1120, 1121, 1122, 1123, 1124, 1125, 1126, 1127, 1128, 1129, 1130, 1131, 1132, 1133, 1134, 1135, 1136, 1137, 1138, 1139, 1140, 1141, 1142, 1143, 1144, 1145, 1146, 1147, 1148, 1149, 1150, 1151, 1152, 1153, 1154, 1155, 1156, 1157, 1158, 1159, 1160, 1161, 1162, 1163, 1164, 1165, 1166, 1167, 1168, 1169, 1170, 1171, 1172, 1173, 1174, 1175, 1176, 1177, 1178, 1179, 1180, 1181, 1182, 1183, 1184, 1185, 1186, 1187, 1188, 1189, 1190, 1191, 1192, 1193, 1194, 1195, 1196, 1197, 1198, 1199, 1200, 1201, 1202, 1203, 1204, 1205, 1206, 1207, 1208, 1209, 1210, 1211, 1212, 1213, 1214, 1215, 1216, 1217, 1218, 1219, 1220, 1221, 1222, 1223, 1224, 1225, 1226, 1227, 1228, 1229, 1230, 1231, 1232, 1233, 1234, 1235, 1236, 1237, 1238, 1239, 1240, 1241, 1242, 1243, 1244, 1245, 1246, 1247, 1248, 1249, 1250, 1251, 1252, 1253, 1254, 1255, 1256, 1257, 1258, 1259, 1260, 1261, 1262, 1263, 1264, 1265, 1266, 1267, 1268, 1269, 1270, 1271, 1272, 1273, 1274, 1275, 1276, 1277, 1278, 1279, 1280, 1281, 1282, 1283, 1284, 1285, 1286, 1287, 1288, 1289, 1290, 1291, 1292, 1293, 1294, 1295, 1296, 1297, 1298, 1299, 1300, 1301, 1302, 1303, 1304, 1305, 1306, 1307, 1308, 1309, 1310, 1311, 1312, 1313, 1314, 1315, 1316, 1317, 1318, 1319, 1320, 1321, 1322, 1323, 1324, 1325, 1326, 1327, 1328, 1329, 1330, 1331, 1332, 1333, 1334, 1335, 1336, 1337, 1338, 1339, 1340, 1341, 1342, 1343, 1344, 1345, 1346, 1347, 1348, 1349, 1350, 1351, 1352, 1353, 1354, 1355, 1356, 1357, 1358, 1359, 1360, 1361, 1362, 1363, 1364, 1365, 1366, 1367, 1368, 1369, 1370, 1371, 1372, 1373, 1374, 1375, 1376, 1377, 1378, 1379, 1380, 1381, 1382, 1383, 1384, 1385, 1386, 1387, 1388, 1389, 1390, 1391, 1392, 1393, 1394, 1395, 1396, 1397, 1398, 1399, 1400, 1401, 1402, 1403, 1404, 1405, 1406, 1407, 1408, 1409, 1410, 1411, 1412, 1413, 1414, 1415, 1416, 1417, 1418, 1419, 1420, 1421, 1422, 1423, 1424, 1425, 1426, 1427, 1428, 1429, 1430, 1431, 1432, 1433, 1434, 1435, 1436, 1437, 1438, 1439, 1440, 1441, 1442, 1443, 1444, 1445, 1446, 1447, 1448, 1449, 1450, 1451, 1452, 1453, 1454, 1455, 1456, 1457, 1458, 1459, 1460, 1461, 1462, 1463, 1464, 1465, 1466, 1467, 1468, 1469, 1470, 1471, 1472, 1473, 1474, 1475, 1476, 1477, 1478, 1479, 1480, 1481, 1482, 1483, 1484, 1485, 1486, 1487, 1488, 1489, 1490, 1491, 1492, 1493, 1494, 1495, 1496, 1497, 1498, 1499, 1500, 1501, 1502, 1503, 1504, 1505, 1506, 1507, 1508, 1509, 1510, 1511, 1512, 1513, 1514, 1515, 1516, 1517, 1518, 1519, 1520, 1521, 1522, 1523, 1524, 1525, 1526, 1527, 1528, 1529, 1530, 1531, 1532, 1533, 1534, 1535, 1536, 1537, 1538, 1539, 1540, 1541, 1542, 1543, 1544, 1545, 1546, 1547, 1548, 1549, 1550, 1551, 1552, 1553, 1554, 1555, 1556, 1557, 1558, 1559, 1560, 1561, 1562, 1563, 1564, 1565, 1566, 1567, 1568, 1569, 1570, 1571, 1572, 1573, 1574, 1575, 1576, 1577, 1578, 1579, 1580, 1581, 1582, 1583, 1584, 1585, 1586, 1587, 1588, 1589, 1590, 1591, 1592, 1593, 1594, 1595, 1596, 1597, 1598, 1599, 1600, 1601, 1602, 1603, 1604, 1605, 1606, 1607, 1608, 1609, 1610, 1611, 1612, 1613, 1614, 1615, 1616, 1617, 1618, 1619, 1620, 1621, 1622, 1623, 1624, 1625, 1626, 1627, 1628, 1629, 1630, 1631, 1632, 1633, 1634, 1635, 1636, 1637, 1638, 1639, 1640, 1641, 1642, 1643, 1644, 1645, 1646, 1647, 1648, 1649, 1650, 1651, 1652, 1653, 1654, 1655, 1656, 1657, 1658, 1659, 1660, 1661, 1662, 1663, 1664, 1665, 1666, 1667, 1668, 1669, 1670, 1671, 1672, 1673, 1674, 1675, 1676, 1677, 1678, 1679, 1680, 1681, 1682, 1683, 1684, 1685, 1686, 1687, 1688, 1689, 1690, 1691, 1692, 1693, 1694, 1695, 1696, 1697, 1698, 1699, 1700, 1701, 1702, 1703, 1704, 1705, 1706, 1707, 1708, 1709, 1710, 1711, 1712, 1713, 1714, 1715, 1716, 1717, 1718, 1719, 1720, 1721, 1722, 1723, 1724, 1725, 1726, 1727, 1728, 1729, 1730, 1731, 1732, 1733, 1734, 1735, 1736, 1737, 1738, 1739, 1740, 1741, 1742, 1743, 1744, 1745, 1746, 1747, 1748, 1749, 1750, 1751, 1752, 1753, 1754, 1755, 1756, 1757, 1758, 1759, 1760, 1761, 1762, 1763, 1764, 1765, 1766, 1767, 1768, 1769, 1770, 1771, 1772, 1773, 1774, 1775, 1776, 1777, 1778, 1779, 1780, 1781, 1782, 1783, 1784, 1785, 1786, 1787, 1788, 1789, 1790, 1791, 1792, 1793, 1794, 1795, 1796, 1797, 1798, 1799, 1800, 1801, 1802, 1803, 1804, 1805, 1806, 1807, 1808, 1809, 1810, 1811, 1812, 1813, 1814, 1815, 1816, 1817, 1818, 1819, 1820, 1821, 1822, 1823, 1824, 1825, 1826, 1827, 1828, 1829, 1830, 1831, 1832, 1833, 1834, 1835, 1836, 1837, 1838, 1839, 1840, 1841, 1842, 1843, 1844, 1845, 1846, 1847, 1848, 1849, 1850, 1851, 1852, 1853, 1854, 1855, 1856, 1857, 1858, 1859, 1860, 1861, 1862, 1863, 1864, 1865, 1866, 1867, 1868, 1869, 1870, 1871, 1872, 1873, 1874, 1875, 1876, 1877, 1878, 1879, 1880, 1881, 1882, 1883, 1884, 1885, 1886, 1887, 1888, 1889, 1890, 1891, 1892, 1893, 1894, 1895, 1896, 1897, 1898, 1899, 1900, 1901, 1902, 1903, 1904, 1905, 1906, 1907, 1908, 1909, 1910, 1911, 1912, 1913, 1914, 1915, 1916, 1917, 1918, 1919, 1920, 1921, 1922, 1923, 1924, 1925, 1926, 1927, 1928, 1929, 1930, 1931, 1932, 1933, 1934, 1935, 1936, 1937, 1938, 1939, 1940, 1941, 1942, 1943, 1944, 1945, 1946, 1947, 1948, 1949, 1950, 1951, 1952, 1953, 1954, 1955, 1956, 1957, 1958, 1959, 1960, 1961, 1962, 1963, 1964, 1965, 1966, 1967, 1968, 1969, 1970, 1971, 1972, 1973, 1974, 1975, 1976, 1977, 1978, 1979, 1980, 1981, 1982, 1983, 1984, 1985, 1986, 1987, 1988, 1989, 1990, 1991, 1992, 1993, 1994, 1995, 1996, 1997, 1998, 1999]\n",
            "Missing Indices: [827]\n",
            "Repeated Indices: []\n",
            "Number of Groups: 1999\n"
          ]
        }
      ]
    },
    {
      "cell_type": "markdown",
      "source": [
        "##Check structure of the hdf5 files"
      ],
      "metadata": {
        "id": "aNxTImNk2YQ2"
      }
    },
    {
      "cell_type": "code",
      "source": [
        "print(\"\\n Single\")\n",
        "check_hdf5_structure(\"single.hdf5\", start_sample = 0, end_sample = 1)\n",
        "print(\"\\n Bifurcating\")\n",
        "check_hdf5_structure( \"bifurcating.hdf5\", start_sample = 0, end_sample = 1)"
      ],
      "metadata": {
        "id": "8CM4MrfV2kFd",
        "colab": {
          "base_uri": "https://localhost:8080/"
        },
        "outputId": "457e67be-ecee-4068-e494-a4afd54e4cbb"
      },
      "execution_count": 42,
      "outputs": [
        {
          "output_type": "stream",
          "name": "stdout",
          "text": [
            "\n",
            " Single\n",
            "\n",
            "\n",
            "sample_0000 (Group)\n",
            "sample_0000/face : (20946, 3)\n",
            "sample_0000/inlet_idcs : (265,)\n",
            "sample_0000/pos : (10475, 3)\n",
            "sample_0000/pressure : (10475,)\n",
            "sample_0000/wss : (10475, 3)\n",
            "\n",
            "\n",
            "sample_0001 (Group)\n",
            "sample_0001/face : (20548, 3)\n",
            "sample_0001/inlet_idcs : (271,)\n",
            "sample_0001/pos : (10276, 3)\n",
            "sample_0001/pressure : (10276,)\n",
            "sample_0001/wss : (10276, 3)\n",
            "\n",
            " Bifurcating\n",
            "\n",
            "\n",
            "sample_0000 (Group)\n",
            "sample_0000/face : (38430, 3)\n",
            "sample_0000/inlet_idcs : (921,)\n",
            "sample_0000/pos : (19217, 3)\n",
            "sample_0000/pressure : (19217,)\n",
            "sample_0000/wss : (19217, 3)\n",
            "\n",
            "\n",
            "sample_0001 (Group)\n",
            "sample_0001/face : (39436, 3)\n",
            "sample_0001/inlet_idcs : (966,)\n",
            "sample_0001/pos : (19720, 3)\n",
            "sample_0001/pressure : (19720,)\n",
            "sample_0001/wss : (19720, 3)\n"
          ]
        }
      ]
    },
    {
      "cell_type": "markdown",
      "source": [
        "##Extract global stats for pressure and wall shear stress"
      ],
      "metadata": {
        "id": "_oF9GkIr-A4k"
      }
    },
    {
      "cell_type": "code",
      "source": [
        "extract_and_print_global_stats(\"single.hdf5\")\n",
        "extract_and_print_global_stats(\"bifurcating.hdf5\")"
      ],
      "metadata": {
        "id": "oSxTC8g9-Al1",
        "colab": {
          "base_uri": "https://localhost:8080/"
        },
        "outputId": "62115400-4a35-404e-9e83-b11174b64a94"
      },
      "execution_count": 43,
      "outputs": [
        {
          "output_type": "stream",
          "name": "stdout",
          "text": [
            "\n",
            "Statistics for single.hdf5:\n",
            "\n",
            "Dataset: pressure\n",
            "  Min: 132708.21875\n",
            "  Max: 137972.359375\n",
            "  Mean: 134852.28125\n",
            "  Standard Deviation: 1374.543701171875\n",
            "\n",
            "Dataset: wss\n",
            "  Min: -210.3108367919922\n",
            "  Max: 340.20452880859375\n",
            "  Mean: 8.488805770874023\n",
            "  Standard Deviation: 26.8995361328125\n",
            "\n",
            "Statistics for bifurcating.hdf5:\n",
            "\n",
            "Dataset: pressure\n",
            "  Min: 133300.890625\n",
            "  Max: 134027.5625\n",
            "  Mean: 133498.828125\n",
            "  Standard Deviation: 123.24703979492188\n",
            "\n",
            "Dataset: wss\n",
            "  Min: -63.809635162353516\n",
            "  Max: 48.18938064575195\n",
            "  Mean: 0.9736822247505188\n",
            "  Standard Deviation: 8.514182090759277\n"
          ]
        }
      ]
    },
    {
      "cell_type": "markdown",
      "source": [
        "##Plot sample mean pressure and maximum wss"
      ],
      "metadata": {
        "id": "ReeNLgpu_UzX"
      }
    },
    {
      "cell_type": "markdown",
      "source": [
        "#Preprocess & combine single and bifurcating data"
      ],
      "metadata": {
        "id": "JmbuVgcpxuIx"
      }
    },
    {
      "cell_type": "code",
      "source": [
        "single_tensor = preprocess_3d_hdf5_file(\"single.hdf5\")\n",
        "bifurcating_tensor = preprocess_3d_hdf5_file(\"bifurcating.hdf5\")"
      ],
      "metadata": {
        "colab": {
          "base_uri": "https://localhost:8080/"
        },
        "id": "hysaQglnCrMF",
        "outputId": "dc19da4b-dd2b-43b1-f017-7cad219bdf00"
      },
      "execution_count": 35,
      "outputs": [
        {
          "output_type": "stream",
          "name": "stdout",
          "text": [
            "Number of samples processed: 2000\n",
            "Number of samples processed: 1999\n"
          ]
        }
      ]
    },
    {
      "cell_type": "code",
      "source": [
        "single_tensor.shape"
      ],
      "metadata": {
        "colab": {
          "base_uri": "https://localhost:8080/"
        },
        "id": "fQIsq8n9Y1G9",
        "outputId": "c27bbe89-6650-4dde-f396-411022255c77"
      },
      "execution_count": 36,
      "outputs": [
        {
          "output_type": "execute_result",
          "data": {
            "text/plain": [
              "torch.Size([2000, 50, 3])"
            ]
          },
          "metadata": {},
          "execution_count": 36
        }
      ]
    },
    {
      "cell_type": "code",
      "source": [
        "mv_single_tensor = get_vector_mv(single_tensor)"
      ],
      "metadata": {
        "id": "INXmadjHTjmt"
      },
      "execution_count": 37,
      "outputs": []
    },
    {
      "cell_type": "code",
      "source": [
        "mv_single_tensor.shape"
      ],
      "metadata": {
        "colab": {
          "base_uri": "https://localhost:8080/"
        },
        "id": "rKcLi7uGY42F",
        "outputId": "b5e169d9-8235-4c03-a015-dd44e2362992"
      },
      "execution_count": 38,
      "outputs": [
        {
          "output_type": "execute_result",
          "data": {
            "text/plain": [
              "torch.Size([2000, 50, 16])"
            ]
          },
          "metadata": {},
          "execution_count": 38
        }
      ]
    },
    {
      "cell_type": "code",
      "source": [
        "mv_single_tensor[0]"
      ],
      "metadata": {
        "colab": {
          "base_uri": "https://localhost:8080/"
        },
        "id": "TsZ8qIY0YV19",
        "outputId": "d78d6960-8e9d-4a5b-90ac-387d6cc6b0a2"
      },
      "execution_count": 39,
      "outputs": [
        {
          "output_type": "execute_result",
          "data": {
            "text/plain": [
              "tensor([[ 0.0000e+00,  0.0000e+00,  0.0000e+00,  0.0000e+00,  0.0000e+00,\n",
              "          0.0000e+00,  0.0000e+00,  0.0000e+00,  0.0000e+00,  0.0000e+00,\n",
              "          0.0000e+00,  4.0314e+02,  0.0000e+00, -1.4167e+02,  1.0000e+00,\n",
              "          0.0000e+00],\n",
              "        [ 0.0000e+00,  0.0000e+00,  0.0000e+00,  0.0000e+00,  0.0000e+00,\n",
              "          0.0000e+00,  0.0000e+00,  0.0000e+00,  0.0000e+00,  0.0000e+00,\n",
              "          0.0000e+00,  4.0121e+02,  6.2500e-02, -1.4105e+02,  1.0000e+00,\n",
              "          0.0000e+00],\n",
              "        [ 0.0000e+00,  0.0000e+00,  0.0000e+00,  0.0000e+00,  0.0000e+00,\n",
              "          0.0000e+00,  0.0000e+00,  0.0000e+00,  0.0000e+00,  0.0000e+00,\n",
              "          0.0000e+00,  3.8987e+02,  1.2500e-01, -1.4032e+02,  1.0000e+00,\n",
              "          0.0000e+00],\n",
              "        [ 0.0000e+00,  0.0000e+00,  0.0000e+00,  0.0000e+00,  0.0000e+00,\n",
              "          0.0000e+00,  0.0000e+00,  0.0000e+00,  0.0000e+00,  0.0000e+00,\n",
              "          0.0000e+00,  3.8926e+02,  1.4062e-01, -1.4020e+02,  1.0000e+00,\n",
              "          0.0000e+00],\n",
              "        [ 0.0000e+00,  0.0000e+00,  0.0000e+00,  0.0000e+00,  0.0000e+00,\n",
              "          0.0000e+00,  0.0000e+00,  0.0000e+00,  0.0000e+00,  0.0000e+00,\n",
              "          0.0000e+00,  3.8355e+02,  1.5625e-01, -1.3999e+02,  1.0000e+00,\n",
              "          0.0000e+00],\n",
              "        [ 0.0000e+00,  0.0000e+00,  0.0000e+00,  0.0000e+00,  0.0000e+00,\n",
              "          0.0000e+00,  0.0000e+00,  0.0000e+00,  0.0000e+00,  0.0000e+00,\n",
              "          0.0000e+00,  3.8181e+02,  1.7188e-01, -1.3998e+02,  1.0000e+00,\n",
              "          0.0000e+00],\n",
              "        [ 0.0000e+00,  0.0000e+00,  0.0000e+00,  0.0000e+00,  0.0000e+00,\n",
              "          0.0000e+00,  0.0000e+00,  0.0000e+00,  0.0000e+00,  0.0000e+00,\n",
              "          0.0000e+00,  3.6791e+02,  2.0312e-01, -1.3912e+02,  1.0000e+00,\n",
              "          0.0000e+00],\n",
              "        [ 0.0000e+00,  0.0000e+00,  0.0000e+00,  0.0000e+00,  0.0000e+00,\n",
              "          0.0000e+00,  0.0000e+00,  0.0000e+00,  0.0000e+00,  0.0000e+00,\n",
              "          0.0000e+00,  3.6449e+02,  2.1875e-01, -1.3840e+02,  1.0000e+00,\n",
              "          0.0000e+00],\n",
              "        [ 0.0000e+00,  0.0000e+00,  0.0000e+00,  0.0000e+00,  0.0000e+00,\n",
              "          0.0000e+00,  0.0000e+00,  0.0000e+00,  0.0000e+00,  0.0000e+00,\n",
              "          0.0000e+00,  3.6345e+02,  2.6562e-01, -1.3814e+02,  1.0000e+00,\n",
              "          0.0000e+00],\n",
              "        [ 0.0000e+00,  0.0000e+00,  0.0000e+00,  0.0000e+00,  0.0000e+00,\n",
              "          0.0000e+00,  0.0000e+00,  0.0000e+00,  0.0000e+00,  0.0000e+00,\n",
              "          0.0000e+00,  3.6088e+02,  3.5938e-01, -1.3786e+02,  1.0000e+00,\n",
              "          0.0000e+00],\n",
              "        [ 0.0000e+00,  0.0000e+00,  0.0000e+00,  0.0000e+00,  0.0000e+00,\n",
              "          0.0000e+00,  0.0000e+00,  0.0000e+00,  0.0000e+00,  0.0000e+00,\n",
              "          0.0000e+00,  3.6011e+02,  3.5938e-01, -1.3643e+02,  1.0000e+00,\n",
              "          0.0000e+00],\n",
              "        [ 0.0000e+00,  0.0000e+00,  0.0000e+00,  0.0000e+00,  0.0000e+00,\n",
              "          0.0000e+00,  0.0000e+00,  0.0000e+00,  0.0000e+00,  0.0000e+00,\n",
              "          0.0000e+00,  3.5769e+02,  4.0625e-01, -1.2137e+02,  1.0000e+00,\n",
              "          0.0000e+00],\n",
              "        [ 0.0000e+00,  0.0000e+00,  0.0000e+00,  0.0000e+00,  0.0000e+00,\n",
              "          0.0000e+00,  0.0000e+00,  0.0000e+00,  0.0000e+00,  0.0000e+00,\n",
              "          0.0000e+00,  3.5351e+02,  4.2188e-01, -1.2039e+02,  1.0000e+00,\n",
              "          0.0000e+00],\n",
              "        [ 0.0000e+00,  0.0000e+00,  0.0000e+00,  0.0000e+00,  0.0000e+00,\n",
              "          0.0000e+00,  0.0000e+00,  0.0000e+00,  0.0000e+00,  0.0000e+00,\n",
              "          0.0000e+00,  3.5299e+02,  4.2188e-01, -1.1916e+02,  1.0000e+00,\n",
              "          0.0000e+00],\n",
              "        [ 0.0000e+00,  0.0000e+00,  0.0000e+00,  0.0000e+00,  0.0000e+00,\n",
              "          0.0000e+00,  0.0000e+00,  0.0000e+00,  0.0000e+00,  0.0000e+00,\n",
              "          0.0000e+00,  3.4924e+02,  4.5312e-01, -1.1889e+02,  1.0000e+00,\n",
              "          0.0000e+00],\n",
              "        [ 0.0000e+00,  0.0000e+00,  0.0000e+00,  0.0000e+00,  0.0000e+00,\n",
              "          0.0000e+00,  0.0000e+00,  0.0000e+00,  0.0000e+00,  0.0000e+00,\n",
              "          0.0000e+00,  3.4868e+02,  5.1562e-01, -1.1849e+02,  1.0000e+00,\n",
              "          0.0000e+00],\n",
              "        [ 0.0000e+00,  0.0000e+00,  0.0000e+00,  0.0000e+00,  0.0000e+00,\n",
              "          0.0000e+00,  0.0000e+00,  0.0000e+00,  0.0000e+00,  0.0000e+00,\n",
              "          0.0000e+00,  3.4656e+02,  5.3125e-01, -1.1766e+02,  1.0000e+00,\n",
              "          0.0000e+00],\n",
              "        [ 0.0000e+00,  0.0000e+00,  0.0000e+00,  0.0000e+00,  0.0000e+00,\n",
              "          0.0000e+00,  0.0000e+00,  0.0000e+00,  0.0000e+00,  0.0000e+00,\n",
              "          0.0000e+00,  3.4617e+02,  5.4688e-01, -1.1757e+02,  1.0000e+00,\n",
              "          0.0000e+00],\n",
              "        [ 0.0000e+00,  0.0000e+00,  0.0000e+00,  0.0000e+00,  0.0000e+00,\n",
              "          0.0000e+00,  0.0000e+00,  0.0000e+00,  0.0000e+00,  0.0000e+00,\n",
              "          0.0000e+00,  3.4532e+02,  5.7812e-01, -1.1586e+02,  1.0000e+00,\n",
              "          0.0000e+00],\n",
              "        [ 0.0000e+00,  0.0000e+00,  0.0000e+00,  0.0000e+00,  0.0000e+00,\n",
              "          0.0000e+00,  0.0000e+00,  0.0000e+00,  0.0000e+00,  0.0000e+00,\n",
              "          0.0000e+00,  3.4348e+02,  6.0938e-01, -1.1503e+02,  1.0000e+00,\n",
              "          0.0000e+00],\n",
              "        [ 0.0000e+00,  0.0000e+00,  0.0000e+00,  0.0000e+00,  0.0000e+00,\n",
              "          0.0000e+00,  0.0000e+00,  0.0000e+00,  0.0000e+00,  0.0000e+00,\n",
              "          0.0000e+00,  3.4346e+02,  6.7188e-01, -1.1455e+02,  1.0000e+00,\n",
              "          0.0000e+00],\n",
              "        [ 0.0000e+00,  0.0000e+00,  0.0000e+00,  0.0000e+00,  0.0000e+00,\n",
              "          0.0000e+00,  0.0000e+00,  0.0000e+00,  0.0000e+00,  0.0000e+00,\n",
              "          0.0000e+00,  3.3654e+02,  6.8750e-01, -1.1378e+02,  1.0000e+00,\n",
              "          0.0000e+00],\n",
              "        [ 0.0000e+00,  0.0000e+00,  0.0000e+00,  0.0000e+00,  0.0000e+00,\n",
              "          0.0000e+00,  0.0000e+00,  0.0000e+00,  0.0000e+00,  0.0000e+00,\n",
              "          0.0000e+00,  3.3403e+02,  7.6562e-01, -1.1311e+02,  1.0000e+00,\n",
              "          0.0000e+00],\n",
              "        [ 0.0000e+00,  0.0000e+00,  0.0000e+00,  0.0000e+00,  0.0000e+00,\n",
              "          0.0000e+00,  0.0000e+00,  0.0000e+00,  0.0000e+00,  0.0000e+00,\n",
              "          0.0000e+00,  3.3388e+02,  9.5312e-01, -1.1222e+02,  1.0000e+00,\n",
              "          0.0000e+00],\n",
              "        [ 0.0000e+00,  0.0000e+00,  0.0000e+00,  0.0000e+00,  0.0000e+00,\n",
              "          0.0000e+00,  0.0000e+00,  0.0000e+00,  0.0000e+00,  0.0000e+00,\n",
              "          0.0000e+00,  3.3344e+02,  9.5312e-01, -1.0806e+02,  1.0000e+00,\n",
              "          0.0000e+00],\n",
              "        [ 0.0000e+00,  0.0000e+00,  0.0000e+00,  0.0000e+00,  0.0000e+00,\n",
              "          0.0000e+00,  0.0000e+00,  0.0000e+00,  0.0000e+00,  0.0000e+00,\n",
              "          0.0000e+00,  3.3264e+02,  9.8438e-01, -1.0682e+02,  1.0000e+00,\n",
              "          0.0000e+00],\n",
              "        [ 0.0000e+00,  0.0000e+00,  0.0000e+00,  0.0000e+00,  0.0000e+00,\n",
              "          0.0000e+00,  0.0000e+00,  0.0000e+00,  0.0000e+00,  0.0000e+00,\n",
              "          0.0000e+00,  3.3240e+02,  1.0469e+00, -1.0323e+02,  1.0000e+00,\n",
              "          0.0000e+00],\n",
              "        [ 0.0000e+00,  0.0000e+00,  0.0000e+00,  0.0000e+00,  0.0000e+00,\n",
              "          0.0000e+00,  0.0000e+00,  0.0000e+00,  0.0000e+00,  0.0000e+00,\n",
              "          0.0000e+00,  3.3070e+02,  1.0625e+00, -1.0205e+02,  1.0000e+00,\n",
              "          0.0000e+00],\n",
              "        [ 0.0000e+00,  0.0000e+00,  0.0000e+00,  0.0000e+00,  0.0000e+00,\n",
              "          0.0000e+00,  0.0000e+00,  0.0000e+00,  0.0000e+00,  0.0000e+00,\n",
              "          0.0000e+00,  3.2743e+02,  1.2188e+00, -1.0033e+02,  1.0000e+00,\n",
              "          0.0000e+00],\n",
              "        [ 0.0000e+00,  0.0000e+00,  0.0000e+00,  0.0000e+00,  0.0000e+00,\n",
              "          0.0000e+00,  0.0000e+00,  0.0000e+00,  0.0000e+00,  0.0000e+00,\n",
              "          0.0000e+00,  3.2519e+02,  1.2344e+00, -9.7495e+01,  1.0000e+00,\n",
              "          0.0000e+00],\n",
              "        [ 0.0000e+00,  0.0000e+00,  0.0000e+00,  0.0000e+00,  0.0000e+00,\n",
              "          0.0000e+00,  0.0000e+00,  0.0000e+00,  0.0000e+00,  0.0000e+00,\n",
              "          0.0000e+00,  3.2267e+02,  1.2500e+00, -9.6302e+01,  1.0000e+00,\n",
              "          0.0000e+00],\n",
              "        [ 0.0000e+00,  0.0000e+00,  0.0000e+00,  0.0000e+00,  0.0000e+00,\n",
              "          0.0000e+00,  0.0000e+00,  0.0000e+00,  0.0000e+00,  0.0000e+00,\n",
              "          0.0000e+00,  3.2090e+02,  1.2500e+00, -9.3835e+01,  1.0000e+00,\n",
              "          0.0000e+00],\n",
              "        [ 0.0000e+00,  0.0000e+00,  0.0000e+00,  0.0000e+00,  0.0000e+00,\n",
              "          0.0000e+00,  0.0000e+00,  0.0000e+00,  0.0000e+00,  0.0000e+00,\n",
              "          0.0000e+00,  3.2024e+02,  1.2812e+00, -9.3753e+01,  1.0000e+00,\n",
              "          0.0000e+00],\n",
              "        [ 0.0000e+00,  0.0000e+00,  0.0000e+00,  0.0000e+00,  0.0000e+00,\n",
              "          0.0000e+00,  0.0000e+00,  0.0000e+00,  0.0000e+00,  0.0000e+00,\n",
              "          0.0000e+00,  3.1984e+02,  1.3750e+00, -9.1259e+01,  1.0000e+00,\n",
              "          0.0000e+00],\n",
              "        [ 0.0000e+00,  0.0000e+00,  0.0000e+00,  0.0000e+00,  0.0000e+00,\n",
              "          0.0000e+00,  0.0000e+00,  0.0000e+00,  0.0000e+00,  0.0000e+00,\n",
              "          0.0000e+00,  3.1949e+02,  1.4531e+00, -8.7948e+01,  1.0000e+00,\n",
              "          0.0000e+00],\n",
              "        [ 0.0000e+00,  0.0000e+00,  0.0000e+00,  0.0000e+00,  0.0000e+00,\n",
              "          0.0000e+00,  0.0000e+00,  0.0000e+00,  0.0000e+00,  0.0000e+00,\n",
              "          0.0000e+00,  3.1881e+02,  1.4844e+00, -8.7803e+01,  1.0000e+00,\n",
              "          0.0000e+00],\n",
              "        [ 0.0000e+00,  0.0000e+00,  0.0000e+00,  0.0000e+00,  0.0000e+00,\n",
              "          0.0000e+00,  0.0000e+00,  0.0000e+00,  0.0000e+00,  0.0000e+00,\n",
              "          0.0000e+00,  3.1879e+02,  1.5312e+00, -8.7583e+01,  1.0000e+00,\n",
              "          0.0000e+00],\n",
              "        [ 0.0000e+00,  0.0000e+00,  0.0000e+00,  0.0000e+00,  0.0000e+00,\n",
              "          0.0000e+00,  0.0000e+00,  0.0000e+00,  0.0000e+00,  0.0000e+00,\n",
              "          0.0000e+00,  3.1832e+02,  1.5625e+00, -8.5936e+01,  1.0000e+00,\n",
              "          0.0000e+00],\n",
              "        [ 0.0000e+00,  0.0000e+00,  0.0000e+00,  0.0000e+00,  0.0000e+00,\n",
              "          0.0000e+00,  0.0000e+00,  0.0000e+00,  0.0000e+00,  0.0000e+00,\n",
              "          0.0000e+00,  3.1829e+02,  1.5781e+00, -8.4810e+01,  1.0000e+00,\n",
              "          0.0000e+00],\n",
              "        [ 0.0000e+00,  0.0000e+00,  0.0000e+00,  0.0000e+00,  0.0000e+00,\n",
              "          0.0000e+00,  0.0000e+00,  0.0000e+00,  0.0000e+00,  0.0000e+00,\n",
              "          0.0000e+00,  3.1823e+02,  1.6094e+00, -8.2587e+01,  1.0000e+00,\n",
              "          0.0000e+00],\n",
              "        [ 0.0000e+00,  0.0000e+00,  0.0000e+00,  0.0000e+00,  0.0000e+00,\n",
              "          0.0000e+00,  0.0000e+00,  0.0000e+00,  0.0000e+00,  0.0000e+00,\n",
              "          0.0000e+00,  3.1817e+02,  1.8906e+00, -8.1256e+01,  1.0000e+00,\n",
              "          0.0000e+00],\n",
              "        [ 0.0000e+00,  0.0000e+00,  0.0000e+00,  0.0000e+00,  0.0000e+00,\n",
              "          0.0000e+00,  0.0000e+00,  0.0000e+00,  0.0000e+00,  0.0000e+00,\n",
              "          0.0000e+00,  3.1812e+02,  1.8906e+00, -7.9770e+01,  1.0000e+00,\n",
              "          0.0000e+00],\n",
              "        [ 0.0000e+00,  0.0000e+00,  0.0000e+00,  0.0000e+00,  0.0000e+00,\n",
              "          0.0000e+00,  0.0000e+00,  0.0000e+00,  0.0000e+00,  0.0000e+00,\n",
              "          0.0000e+00,  3.1805e+02,  1.9219e+00, -7.9414e+01,  1.0000e+00,\n",
              "          0.0000e+00],\n",
              "        [ 0.0000e+00,  0.0000e+00,  0.0000e+00,  0.0000e+00,  0.0000e+00,\n",
              "          0.0000e+00,  0.0000e+00,  0.0000e+00,  0.0000e+00,  0.0000e+00,\n",
              "          0.0000e+00,  3.1750e+02,  1.9688e+00, -7.8416e+01,  1.0000e+00,\n",
              "          0.0000e+00],\n",
              "        [ 0.0000e+00,  0.0000e+00,  0.0000e+00,  0.0000e+00,  0.0000e+00,\n",
              "          0.0000e+00,  0.0000e+00,  0.0000e+00,  0.0000e+00,  0.0000e+00,\n",
              "          0.0000e+00,  3.1741e+02,  2.0000e+00, -7.7268e+01,  1.0000e+00,\n",
              "          0.0000e+00],\n",
              "        [ 0.0000e+00,  0.0000e+00,  0.0000e+00,  0.0000e+00,  0.0000e+00,\n",
              "          0.0000e+00,  0.0000e+00,  0.0000e+00,  0.0000e+00,  0.0000e+00,\n",
              "          0.0000e+00,  3.1603e+02,  2.0156e+00, -7.6515e+01,  1.0000e+00,\n",
              "          0.0000e+00],\n",
              "        [ 0.0000e+00,  0.0000e+00,  0.0000e+00,  0.0000e+00,  0.0000e+00,\n",
              "          0.0000e+00,  0.0000e+00,  0.0000e+00,  0.0000e+00,  0.0000e+00,\n",
              "          0.0000e+00,  3.1275e+02,  2.0156e+00, -7.6148e+01,  1.0000e+00,\n",
              "          0.0000e+00],\n",
              "        [ 0.0000e+00,  0.0000e+00,  0.0000e+00,  0.0000e+00,  0.0000e+00,\n",
              "          0.0000e+00,  0.0000e+00,  0.0000e+00,  0.0000e+00,  0.0000e+00,\n",
              "          0.0000e+00,  3.1222e+02,  2.0312e+00, -7.5815e+01,  1.0000e+00,\n",
              "          0.0000e+00],\n",
              "        [ 0.0000e+00,  0.0000e+00,  0.0000e+00,  0.0000e+00,  0.0000e+00,\n",
              "          0.0000e+00,  0.0000e+00,  0.0000e+00,  0.0000e+00,  0.0000e+00,\n",
              "          0.0000e+00,  3.1027e+02,  2.0469e+00, -7.5207e+01,  1.0000e+00,\n",
              "          0.0000e+00],\n",
              "        [ 0.0000e+00,  0.0000e+00,  0.0000e+00,  0.0000e+00,  0.0000e+00,\n",
              "          0.0000e+00,  0.0000e+00,  0.0000e+00,  0.0000e+00,  0.0000e+00,\n",
              "          0.0000e+00,  3.0970e+02,  2.1406e+00, -7.3903e+01,  1.0000e+00,\n",
              "          0.0000e+00]])"
            ]
          },
          "metadata": {},
          "execution_count": 39
        }
      ]
    },
    {
      "cell_type": "code",
      "source": [
        "mv_bifurcating_tensor = get_vector_mv(bifurcating_tensor)"
      ],
      "metadata": {
        "id": "udTS8B-jTsce"
      },
      "execution_count": 40,
      "outputs": []
    },
    {
      "cell_type": "markdown",
      "source": [
        "#Embed in geometric algebra"
      ],
      "metadata": {
        "id": "-ddxOrDljqRb"
      }
    },
    {
      "cell_type": "code",
      "source": [
        "single_label = torch.zeros(single_tensor.shape[0],1)\n",
        "single_label_mv = scalar_to_mv(single_label)\n",
        "bifurcating_label = torch.ones(bifurcating_tensor.shape[0],1)\n",
        "bifurcating_label_mv = scalar_to_mv(bifurcating_label)\n",
        "\n",
        "final_single_tensor = torch.cat((mv_single_tensor, single_label_mv), dim=1)\n",
        "final_bifurcating_tensor = torch.cat((mv_bifurcating_tensor, bifurcating_label_mv), dim=1)"
      ],
      "metadata": {
        "id": "akuihqDhHZ9Y"
      },
      "execution_count": 44,
      "outputs": []
    },
    {
      "cell_type": "markdown",
      "source": [],
      "metadata": {
        "id": "KDpt6B3gcGa7"
      }
    },
    {
      "cell_type": "code",
      "source": [
        "total_tensor = torch.cat((final_single_tensor, final_bifurcating_tensor), dim=0)\n",
        "total_tensor.shape"
      ],
      "metadata": {
        "colab": {
          "base_uri": "https://localhost:8080/"
        },
        "id": "Q_sCLMxhHd1g",
        "outputId": "f98acbae-2372-4799-954a-60d2ead20bdb"
      },
      "execution_count": 45,
      "outputs": [
        {
          "output_type": "execute_result",
          "data": {
            "text/plain": [
              "torch.Size([3999, 51, 16])"
            ]
          },
          "metadata": {},
          "execution_count": 45
        }
      ]
    },
    {
      "cell_type": "code",
      "source": [
        "total_tensor = total_tensor.unsqueeze(2)"
      ],
      "metadata": {
        "id": "oii2OLIlh7cA"
      },
      "execution_count": 46,
      "outputs": []
    },
    {
      "cell_type": "code",
      "source": [
        "total_tensor.shape"
      ],
      "metadata": {
        "colab": {
          "base_uri": "https://localhost:8080/"
        },
        "id": "kUnsGZ9piEl_",
        "outputId": "f2b745c1-7296-4cc2-986d-4c6e594e6f0f"
      },
      "execution_count": 47,
      "outputs": [
        {
          "output_type": "execute_result",
          "data": {
            "text/plain": [
              "torch.Size([3999, 51, 1, 16])"
            ]
          },
          "metadata": {},
          "execution_count": 47
        }
      ]
    },
    {
      "cell_type": "code",
      "source": [
        "total_tensor[0]"
      ],
      "metadata": {
        "colab": {
          "base_uri": "https://localhost:8080/"
        },
        "id": "ZbNnUXS_jpFw",
        "outputId": "6ea150b0-b7c7-46bc-8754-1be0f2006ff3"
      },
      "execution_count": 48,
      "outputs": [
        {
          "output_type": "execute_result",
          "data": {
            "text/plain": [
              "tensor([[[ 0.0000e+00,  0.0000e+00,  0.0000e+00,  0.0000e+00,  0.0000e+00,\n",
              "           0.0000e+00,  0.0000e+00,  0.0000e+00,  0.0000e+00,  0.0000e+00,\n",
              "           0.0000e+00,  4.0314e+02,  0.0000e+00, -1.4167e+02,  1.0000e+00,\n",
              "           0.0000e+00]],\n",
              "\n",
              "        [[ 0.0000e+00,  0.0000e+00,  0.0000e+00,  0.0000e+00,  0.0000e+00,\n",
              "           0.0000e+00,  0.0000e+00,  0.0000e+00,  0.0000e+00,  0.0000e+00,\n",
              "           0.0000e+00,  4.0121e+02,  6.2500e-02, -1.4105e+02,  1.0000e+00,\n",
              "           0.0000e+00]],\n",
              "\n",
              "        [[ 0.0000e+00,  0.0000e+00,  0.0000e+00,  0.0000e+00,  0.0000e+00,\n",
              "           0.0000e+00,  0.0000e+00,  0.0000e+00,  0.0000e+00,  0.0000e+00,\n",
              "           0.0000e+00,  3.8987e+02,  1.2500e-01, -1.4032e+02,  1.0000e+00,\n",
              "           0.0000e+00]],\n",
              "\n",
              "        [[ 0.0000e+00,  0.0000e+00,  0.0000e+00,  0.0000e+00,  0.0000e+00,\n",
              "           0.0000e+00,  0.0000e+00,  0.0000e+00,  0.0000e+00,  0.0000e+00,\n",
              "           0.0000e+00,  3.8926e+02,  1.4062e-01, -1.4020e+02,  1.0000e+00,\n",
              "           0.0000e+00]],\n",
              "\n",
              "        [[ 0.0000e+00,  0.0000e+00,  0.0000e+00,  0.0000e+00,  0.0000e+00,\n",
              "           0.0000e+00,  0.0000e+00,  0.0000e+00,  0.0000e+00,  0.0000e+00,\n",
              "           0.0000e+00,  3.8355e+02,  1.5625e-01, -1.3999e+02,  1.0000e+00,\n",
              "           0.0000e+00]],\n",
              "\n",
              "        [[ 0.0000e+00,  0.0000e+00,  0.0000e+00,  0.0000e+00,  0.0000e+00,\n",
              "           0.0000e+00,  0.0000e+00,  0.0000e+00,  0.0000e+00,  0.0000e+00,\n",
              "           0.0000e+00,  3.8181e+02,  1.7188e-01, -1.3998e+02,  1.0000e+00,\n",
              "           0.0000e+00]],\n",
              "\n",
              "        [[ 0.0000e+00,  0.0000e+00,  0.0000e+00,  0.0000e+00,  0.0000e+00,\n",
              "           0.0000e+00,  0.0000e+00,  0.0000e+00,  0.0000e+00,  0.0000e+00,\n",
              "           0.0000e+00,  3.6791e+02,  2.0312e-01, -1.3912e+02,  1.0000e+00,\n",
              "           0.0000e+00]],\n",
              "\n",
              "        [[ 0.0000e+00,  0.0000e+00,  0.0000e+00,  0.0000e+00,  0.0000e+00,\n",
              "           0.0000e+00,  0.0000e+00,  0.0000e+00,  0.0000e+00,  0.0000e+00,\n",
              "           0.0000e+00,  3.6449e+02,  2.1875e-01, -1.3840e+02,  1.0000e+00,\n",
              "           0.0000e+00]],\n",
              "\n",
              "        [[ 0.0000e+00,  0.0000e+00,  0.0000e+00,  0.0000e+00,  0.0000e+00,\n",
              "           0.0000e+00,  0.0000e+00,  0.0000e+00,  0.0000e+00,  0.0000e+00,\n",
              "           0.0000e+00,  3.6345e+02,  2.6562e-01, -1.3814e+02,  1.0000e+00,\n",
              "           0.0000e+00]],\n",
              "\n",
              "        [[ 0.0000e+00,  0.0000e+00,  0.0000e+00,  0.0000e+00,  0.0000e+00,\n",
              "           0.0000e+00,  0.0000e+00,  0.0000e+00,  0.0000e+00,  0.0000e+00,\n",
              "           0.0000e+00,  3.6088e+02,  3.5938e-01, -1.3786e+02,  1.0000e+00,\n",
              "           0.0000e+00]],\n",
              "\n",
              "        [[ 0.0000e+00,  0.0000e+00,  0.0000e+00,  0.0000e+00,  0.0000e+00,\n",
              "           0.0000e+00,  0.0000e+00,  0.0000e+00,  0.0000e+00,  0.0000e+00,\n",
              "           0.0000e+00,  3.6011e+02,  3.5938e-01, -1.3643e+02,  1.0000e+00,\n",
              "           0.0000e+00]],\n",
              "\n",
              "        [[ 0.0000e+00,  0.0000e+00,  0.0000e+00,  0.0000e+00,  0.0000e+00,\n",
              "           0.0000e+00,  0.0000e+00,  0.0000e+00,  0.0000e+00,  0.0000e+00,\n",
              "           0.0000e+00,  3.5769e+02,  4.0625e-01, -1.2137e+02,  1.0000e+00,\n",
              "           0.0000e+00]],\n",
              "\n",
              "        [[ 0.0000e+00,  0.0000e+00,  0.0000e+00,  0.0000e+00,  0.0000e+00,\n",
              "           0.0000e+00,  0.0000e+00,  0.0000e+00,  0.0000e+00,  0.0000e+00,\n",
              "           0.0000e+00,  3.5351e+02,  4.2188e-01, -1.2039e+02,  1.0000e+00,\n",
              "           0.0000e+00]],\n",
              "\n",
              "        [[ 0.0000e+00,  0.0000e+00,  0.0000e+00,  0.0000e+00,  0.0000e+00,\n",
              "           0.0000e+00,  0.0000e+00,  0.0000e+00,  0.0000e+00,  0.0000e+00,\n",
              "           0.0000e+00,  3.5299e+02,  4.2188e-01, -1.1916e+02,  1.0000e+00,\n",
              "           0.0000e+00]],\n",
              "\n",
              "        [[ 0.0000e+00,  0.0000e+00,  0.0000e+00,  0.0000e+00,  0.0000e+00,\n",
              "           0.0000e+00,  0.0000e+00,  0.0000e+00,  0.0000e+00,  0.0000e+00,\n",
              "           0.0000e+00,  3.4924e+02,  4.5312e-01, -1.1889e+02,  1.0000e+00,\n",
              "           0.0000e+00]],\n",
              "\n",
              "        [[ 0.0000e+00,  0.0000e+00,  0.0000e+00,  0.0000e+00,  0.0000e+00,\n",
              "           0.0000e+00,  0.0000e+00,  0.0000e+00,  0.0000e+00,  0.0000e+00,\n",
              "           0.0000e+00,  3.4868e+02,  5.1562e-01, -1.1849e+02,  1.0000e+00,\n",
              "           0.0000e+00]],\n",
              "\n",
              "        [[ 0.0000e+00,  0.0000e+00,  0.0000e+00,  0.0000e+00,  0.0000e+00,\n",
              "           0.0000e+00,  0.0000e+00,  0.0000e+00,  0.0000e+00,  0.0000e+00,\n",
              "           0.0000e+00,  3.4656e+02,  5.3125e-01, -1.1766e+02,  1.0000e+00,\n",
              "           0.0000e+00]],\n",
              "\n",
              "        [[ 0.0000e+00,  0.0000e+00,  0.0000e+00,  0.0000e+00,  0.0000e+00,\n",
              "           0.0000e+00,  0.0000e+00,  0.0000e+00,  0.0000e+00,  0.0000e+00,\n",
              "           0.0000e+00,  3.4617e+02,  5.4688e-01, -1.1757e+02,  1.0000e+00,\n",
              "           0.0000e+00]],\n",
              "\n",
              "        [[ 0.0000e+00,  0.0000e+00,  0.0000e+00,  0.0000e+00,  0.0000e+00,\n",
              "           0.0000e+00,  0.0000e+00,  0.0000e+00,  0.0000e+00,  0.0000e+00,\n",
              "           0.0000e+00,  3.4532e+02,  5.7812e-01, -1.1586e+02,  1.0000e+00,\n",
              "           0.0000e+00]],\n",
              "\n",
              "        [[ 0.0000e+00,  0.0000e+00,  0.0000e+00,  0.0000e+00,  0.0000e+00,\n",
              "           0.0000e+00,  0.0000e+00,  0.0000e+00,  0.0000e+00,  0.0000e+00,\n",
              "           0.0000e+00,  3.4348e+02,  6.0938e-01, -1.1503e+02,  1.0000e+00,\n",
              "           0.0000e+00]],\n",
              "\n",
              "        [[ 0.0000e+00,  0.0000e+00,  0.0000e+00,  0.0000e+00,  0.0000e+00,\n",
              "           0.0000e+00,  0.0000e+00,  0.0000e+00,  0.0000e+00,  0.0000e+00,\n",
              "           0.0000e+00,  3.4346e+02,  6.7188e-01, -1.1455e+02,  1.0000e+00,\n",
              "           0.0000e+00]],\n",
              "\n",
              "        [[ 0.0000e+00,  0.0000e+00,  0.0000e+00,  0.0000e+00,  0.0000e+00,\n",
              "           0.0000e+00,  0.0000e+00,  0.0000e+00,  0.0000e+00,  0.0000e+00,\n",
              "           0.0000e+00,  3.3654e+02,  6.8750e-01, -1.1378e+02,  1.0000e+00,\n",
              "           0.0000e+00]],\n",
              "\n",
              "        [[ 0.0000e+00,  0.0000e+00,  0.0000e+00,  0.0000e+00,  0.0000e+00,\n",
              "           0.0000e+00,  0.0000e+00,  0.0000e+00,  0.0000e+00,  0.0000e+00,\n",
              "           0.0000e+00,  3.3403e+02,  7.6562e-01, -1.1311e+02,  1.0000e+00,\n",
              "           0.0000e+00]],\n",
              "\n",
              "        [[ 0.0000e+00,  0.0000e+00,  0.0000e+00,  0.0000e+00,  0.0000e+00,\n",
              "           0.0000e+00,  0.0000e+00,  0.0000e+00,  0.0000e+00,  0.0000e+00,\n",
              "           0.0000e+00,  3.3388e+02,  9.5312e-01, -1.1222e+02,  1.0000e+00,\n",
              "           0.0000e+00]],\n",
              "\n",
              "        [[ 0.0000e+00,  0.0000e+00,  0.0000e+00,  0.0000e+00,  0.0000e+00,\n",
              "           0.0000e+00,  0.0000e+00,  0.0000e+00,  0.0000e+00,  0.0000e+00,\n",
              "           0.0000e+00,  3.3344e+02,  9.5312e-01, -1.0806e+02,  1.0000e+00,\n",
              "           0.0000e+00]],\n",
              "\n",
              "        [[ 0.0000e+00,  0.0000e+00,  0.0000e+00,  0.0000e+00,  0.0000e+00,\n",
              "           0.0000e+00,  0.0000e+00,  0.0000e+00,  0.0000e+00,  0.0000e+00,\n",
              "           0.0000e+00,  3.3264e+02,  9.8438e-01, -1.0682e+02,  1.0000e+00,\n",
              "           0.0000e+00]],\n",
              "\n",
              "        [[ 0.0000e+00,  0.0000e+00,  0.0000e+00,  0.0000e+00,  0.0000e+00,\n",
              "           0.0000e+00,  0.0000e+00,  0.0000e+00,  0.0000e+00,  0.0000e+00,\n",
              "           0.0000e+00,  3.3240e+02,  1.0469e+00, -1.0323e+02,  1.0000e+00,\n",
              "           0.0000e+00]],\n",
              "\n",
              "        [[ 0.0000e+00,  0.0000e+00,  0.0000e+00,  0.0000e+00,  0.0000e+00,\n",
              "           0.0000e+00,  0.0000e+00,  0.0000e+00,  0.0000e+00,  0.0000e+00,\n",
              "           0.0000e+00,  3.3070e+02,  1.0625e+00, -1.0205e+02,  1.0000e+00,\n",
              "           0.0000e+00]],\n",
              "\n",
              "        [[ 0.0000e+00,  0.0000e+00,  0.0000e+00,  0.0000e+00,  0.0000e+00,\n",
              "           0.0000e+00,  0.0000e+00,  0.0000e+00,  0.0000e+00,  0.0000e+00,\n",
              "           0.0000e+00,  3.2743e+02,  1.2188e+00, -1.0033e+02,  1.0000e+00,\n",
              "           0.0000e+00]],\n",
              "\n",
              "        [[ 0.0000e+00,  0.0000e+00,  0.0000e+00,  0.0000e+00,  0.0000e+00,\n",
              "           0.0000e+00,  0.0000e+00,  0.0000e+00,  0.0000e+00,  0.0000e+00,\n",
              "           0.0000e+00,  3.2519e+02,  1.2344e+00, -9.7495e+01,  1.0000e+00,\n",
              "           0.0000e+00]],\n",
              "\n",
              "        [[ 0.0000e+00,  0.0000e+00,  0.0000e+00,  0.0000e+00,  0.0000e+00,\n",
              "           0.0000e+00,  0.0000e+00,  0.0000e+00,  0.0000e+00,  0.0000e+00,\n",
              "           0.0000e+00,  3.2267e+02,  1.2500e+00, -9.6302e+01,  1.0000e+00,\n",
              "           0.0000e+00]],\n",
              "\n",
              "        [[ 0.0000e+00,  0.0000e+00,  0.0000e+00,  0.0000e+00,  0.0000e+00,\n",
              "           0.0000e+00,  0.0000e+00,  0.0000e+00,  0.0000e+00,  0.0000e+00,\n",
              "           0.0000e+00,  3.2090e+02,  1.2500e+00, -9.3835e+01,  1.0000e+00,\n",
              "           0.0000e+00]],\n",
              "\n",
              "        [[ 0.0000e+00,  0.0000e+00,  0.0000e+00,  0.0000e+00,  0.0000e+00,\n",
              "           0.0000e+00,  0.0000e+00,  0.0000e+00,  0.0000e+00,  0.0000e+00,\n",
              "           0.0000e+00,  3.2024e+02,  1.2812e+00, -9.3753e+01,  1.0000e+00,\n",
              "           0.0000e+00]],\n",
              "\n",
              "        [[ 0.0000e+00,  0.0000e+00,  0.0000e+00,  0.0000e+00,  0.0000e+00,\n",
              "           0.0000e+00,  0.0000e+00,  0.0000e+00,  0.0000e+00,  0.0000e+00,\n",
              "           0.0000e+00,  3.1984e+02,  1.3750e+00, -9.1259e+01,  1.0000e+00,\n",
              "           0.0000e+00]],\n",
              "\n",
              "        [[ 0.0000e+00,  0.0000e+00,  0.0000e+00,  0.0000e+00,  0.0000e+00,\n",
              "           0.0000e+00,  0.0000e+00,  0.0000e+00,  0.0000e+00,  0.0000e+00,\n",
              "           0.0000e+00,  3.1949e+02,  1.4531e+00, -8.7948e+01,  1.0000e+00,\n",
              "           0.0000e+00]],\n",
              "\n",
              "        [[ 0.0000e+00,  0.0000e+00,  0.0000e+00,  0.0000e+00,  0.0000e+00,\n",
              "           0.0000e+00,  0.0000e+00,  0.0000e+00,  0.0000e+00,  0.0000e+00,\n",
              "           0.0000e+00,  3.1881e+02,  1.4844e+00, -8.7803e+01,  1.0000e+00,\n",
              "           0.0000e+00]],\n",
              "\n",
              "        [[ 0.0000e+00,  0.0000e+00,  0.0000e+00,  0.0000e+00,  0.0000e+00,\n",
              "           0.0000e+00,  0.0000e+00,  0.0000e+00,  0.0000e+00,  0.0000e+00,\n",
              "           0.0000e+00,  3.1879e+02,  1.5312e+00, -8.7583e+01,  1.0000e+00,\n",
              "           0.0000e+00]],\n",
              "\n",
              "        [[ 0.0000e+00,  0.0000e+00,  0.0000e+00,  0.0000e+00,  0.0000e+00,\n",
              "           0.0000e+00,  0.0000e+00,  0.0000e+00,  0.0000e+00,  0.0000e+00,\n",
              "           0.0000e+00,  3.1832e+02,  1.5625e+00, -8.5936e+01,  1.0000e+00,\n",
              "           0.0000e+00]],\n",
              "\n",
              "        [[ 0.0000e+00,  0.0000e+00,  0.0000e+00,  0.0000e+00,  0.0000e+00,\n",
              "           0.0000e+00,  0.0000e+00,  0.0000e+00,  0.0000e+00,  0.0000e+00,\n",
              "           0.0000e+00,  3.1829e+02,  1.5781e+00, -8.4810e+01,  1.0000e+00,\n",
              "           0.0000e+00]],\n",
              "\n",
              "        [[ 0.0000e+00,  0.0000e+00,  0.0000e+00,  0.0000e+00,  0.0000e+00,\n",
              "           0.0000e+00,  0.0000e+00,  0.0000e+00,  0.0000e+00,  0.0000e+00,\n",
              "           0.0000e+00,  3.1823e+02,  1.6094e+00, -8.2587e+01,  1.0000e+00,\n",
              "           0.0000e+00]],\n",
              "\n",
              "        [[ 0.0000e+00,  0.0000e+00,  0.0000e+00,  0.0000e+00,  0.0000e+00,\n",
              "           0.0000e+00,  0.0000e+00,  0.0000e+00,  0.0000e+00,  0.0000e+00,\n",
              "           0.0000e+00,  3.1817e+02,  1.8906e+00, -8.1256e+01,  1.0000e+00,\n",
              "           0.0000e+00]],\n",
              "\n",
              "        [[ 0.0000e+00,  0.0000e+00,  0.0000e+00,  0.0000e+00,  0.0000e+00,\n",
              "           0.0000e+00,  0.0000e+00,  0.0000e+00,  0.0000e+00,  0.0000e+00,\n",
              "           0.0000e+00,  3.1812e+02,  1.8906e+00, -7.9770e+01,  1.0000e+00,\n",
              "           0.0000e+00]],\n",
              "\n",
              "        [[ 0.0000e+00,  0.0000e+00,  0.0000e+00,  0.0000e+00,  0.0000e+00,\n",
              "           0.0000e+00,  0.0000e+00,  0.0000e+00,  0.0000e+00,  0.0000e+00,\n",
              "           0.0000e+00,  3.1805e+02,  1.9219e+00, -7.9414e+01,  1.0000e+00,\n",
              "           0.0000e+00]],\n",
              "\n",
              "        [[ 0.0000e+00,  0.0000e+00,  0.0000e+00,  0.0000e+00,  0.0000e+00,\n",
              "           0.0000e+00,  0.0000e+00,  0.0000e+00,  0.0000e+00,  0.0000e+00,\n",
              "           0.0000e+00,  3.1750e+02,  1.9688e+00, -7.8416e+01,  1.0000e+00,\n",
              "           0.0000e+00]],\n",
              "\n",
              "        [[ 0.0000e+00,  0.0000e+00,  0.0000e+00,  0.0000e+00,  0.0000e+00,\n",
              "           0.0000e+00,  0.0000e+00,  0.0000e+00,  0.0000e+00,  0.0000e+00,\n",
              "           0.0000e+00,  3.1741e+02,  2.0000e+00, -7.7268e+01,  1.0000e+00,\n",
              "           0.0000e+00]],\n",
              "\n",
              "        [[ 0.0000e+00,  0.0000e+00,  0.0000e+00,  0.0000e+00,  0.0000e+00,\n",
              "           0.0000e+00,  0.0000e+00,  0.0000e+00,  0.0000e+00,  0.0000e+00,\n",
              "           0.0000e+00,  3.1603e+02,  2.0156e+00, -7.6515e+01,  1.0000e+00,\n",
              "           0.0000e+00]],\n",
              "\n",
              "        [[ 0.0000e+00,  0.0000e+00,  0.0000e+00,  0.0000e+00,  0.0000e+00,\n",
              "           0.0000e+00,  0.0000e+00,  0.0000e+00,  0.0000e+00,  0.0000e+00,\n",
              "           0.0000e+00,  3.1275e+02,  2.0156e+00, -7.6148e+01,  1.0000e+00,\n",
              "           0.0000e+00]],\n",
              "\n",
              "        [[ 0.0000e+00,  0.0000e+00,  0.0000e+00,  0.0000e+00,  0.0000e+00,\n",
              "           0.0000e+00,  0.0000e+00,  0.0000e+00,  0.0000e+00,  0.0000e+00,\n",
              "           0.0000e+00,  3.1222e+02,  2.0312e+00, -7.5815e+01,  1.0000e+00,\n",
              "           0.0000e+00]],\n",
              "\n",
              "        [[ 0.0000e+00,  0.0000e+00,  0.0000e+00,  0.0000e+00,  0.0000e+00,\n",
              "           0.0000e+00,  0.0000e+00,  0.0000e+00,  0.0000e+00,  0.0000e+00,\n",
              "           0.0000e+00,  3.1027e+02,  2.0469e+00, -7.5207e+01,  1.0000e+00,\n",
              "           0.0000e+00]],\n",
              "\n",
              "        [[ 0.0000e+00,  0.0000e+00,  0.0000e+00,  0.0000e+00,  0.0000e+00,\n",
              "           0.0000e+00,  0.0000e+00,  0.0000e+00,  0.0000e+00,  0.0000e+00,\n",
              "           0.0000e+00,  3.0970e+02,  2.1406e+00, -7.3903e+01,  1.0000e+00,\n",
              "           0.0000e+00]],\n",
              "\n",
              "        [[ 0.0000e+00,  0.0000e+00,  0.0000e+00,  0.0000e+00,  0.0000e+00,\n",
              "           0.0000e+00,  0.0000e+00,  0.0000e+00,  0.0000e+00,  0.0000e+00,\n",
              "           0.0000e+00,  0.0000e+00,  0.0000e+00,  0.0000e+00,  0.0000e+00,\n",
              "           0.0000e+00]]])"
            ]
          },
          "metadata": {},
          "execution_count": 48
        }
      ]
    },
    {
      "cell_type": "code",
      "source": [
        "# Otteniamo la dimensione del tensore\n",
        "batch_size, seq_length, _, feature_dim = total_tensor.size()\n",
        "\n",
        "# Generiamo un indice di permutazione casuale\n",
        "perm_idx = torch.randperm(batch_size)\n",
        "\n",
        "# Applichiamo l'indice di permutazione al tensore originale\n",
        "shuffled_data = total_tensor[perm_idx]"
      ],
      "metadata": {
        "id": "q3WKTaJ0BdSJ"
      },
      "execution_count": 49,
      "outputs": []
    },
    {
      "cell_type": "code",
      "source": [
        "train_len = int(0.8 * len(shuffled_data))\n",
        "test_len = len(shuffled_data) - train_len\n",
        "train_mv_data = shuffled_data[:train_len]\n",
        "test_mv_data = shuffled_data[train_len:]"
      ],
      "metadata": {
        "id": "Y46z9w7LPIiX"
      },
      "execution_count": 50,
      "outputs": []
    },
    {
      "cell_type": "code",
      "source": [
        "print(len(train_mv_data), len(test_mv_data))"
      ],
      "metadata": {
        "colab": {
          "base_uri": "https://localhost:8080/"
        },
        "id": "V7cCAu4tP4A-",
        "outputId": "c45d349f-d342-4c61-bec2-19943135ae82"
      },
      "execution_count": 51,
      "outputs": [
        {
          "output_type": "stream",
          "name": "stdout",
          "text": [
            "3199 800\n"
          ]
        }
      ]
    },
    {
      "cell_type": "code",
      "source": [
        "torch.save(train_mv_data, 'train_set.pt')\n",
        "torch.save(test_mv_data, 'test_set.pt')"
      ],
      "metadata": {
        "id": "wUc1scgwQIuC"
      },
      "execution_count": 52,
      "outputs": []
    },
    {
      "cell_type": "markdown",
      "source": [
        "# Data Module"
      ],
      "metadata": {
        "id": "45G6y2PuPGPn"
      }
    },
    {
      "cell_type": "markdown",
      "source": [
        "##Custom Pytorch Dataset"
      ],
      "metadata": {
        "id": "ABxos1cByY3J"
      }
    },
    {
      "cell_type": "code",
      "source": [
        "class MultivectorDataset(Dataset):\n",
        "    def __init__(self, filename , gatr_flag = True):\n",
        "        \"\"\"\n",
        "        Args:\n",
        "            mv_tensor (torch.Tensor): Tensor with shape (n_items, 3, 16)\n",
        "        \"\"\"\n",
        "        mv_tensor = torch.load(filename)\n",
        "        print(mv_tensor.shape)\n",
        "        if gatr_flag:\n",
        "          self.data = mv_tensor[:, :50, :, :]\n",
        "          # First two columns as data\n",
        "          #self.data = self.data.unsqueeze(2)\n",
        "          self.labels = mv_tensor[:, 50, :, 0]  # Last column as labels\n",
        "          #self.labels = self.labels.unsqueeze(1)\n",
        "        else:\n",
        "          self.data = mv_tensor[:, :50, :]  # First two columns as data\n",
        "          self.labels = mv_tensor[:, 50, 0]  # Last column as labels\n",
        "          self.labels = self.labels.unsqueeze(1)\n",
        "\n",
        "\n",
        "    def __len__(self):\n",
        "        return self.data.shape[0]\n",
        "\n",
        "    def __getitem__(self, idx):\n",
        "        return self.data[idx], self.labels[idx]"
      ],
      "metadata": {
        "id": "cqzjUpCr1_jI"
      },
      "execution_count": 53,
      "outputs": []
    },
    {
      "cell_type": "code",
      "source": [
        "pl.seed_everything(0)"
      ],
      "metadata": {
        "id": "J2emiYzGU1cB",
        "colab": {
          "base_uri": "https://localhost:8080/"
        },
        "outputId": "c1b00f08-0df9-4a0a-c95b-6d9d7857d674"
      },
      "execution_count": 54,
      "outputs": [
        {
          "output_type": "stream",
          "name": "stderr",
          "text": [
            "INFO:lightning_fabric.utilities.seed:Seed set to 0\n"
          ]
        },
        {
          "output_type": "execute_result",
          "data": {
            "text/plain": [
              "0"
            ]
          },
          "metadata": {},
          "execution_count": 54
        }
      ]
    },
    {
      "cell_type": "code",
      "source": [
        "class MultivectorDataModule(pl.LightningDataModule):\n",
        "    \"\"\"\n",
        "    Args:\n",
        "      mv_data (MultivectorDataset): dataset containing all multivectors;\n",
        "      batch_size (int): size of the batches during training and testing\n",
        "\n",
        "    Attributes:\n",
        "      mv_data (MultivectorDataset): dataset containing all multivectors;\n",
        "      batch_size (int): size of the batches during training and testing;\n",
        "      data_train (multivector dataset): dataset for train;\n",
        "      data_val (multivector dataset): dataset for validation;\n",
        "      data_test (multivector dataset): dataset for test;\n",
        "    \"\"\"\n",
        "\n",
        "    def __init__(self, batch_size, gatr_flag, train_mvdata_name, test_mvdata_name):\n",
        "      super(MultivectorDataModule,self).__init__()\n",
        "      self.train_data_name = train_mvdata_name\n",
        "      self.test_data_name =  test_mvdata_name\n",
        "      self.batch_size = batch_size\n",
        "      self.gatr_flag = gatr_flag\n",
        "\n",
        "    def setup(self, stage = None):\n",
        "      if stage == 'fit' or stage is None:\n",
        "            dataset = MultivectorDataset(filename = self.train_data_name, gatr_flag = self.gatr_flag)\n",
        "            train_len = dataset.__len__()\n",
        "            val_len = int(0.1*train_len)\n",
        "            val_len_split = [train_len - val_len,val_len]\n",
        "            self.data_train, self.data_val = random_split(dataset, val_len_split)\n",
        "      elif stage == 'test':\n",
        "            self.data_test = MultivectorDataset(filename = self.test_data_name, gatr_flag = self.gatr_flag)\n",
        "      elif stage == 'predict':\n",
        "            self.data_test = MultivectorDataset(filename = self.test_data_name, gatr_flag = self.gatr_flag)\n",
        "\n",
        "    def train_dataloader(self):\n",
        "        return DataLoader(self.data_train, shuffle=True, batch_size=self.batch_size, num_workers=0)\n",
        "\n",
        "    def val_dataloader(self):\n",
        "        return DataLoader(self.data_val, shuffle=False, batch_size=self.batch_size, num_workers=0)\n",
        "\n",
        "    def test_dataloader(self):\n",
        "        return DataLoader(self.data_test, shuffle=False, batch_size=self.batch_size, num_workers=0)\n",
        "\n",
        "    def predict_dataloader(self):\n",
        "        return DataLoader(self.data_test, shuffle=False, batch_size=self.batch_size, num_workers=0)"
      ],
      "metadata": {
        "id": "LekHiymrc8Yh"
      },
      "execution_count": 55,
      "outputs": []
    },
    {
      "cell_type": "markdown",
      "source": [
        "#GATr layers implementation"
      ],
      "metadata": {
        "id": "DXWkrzYcVVlY"
      }
    },
    {
      "cell_type": "markdown",
      "source": [
        "##EquiLinearLayer"
      ],
      "metadata": {
        "id": "G8sVHbEjTmSn"
      }
    },
    {
      "cell_type": "code",
      "source": [
        "class EquiLinearLayer(nn.Module):\n",
        "    \"\"\"\n",
        "    Equivariant Linear Layer.\n",
        "\n",
        "    Args:\n",
        "        input_mv_channels (int): number of input channels in the multivector\n",
        "        hidden_mv_dim (int): number of output channels in the multivector\n",
        "        blade (torch.Tensor): blade tensor representing the geometric entity\n",
        "        blade_len (int): length of the blade tensor\n",
        "\n",
        "    Attributes:\n",
        "        blade (torch.Tensor): blade tensor representing blade operator\n",
        "        weights (nn.Parameter): learnable weights for the linear layer\n",
        "\n",
        "    Methods:\n",
        "        forward(x): computes the forward pass of the equivariant linear layer\n",
        "    \"\"\"\n",
        "\n",
        "    def __init__(self,input_mv_channels,hidden_mv_dim,blade,blade_len):\n",
        "        super(EquiLinearLayer,self).__init__()\n",
        "        self.blade = blade\n",
        "        self.weights = nn.Parameter(\n",
        "            torch.rand(hidden_mv_dim,input_mv_channels,blade_len, device = device)\n",
        "         )\n",
        "\n",
        "    def forward(self,x):\n",
        "        output_mv = torch.einsum(\n",
        "            \"j i b, b x y, ... i x -> ... j y\",\n",
        "            self.weights,\n",
        "            self.blade,\n",
        "            x\n",
        "         )\n",
        "        return output_mv"
      ],
      "metadata": {
        "id": "QHwGIESBVf6v"
      },
      "execution_count": 64,
      "outputs": []
    },
    {
      "cell_type": "code",
      "source": [
        "blade = blade_operator().to(device)\n",
        "blade_len = blade.shape[0]\n",
        "\n",
        "\n",
        "data_module = MultivectorDataModule(\n",
        "    batch_size = 32,\n",
        "    train_mvdata_name = \"train_set.pt\",\n",
        "    test_mvdata_name = 'test_set.pt',\n",
        "    gatr_flag = True\n",
        ")\n",
        "data_module.setup()\n",
        "try_train_loader = data_module.train_dataloader()\n",
        "input_mv, labels = next(iter(try_train_loader))\n",
        "\n",
        "#print(input_mv.to(device).storage())\n",
        "#print(device)\n",
        "#print(input_mv.storage())\n",
        "input_mv = input_mv.to(device)\n",
        "labels = labels.to(device)\n",
        "\n",
        "#input_mv, labels = next(iter(mv_train_loader))\n",
        "\n",
        "equi_linear = EquiLinearLayer(\n",
        "    input_mv_channels = input_mv.shape[-2],\n",
        "    hidden_mv_dim = 8,\n",
        "    blade = blade,\n",
        "    blade_len = blade_len\n",
        ").to(device)"
      ],
      "metadata": {
        "id": "Zaeh9RIRV5vw",
        "colab": {
          "base_uri": "https://localhost:8080/"
        },
        "outputId": "c0bff543-3bd3-4227-9c2d-e8903f7c3205"
      },
      "execution_count": 65,
      "outputs": [
        {
          "output_type": "stream",
          "name": "stdout",
          "text": [
            "torch.Size([3199, 51, 1, 16])\n"
          ]
        }
      ]
    },
    {
      "cell_type": "code",
      "source": [
        "input_mv.shape, labels.shape"
      ],
      "metadata": {
        "id": "JtYGkwG7NEMN",
        "colab": {
          "base_uri": "https://localhost:8080/"
        },
        "outputId": "370133ba-af3f-4ee1-d835-195b973c31bb"
      },
      "execution_count": 66,
      "outputs": [
        {
          "output_type": "execute_result",
          "data": {
            "text/plain": [
              "(torch.Size([32, 50, 1, 16]), torch.Size([32, 1]))"
            ]
          },
          "metadata": {},
          "execution_count": 66
        }
      ]
    },
    {
      "cell_type": "code",
      "source": [
        "print(labels)"
      ],
      "metadata": {
        "colab": {
          "base_uri": "https://localhost:8080/"
        },
        "id": "09tf2o7KTDIn",
        "outputId": "8f7cb5ea-9d7d-456f-9a7f-116807c7407a"
      },
      "execution_count": 67,
      "outputs": [
        {
          "output_type": "stream",
          "name": "stdout",
          "text": [
            "tensor([[1.],\n",
            "        [1.],\n",
            "        [1.],\n",
            "        [0.],\n",
            "        [0.],\n",
            "        [0.],\n",
            "        [1.],\n",
            "        [0.],\n",
            "        [0.],\n",
            "        [1.],\n",
            "        [1.],\n",
            "        [1.],\n",
            "        [1.],\n",
            "        [0.],\n",
            "        [1.],\n",
            "        [0.],\n",
            "        [0.],\n",
            "        [1.],\n",
            "        [1.],\n",
            "        [1.],\n",
            "        [0.],\n",
            "        [0.],\n",
            "        [0.],\n",
            "        [0.],\n",
            "        [1.],\n",
            "        [1.],\n",
            "        [0.],\n",
            "        [1.],\n",
            "        [1.],\n",
            "        [0.],\n",
            "        [1.],\n",
            "        [0.]])\n"
          ]
        }
      ]
    },
    {
      "cell_type": "code",
      "source": [
        "equi_linear_input = input_mv\n",
        "equi_linear_input_shape = equi_linear_input.shape\n",
        "print(f\"[LOG] Input of equilinear layer: {equi_linear_input_shape}\")\n",
        "\n",
        "equi_linear_output = equi_linear(equi_linear_input)\n",
        "equi_linear_output_shape = equi_linear_output.shape\n",
        "print(f\"[LOG] Output of equilinear layer: {equi_linear_output_shape}\")"
      ],
      "metadata": {
        "id": "U7LmzqJjNig6",
        "colab": {
          "base_uri": "https://localhost:8080/"
        },
        "outputId": "6f383b83-363e-45a3-97ca-2731d9b2235e"
      },
      "execution_count": 68,
      "outputs": [
        {
          "output_type": "stream",
          "name": "stdout",
          "text": [
            "[LOG] Input of equilinear layer: torch.Size([32, 50, 1, 16])\n",
            "[LOG] Output of equilinear layer: torch.Size([32, 50, 8, 16])\n"
          ]
        }
      ]
    },
    {
      "cell_type": "code",
      "source": [
        "print(equi_linear_output[0])"
      ],
      "metadata": {
        "colab": {
          "base_uri": "https://localhost:8080/"
        },
        "id": "DpYPsGiTN4Le",
        "outputId": "c99d8a6a-3d7f-45b7-9a83-30c48ba2531a"
      },
      "execution_count": 69,
      "outputs": [
        {
          "output_type": "stream",
          "name": "stdout",
          "text": [
            "tensor([[[  0.0000,   0.0000,   0.0000,  ..., -27.7571,   0.4525,   0.0000],\n",
            "         [  0.0000,   0.0000,   0.0000,  ..., -16.1200,   0.2628,   0.0000],\n",
            "         [  0.0000,   0.0000,   0.0000,  ..., -34.7282,   0.5662,   0.0000],\n",
            "         ...,\n",
            "         [  0.0000,   0.0000,   0.0000,  ..., -53.2763,   0.8686,   0.0000],\n",
            "         [  0.0000,   0.0000,   0.0000,  ..., -29.0171,   0.4731,   0.0000],\n",
            "         [  0.0000,   0.0000,   0.0000,  ...,  -4.6343,   0.0756,   0.0000]],\n",
            "\n",
            "        [[  0.0000,   0.0000,   0.0000,  ..., -26.9571,   0.4525,   0.0000],\n",
            "         [  0.0000,   0.0000,   0.0000,  ..., -15.6554,   0.2628,   0.0000],\n",
            "         [  0.0000,   0.0000,   0.0000,  ..., -33.7273,   0.5662,   0.0000],\n",
            "         ...,\n",
            "         [  0.0000,   0.0000,   0.0000,  ..., -51.7408,   0.8686,   0.0000],\n",
            "         [  0.0000,   0.0000,   0.0000,  ..., -28.1807,   0.4731,   0.0000],\n",
            "         [  0.0000,   0.0000,   0.0000,  ...,  -4.5008,   0.0756,   0.0000]],\n",
            "\n",
            "        [[  0.0000,   0.0000,   0.0000,  ..., -26.7611,   0.4525,   0.0000],\n",
            "         [  0.0000,   0.0000,   0.0000,  ..., -15.5416,   0.2628,   0.0000],\n",
            "         [  0.0000,   0.0000,   0.0000,  ..., -33.4821,   0.5662,   0.0000],\n",
            "         ...,\n",
            "         [  0.0000,   0.0000,   0.0000,  ..., -51.3646,   0.8686,   0.0000],\n",
            "         [  0.0000,   0.0000,   0.0000,  ..., -27.9759,   0.4731,   0.0000],\n",
            "         [  0.0000,   0.0000,   0.0000,  ...,  -4.4680,   0.0756,   0.0000]],\n",
            "\n",
            "        ...,\n",
            "\n",
            "        [[  0.0000,   0.0000,   0.0000,  ..., -23.6787,   0.4525,   0.0000],\n",
            "         [  0.0000,   0.0000,   0.0000,  ..., -13.7515,   0.2628,   0.0000],\n",
            "         [  0.0000,   0.0000,   0.0000,  ..., -29.6255,   0.5662,   0.0000],\n",
            "         ...,\n",
            "         [  0.0000,   0.0000,   0.0000,  ..., -45.4483,   0.8686,   0.0000],\n",
            "         [  0.0000,   0.0000,   0.0000,  ..., -24.7535,   0.4731,   0.0000],\n",
            "         [  0.0000,   0.0000,   0.0000,  ...,  -3.9534,   0.0756,   0.0000]],\n",
            "\n",
            "        [[  0.0000,   0.0000,   0.0000,  ..., -23.6410,   0.4525,   0.0000],\n",
            "         [  0.0000,   0.0000,   0.0000,  ..., -13.7296,   0.2628,   0.0000],\n",
            "         [  0.0000,   0.0000,   0.0000,  ..., -29.5784,   0.5662,   0.0000],\n",
            "         ...,\n",
            "         [  0.0000,   0.0000,   0.0000,  ..., -45.3760,   0.8686,   0.0000],\n",
            "         [  0.0000,   0.0000,   0.0000,  ..., -24.7142,   0.4731,   0.0000],\n",
            "         [  0.0000,   0.0000,   0.0000,  ...,  -3.9471,   0.0756,   0.0000]],\n",
            "\n",
            "        [[  0.0000,   0.0000,   0.0000,  ..., -23.6407,   0.4525,   0.0000],\n",
            "         [  0.0000,   0.0000,   0.0000,  ..., -13.7294,   0.2628,   0.0000],\n",
            "         [  0.0000,   0.0000,   0.0000,  ..., -29.5780,   0.5662,   0.0000],\n",
            "         ...,\n",
            "         [  0.0000,   0.0000,   0.0000,  ..., -45.3753,   0.8686,   0.0000],\n",
            "         [  0.0000,   0.0000,   0.0000,  ..., -24.7138,   0.4731,   0.0000],\n",
            "         [  0.0000,   0.0000,   0.0000,  ...,  -3.9470,   0.0756,   0.0000]]],\n",
            "       grad_fn=<SelectBackward0>)\n"
          ]
        }
      ]
    },
    {
      "cell_type": "markdown",
      "source": [
        "##EquiLinearNormalization"
      ],
      "metadata": {
        "id": "c9j2I544Tuek"
      }
    },
    {
      "cell_type": "code",
      "source": [
        "class EquilinearNormLayer(nn.Module):\n",
        "    \"\"\"\n",
        "    Custom layer for normalizing multivectors in an equivariant neural network.\n",
        "\n",
        "    Args:\n",
        "        faster (bool): flag indicating whether to use the faster inner product calculation\n",
        "\n",
        "    Attributes:\n",
        "        faster (bool): flag indicating whether to use the faster inner product calculation\n",
        "\n",
        "    Methods:\n",
        "        forward(x): computes the forward pass to normalize multivectors in an equivariant manner\n",
        "    \"\"\"\n",
        "\n",
        "    def __init__(self, faster = True):\n",
        "        super(EquilinearNormLayer,self).__init__()\n",
        "        self.faster = faster\n",
        "\n",
        "    def forward(self, x):\n",
        "        '''\n",
        "        if self.faster:\n",
        "            mv_inner_product = faster_inner_product(x,x)\n",
        "        else:\n",
        "        '''\n",
        "        mv_inner_product = inner_product(x,x)\n",
        "\n",
        "        squared_norms = torch.mean(mv_inner_product, dim=-2, keepdim=True)\n",
        "\n",
        "        # Rescale inputs\n",
        "        outputs = x / torch.sqrt(squared_norms)\n",
        "\n",
        "        return outputs"
      ],
      "metadata": {
        "id": "GOfbyCqMT20V"
      },
      "execution_count": 70,
      "outputs": []
    },
    {
      "cell_type": "code",
      "source": [
        "#equi_norm = EquilinearNormLayer().to(device)\n",
        "slow_equi_norm = EquilinearNormLayer(faster=False).to(device)\n",
        "#syncro = get_device(device)"
      ],
      "metadata": {
        "id": "z3qDnBmlUDpq"
      },
      "execution_count": 73,
      "outputs": []
    },
    {
      "cell_type": "code",
      "source": [
        "equi_norm_input = equi_linear_output.to(device)\n",
        "equi_norm_input_shape = equi_norm_input.shape\n",
        "input_norm = torch.mean(\n",
        "    inner_product(equi_norm_input,equi_norm_input),\n",
        "    dim = -2\n",
        ")\n",
        "print(f\"\\tInput of equilinear norm layer: {equi_norm_input_shape}\")\n",
        "print(f\"\\tInput mv channel norm: \", torch.mean(input_norm).item())\n",
        "#print(f\"\\tInput mv channel norm: \", input_norm[:5])\n",
        "\n",
        "equi_norm_output = slow_equi_norm(equi_norm_input)\n",
        "equi_norm_output_shape = equi_norm_output.shape\n",
        "print(f\"\\tOutput of equilinear layer: {equi_norm_output_shape}\")\n",
        "normalized_input_norm = torch.mean(\n",
        "    inner_product(equi_norm_output,equi_norm_output),\n",
        "    dim = -2\n",
        ")\n",
        "print(f\"\\tOutput mv channel norm: \", torch.mean(normalized_input_norm).item())\n",
        "#print(f\"\\tOutput mv channel norm: \", normalized_input_norm[:5])"
      ],
      "metadata": {
        "id": "ChwxAKx0YIFd",
        "colab": {
          "base_uri": "https://localhost:8080/",
          "height": 356
        },
        "outputId": "40d2db8e-07df-43c1-ef95-18c2b2826614"
      },
      "execution_count": 74,
      "outputs": [
        {
          "output_type": "error",
          "ename": "FileNotFoundError",
          "evalue": "[Errno 2] No such file or directory: 'guidance_matrix.pt'",
          "traceback": [
            "\u001b[0;31m---------------------------------------------------------------------------\u001b[0m",
            "\u001b[0;31mFileNotFoundError\u001b[0m                         Traceback (most recent call last)",
            "\u001b[0;32m<ipython-input-74-a64de50ff291>\u001b[0m in \u001b[0;36m<cell line: 3>\u001b[0;34m()\u001b[0m\n\u001b[1;32m      2\u001b[0m \u001b[0mequi_norm_input_shape\u001b[0m \u001b[0;34m=\u001b[0m \u001b[0mequi_norm_input\u001b[0m\u001b[0;34m.\u001b[0m\u001b[0mshape\u001b[0m\u001b[0;34m\u001b[0m\u001b[0;34m\u001b[0m\u001b[0m\n\u001b[1;32m      3\u001b[0m input_norm = torch.mean(\n\u001b[0;32m----> 4\u001b[0;31m     \u001b[0minner_product\u001b[0m\u001b[0;34m(\u001b[0m\u001b[0mequi_norm_input\u001b[0m\u001b[0;34m,\u001b[0m\u001b[0mequi_norm_input\u001b[0m\u001b[0;34m)\u001b[0m\u001b[0;34m,\u001b[0m\u001b[0;34m\u001b[0m\u001b[0;34m\u001b[0m\u001b[0m\n\u001b[0m\u001b[1;32m      5\u001b[0m     \u001b[0mdim\u001b[0m \u001b[0;34m=\u001b[0m \u001b[0;34m-\u001b[0m\u001b[0;36m2\u001b[0m\u001b[0;34m\u001b[0m\u001b[0;34m\u001b[0m\u001b[0m\n\u001b[1;32m      6\u001b[0m )\n",
            "\u001b[0;32m<ipython-input-21-6e9cfbedb57c>\u001b[0m in \u001b[0;36minner_product\u001b[0;34m(x, y)\u001b[0m\n\u001b[1;32m     12\u001b[0m \u001b[0;34m\u001b[0m\u001b[0m\n\u001b[1;32m     13\u001b[0m     \u001b[0mreverse_x\u001b[0m \u001b[0;34m=\u001b[0m \u001b[0mreverse_operator\u001b[0m\u001b[0;34m(\u001b[0m\u001b[0;34m)\u001b[0m \u001b[0;34m*\u001b[0m \u001b[0mx\u001b[0m\u001b[0;34m\u001b[0m\u001b[0;34m\u001b[0m\u001b[0m\n\u001b[0;32m---> 14\u001b[0;31m     \u001b[0mgeom_x_y\u001b[0m \u001b[0;34m=\u001b[0m \u001b[0mgeometric_product\u001b[0m\u001b[0;34m(\u001b[0m\u001b[0mreverse_x\u001b[0m\u001b[0;34m,\u001b[0m\u001b[0my\u001b[0m\u001b[0;34m)\u001b[0m\u001b[0;34m\u001b[0m\u001b[0;34m\u001b[0m\u001b[0m\n\u001b[0m\u001b[1;32m     15\u001b[0m     \u001b[0minner_product\u001b[0m \u001b[0;34m=\u001b[0m \u001b[0mgeom_x_y\u001b[0m\u001b[0;34m[\u001b[0m\u001b[0;34m...\u001b[0m\u001b[0;34m,\u001b[0m \u001b[0;34m[\u001b[0m\u001b[0;36m0\u001b[0m\u001b[0;34m]\u001b[0m\u001b[0;34m]\u001b[0m\u001b[0;34m\u001b[0m\u001b[0;34m\u001b[0m\u001b[0m\n\u001b[1;32m     16\u001b[0m \u001b[0;34m\u001b[0m\u001b[0m\n",
            "\u001b[0;32m<ipython-input-20-87f59fc56f3d>\u001b[0m in \u001b[0;36mgeometric_product\u001b[0;34m(x, y)\u001b[0m\n\u001b[1;32m     11\u001b[0m     \"\"\"\n\u001b[1;32m     12\u001b[0m \u001b[0;34m\u001b[0m\u001b[0m\n\u001b[0;32m---> 13\u001b[0;31m     \u001b[0mguidance_matrix\u001b[0m \u001b[0;34m=\u001b[0m \u001b[0mget_guidance_matrix\u001b[0m\u001b[0;34m(\u001b[0m\u001b[0;34m)\u001b[0m\u001b[0;34m.\u001b[0m\u001b[0mto\u001b[0m\u001b[0;34m(\u001b[0m\u001b[0mdevice\u001b[0m\u001b[0;34m)\u001b[0m\u001b[0;34m\u001b[0m\u001b[0;34m\u001b[0m\u001b[0m\n\u001b[0m\u001b[1;32m     14\u001b[0m \u001b[0;34m\u001b[0m\u001b[0m\n\u001b[1;32m     15\u001b[0m     geom_prod = torch.einsum(\n",
            "\u001b[0;32m<ipython-input-19-4ffa81dff150>\u001b[0m in \u001b[0;36mget_guidance_matrix\u001b[0;34m()\u001b[0m\n\u001b[1;32m     11\u001b[0m         \u001b[0mmatrix_file\u001b[0m \u001b[0;34m=\u001b[0m \u001b[0mwget\u001b[0m\u001b[0;34m.\u001b[0m\u001b[0mdownload\u001b[0m\u001b[0;34m(\u001b[0m\u001b[0mmatrix_url\u001b[0m\u001b[0;34m)\u001b[0m\u001b[0;34m\u001b[0m\u001b[0;34m\u001b[0m\u001b[0m\n\u001b[1;32m     12\u001b[0m \u001b[0;34m\u001b[0m\u001b[0m\n\u001b[0;32m---> 13\u001b[0;31m     \u001b[0mguidance_matrix\u001b[0m \u001b[0;34m=\u001b[0m \u001b[0mproduct_basis\u001b[0m \u001b[0;34m=\u001b[0m \u001b[0mtorch\u001b[0m\u001b[0;34m.\u001b[0m\u001b[0mload\u001b[0m\u001b[0;34m(\u001b[0m\u001b[0;34m\"guidance_matrix.pt\"\u001b[0m\u001b[0;34m)\u001b[0m\u001b[0;34m\u001b[0m\u001b[0;34m\u001b[0m\u001b[0m\n\u001b[0m\u001b[1;32m     14\u001b[0m     \u001b[0mguidance_matrix\u001b[0m \u001b[0;34m=\u001b[0m \u001b[0mguidance_matrix\u001b[0m\u001b[0;34m.\u001b[0m\u001b[0mto\u001b[0m\u001b[0;34m(\u001b[0m\u001b[0mtorch\u001b[0m\u001b[0;34m.\u001b[0m\u001b[0mfloat32\u001b[0m\u001b[0;34m)\u001b[0m\u001b[0;34m\u001b[0m\u001b[0;34m\u001b[0m\u001b[0m\n\u001b[1;32m     15\u001b[0m     \u001b[0mguidance_matrix\u001b[0m \u001b[0;34m=\u001b[0m \u001b[0mguidance_matrix\u001b[0m\u001b[0;34m.\u001b[0m\u001b[0mto_dense\u001b[0m\u001b[0;34m(\u001b[0m\u001b[0;34m)\u001b[0m\u001b[0;34m\u001b[0m\u001b[0;34m\u001b[0m\u001b[0m\n",
            "\u001b[0;32m/usr/local/lib/python3.10/dist-packages/torch/serialization.py\u001b[0m in \u001b[0;36mload\u001b[0;34m(f, map_location, pickle_module, weights_only, mmap, **pickle_load_args)\u001b[0m\n\u001b[1;32m    995\u001b[0m         \u001b[0mpickle_load_args\u001b[0m\u001b[0;34m[\u001b[0m\u001b[0;34m'encoding'\u001b[0m\u001b[0;34m]\u001b[0m \u001b[0;34m=\u001b[0m \u001b[0;34m'utf-8'\u001b[0m\u001b[0;34m\u001b[0m\u001b[0;34m\u001b[0m\u001b[0m\n\u001b[1;32m    996\u001b[0m \u001b[0;34m\u001b[0m\u001b[0m\n\u001b[0;32m--> 997\u001b[0;31m     \u001b[0;32mwith\u001b[0m \u001b[0m_open_file_like\u001b[0m\u001b[0;34m(\u001b[0m\u001b[0mf\u001b[0m\u001b[0;34m,\u001b[0m \u001b[0;34m'rb'\u001b[0m\u001b[0;34m)\u001b[0m \u001b[0;32mas\u001b[0m \u001b[0mopened_file\u001b[0m\u001b[0;34m:\u001b[0m\u001b[0;34m\u001b[0m\u001b[0;34m\u001b[0m\u001b[0m\n\u001b[0m\u001b[1;32m    998\u001b[0m         \u001b[0;32mif\u001b[0m \u001b[0m_is_zipfile\u001b[0m\u001b[0;34m(\u001b[0m\u001b[0mopened_file\u001b[0m\u001b[0;34m)\u001b[0m\u001b[0;34m:\u001b[0m\u001b[0;34m\u001b[0m\u001b[0;34m\u001b[0m\u001b[0m\n\u001b[1;32m    999\u001b[0m             \u001b[0;31m# The zipfile reader is going to advance the current file position.\u001b[0m\u001b[0;34m\u001b[0m\u001b[0;34m\u001b[0m\u001b[0m\n",
            "\u001b[0;32m/usr/local/lib/python3.10/dist-packages/torch/serialization.py\u001b[0m in \u001b[0;36m_open_file_like\u001b[0;34m(name_or_buffer, mode)\u001b[0m\n\u001b[1;32m    442\u001b[0m \u001b[0;32mdef\u001b[0m \u001b[0m_open_file_like\u001b[0m\u001b[0;34m(\u001b[0m\u001b[0mname_or_buffer\u001b[0m\u001b[0;34m,\u001b[0m \u001b[0mmode\u001b[0m\u001b[0;34m)\u001b[0m\u001b[0;34m:\u001b[0m\u001b[0;34m\u001b[0m\u001b[0;34m\u001b[0m\u001b[0m\n\u001b[1;32m    443\u001b[0m     \u001b[0;32mif\u001b[0m \u001b[0m_is_path\u001b[0m\u001b[0;34m(\u001b[0m\u001b[0mname_or_buffer\u001b[0m\u001b[0;34m)\u001b[0m\u001b[0;34m:\u001b[0m\u001b[0;34m\u001b[0m\u001b[0;34m\u001b[0m\u001b[0m\n\u001b[0;32m--> 444\u001b[0;31m         \u001b[0;32mreturn\u001b[0m \u001b[0m_open_file\u001b[0m\u001b[0;34m(\u001b[0m\u001b[0mname_or_buffer\u001b[0m\u001b[0;34m,\u001b[0m \u001b[0mmode\u001b[0m\u001b[0;34m)\u001b[0m\u001b[0;34m\u001b[0m\u001b[0;34m\u001b[0m\u001b[0m\n\u001b[0m\u001b[1;32m    445\u001b[0m     \u001b[0;32melse\u001b[0m\u001b[0;34m:\u001b[0m\u001b[0;34m\u001b[0m\u001b[0;34m\u001b[0m\u001b[0m\n\u001b[1;32m    446\u001b[0m         \u001b[0;32mif\u001b[0m \u001b[0;34m'w'\u001b[0m \u001b[0;32min\u001b[0m \u001b[0mmode\u001b[0m\u001b[0;34m:\u001b[0m\u001b[0;34m\u001b[0m\u001b[0;34m\u001b[0m\u001b[0m\n",
            "\u001b[0;32m/usr/local/lib/python3.10/dist-packages/torch/serialization.py\u001b[0m in \u001b[0;36m__init__\u001b[0;34m(self, name, mode)\u001b[0m\n\u001b[1;32m    423\u001b[0m \u001b[0;32mclass\u001b[0m \u001b[0m_open_file\u001b[0m\u001b[0;34m(\u001b[0m\u001b[0m_opener\u001b[0m\u001b[0;34m)\u001b[0m\u001b[0;34m:\u001b[0m\u001b[0;34m\u001b[0m\u001b[0;34m\u001b[0m\u001b[0m\n\u001b[1;32m    424\u001b[0m     \u001b[0;32mdef\u001b[0m \u001b[0m__init__\u001b[0m\u001b[0;34m(\u001b[0m\u001b[0mself\u001b[0m\u001b[0;34m,\u001b[0m \u001b[0mname\u001b[0m\u001b[0;34m,\u001b[0m \u001b[0mmode\u001b[0m\u001b[0;34m)\u001b[0m\u001b[0;34m:\u001b[0m\u001b[0;34m\u001b[0m\u001b[0;34m\u001b[0m\u001b[0m\n\u001b[0;32m--> 425\u001b[0;31m         \u001b[0msuper\u001b[0m\u001b[0;34m(\u001b[0m\u001b[0;34m)\u001b[0m\u001b[0;34m.\u001b[0m\u001b[0m__init__\u001b[0m\u001b[0;34m(\u001b[0m\u001b[0mopen\u001b[0m\u001b[0;34m(\u001b[0m\u001b[0mname\u001b[0m\u001b[0;34m,\u001b[0m \u001b[0mmode\u001b[0m\u001b[0;34m)\u001b[0m\u001b[0;34m)\u001b[0m\u001b[0;34m\u001b[0m\u001b[0;34m\u001b[0m\u001b[0m\n\u001b[0m\u001b[1;32m    426\u001b[0m \u001b[0;34m\u001b[0m\u001b[0m\n\u001b[1;32m    427\u001b[0m     \u001b[0;32mdef\u001b[0m \u001b[0m__exit__\u001b[0m\u001b[0;34m(\u001b[0m\u001b[0mself\u001b[0m\u001b[0;34m,\u001b[0m \u001b[0;34m*\u001b[0m\u001b[0margs\u001b[0m\u001b[0;34m)\u001b[0m\u001b[0;34m:\u001b[0m\u001b[0;34m\u001b[0m\u001b[0;34m\u001b[0m\u001b[0m\n",
            "\u001b[0;31mFileNotFoundError\u001b[0m: [Errno 2] No such file or directory: 'guidance_matrix.pt'"
          ]
        }
      ]
    },
    {
      "cell_type": "markdown",
      "source": [
        "##Geometric Attention Layer"
      ],
      "metadata": {
        "id": "otAp59my4xnH"
      }
    },
    {
      "cell_type": "code",
      "execution_count": null,
      "metadata": {
        "id": "IXKuJHOHCuk5"
      },
      "outputs": [],
      "source": [
        "def prepare_qkv(q,k,v,n_heads,hidden_dim):\n",
        "    \"\"\"\n",
        "    Prepares the query (q), key (k), and value (v) tensors for the\n",
        "    attention mechanism in a transformer, with the inner product.\n",
        "\n",
        "    Args:\n",
        "        q (torch.Tensor): query tensor\n",
        "        k (torch.Tensor): key tensor\n",
        "        v (torch.Tensor): value tensor\n",
        "        n_heads (int): number of attention heads\n",
        "        hidden_dim (int): hidden dimension\n",
        "\n",
        "    Returns:\n",
        "        (torch.Tensor): modified query tensor\n",
        "        (torch.Tensor): modified key tensor\n",
        "        (torch.Tensor): modified value tensor\n",
        "    \"\"\"\n",
        "\n",
        "    q = rearrange(\n",
        "        q,\n",
        "        \"... items (hidden_dim n_heads) mv -> ... n_heads items hidden_dim mv\",\n",
        "        n_heads = n_heads,\n",
        "        hidden_dim = hidden_dim\n",
        "     )\n",
        "\n",
        "    k = rearrange(\n",
        "        k,\n",
        "        \"... n_items (hidden_dim 1) mv_dim -> ... 1 n_items hidden_dim mv_dim\"\n",
        "     )\n",
        "\n",
        "    v = rearrange(\n",
        "        v,\n",
        "        \"... n_items (hidden_dim 1) mv_dim -> ... 1 n_items hidden_dim mv_dim\"\n",
        "     )\n",
        "\n",
        "    guidance_matrix = get_guidance_matrix().to(device)\n",
        "    reverse_op = reverse_operator()\n",
        "    inner_product_mask = (torch.diag(guidance_matrix[0]) * reverse_op).bool()\n",
        "\n",
        "    ranges = get_coordinates_range()\n",
        "    index_product_idxs = list(range(ranges[0][0],ranges[-1][-1]+1))\n",
        "    index_product_coordinates = [\n",
        "        coord for coord,\n",
        "        keep in zip(index_product_idxs, inner_product_mask) if keep\n",
        "     ]\n",
        "\n",
        "    q = rearrange(\n",
        "        q[..., index_product_coordinates],\n",
        "        \"... c x -> ... (c x)\"\n",
        "     )\n",
        "    k = rearrange(\n",
        "        k[..., index_product_coordinates],\n",
        "        \"... c x -> ... (c x)\"\n",
        "     )\n",
        "\n",
        "    v = rearrange(\n",
        "        v,\n",
        "        \"... c x -> ... (c x)\"\n",
        "     )\n",
        "\n",
        "    return q,k,v"
      ]
    },
    {
      "cell_type": "code",
      "execution_count": null,
      "metadata": {
        "id": "qoQMd26PdLuO"
      },
      "outputs": [],
      "source": [
        "class GeometricAttentionLayer(nn.Module):\n",
        "    \"\"\"\n",
        "    Geometric equivariant attention\n",
        "\n",
        "    Args:\n",
        "        mv_channels (int): number of channels in the input multivector\n",
        "        hidden_dim (int): hidden dimension for attention calculations\n",
        "        out_channels (int): number of channels in the output multivector\n",
        "        blade (torch.Tensor): blade tensor representing the geometric entity\n",
        "        blade_len (int): length of the blade tensor\n",
        "        n_heads (int): number of attention heads\n",
        "\n",
        "    Attributes:\n",
        "        n_heads (int): number of attention heads\n",
        "        mv_channels (int): number of channels in the input multivector\n",
        "        hidden_dim (int): hidden dimension for attention calculations\n",
        "        out_channels (int): number of channels in the output multivector\n",
        "        q (EquiLinearLayer): layer for queries\n",
        "        k (EquiLinearLayer): layer for keys\n",
        "        v (EquiLinearLayer): layer for values\n",
        "        output_projection (EquiLinearLayer): layer for output projection\n",
        "\n",
        "    Methods:\n",
        "        forward(x): computes the forward pass of the geometric attention layer\n",
        "    \"\"\"\n",
        "    def __init__(\n",
        "        self,mv_channels,hidden_dim,out_channels,blade,blade_len,n_heads\n",
        "    ):\n",
        "        super(GeometricAttentionLayer,self).__init__()\n",
        "        self.n_heads = n_heads\n",
        "        self.mv_channels = mv_channels\n",
        "        self.hidden_dim = hidden_dim\n",
        "        self.out_channels = out_channels\n",
        "\n",
        "        self.q = EquiLinearLayer(\n",
        "            input_mv_channels = mv_channels,\n",
        "            hidden_mv_dim = hidden_dim * n_heads,\n",
        "            blade = blade,\n",
        "            blade_len = blade_len\n",
        "         )\n",
        "\n",
        "        self.k = EquiLinearLayer(\n",
        "            input_mv_channels = mv_channels,\n",
        "            hidden_mv_dim = hidden_dim,\n",
        "            blade = blade,\n",
        "            blade_len = blade_len\n",
        "         )\n",
        "\n",
        "        self.v = EquiLinearLayer(\n",
        "            input_mv_channels = mv_channels,\n",
        "            hidden_mv_dim = hidden_dim,\n",
        "            blade = blade,\n",
        "            blade_len = blade_len\n",
        "         )\n",
        "\n",
        "        self.output_projection = EquiLinearLayer(\n",
        "            input_mv_channels = hidden_dim * n_heads,\n",
        "            hidden_mv_dim = out_channels,\n",
        "            blade = blade,\n",
        "            blade_len = blade_len\n",
        "         )\n",
        "\n",
        "    def forward(self,x):\n",
        "        q,k,v = prepare_qkv(\n",
        "            self.q(x),\n",
        "            self.k(x),\n",
        "            self.v(x),\n",
        "            self.n_heads,\n",
        "            self.hidden_dim\n",
        "         )\n",
        "\n",
        "\n",
        "        attention = scaled_dot_product_attention(q, k, v)\n",
        "        attention_mv = rearrange(\n",
        "            attention[..., : self.hidden_dim * x.shape[-1]],\n",
        "            \"... (c x) -> ...  c x\", x=x.shape[-1]\n",
        "         )\n",
        "        attention_mv = rearrange(\n",
        "            attention_mv,\n",
        "            \"... heads items hidden_dim x -> ... items (heads hidden_dim) x\"\n",
        "         )\n",
        "\n",
        "        outputs_mv = self.output_projection(attention_mv)\n",
        "\n",
        "        return outputs_mv"
      ]
    },
    {
      "cell_type": "code",
      "source": [
        "blade = blade_operator().to(device)\n",
        "blade_len = blade.shape[0]\n",
        "\n",
        "geom_attn = GeometricAttentionLayer(\n",
        "    mv_channels = equi_norm_output_shape[-2],\n",
        "    hidden_dim = 8,\n",
        "    out_channels = 8,\n",
        "    blade = blade,\n",
        "    blade_len = blade_len,\n",
        "    n_heads = 4\n",
        ").to(device)"
      ],
      "metadata": {
        "id": "kHY9hxdO43Od"
      },
      "execution_count": null,
      "outputs": []
    },
    {
      "cell_type": "code",
      "source": [
        "geo_attn_input = equi_norm_output.to(device)\n",
        "geo_attn_input_shape = geo_attn_input.shape\n",
        "print(f\"Input of geometric attention layer: {geo_attn_input_shape}\")\n",
        "#print(geo_attn_input.storage())\n",
        "geo_attn_output = geom_attn(geo_attn_input)\n",
        "geo_attn_output_shape = geo_attn_output.shape\n",
        "print(f\"Output of geometric attention layer: {geo_attn_output_shape}\")\n",
        "'''\n",
        "data_sanity_check(\n",
        "    geo_attn_input.cpu(),\n",
        "    output_data = geo_attn_output.cpu()\n",
        ")\n",
        "'''"
      ],
      "metadata": {
        "id": "FBh7cyaO5gSs"
      },
      "execution_count": null,
      "outputs": []
    },
    {
      "cell_type": "markdown",
      "source": [
        "##Residual"
      ],
      "metadata": {
        "id": "u9JsC4Go7CbH"
      }
    },
    {
      "cell_type": "code",
      "source": [
        "res_input_1 = equi_linear_output\n",
        "res_input_1_shape = res_input_1.shape\n",
        "print(f\"Input 1: pre GATr block equilinear layer: {res_input_1_shape}\")\n",
        "\n",
        "#geo_attn_output incorpora sia il layer lineare precedente che quello successivo\n",
        "res_input_2 = geo_attn_output\n",
        "res_input_2_shape = res_input_2.shape\n",
        "print(f\"Input 2: geometric attention layer: {res_input_2_shape}\")\n",
        "\n",
        "res_output = equi_linear_output + geo_attn_output\n",
        "res_output_shape = res_output.shape\n",
        "print(f\"Output of res connection: {res_output_shape}\")"
      ],
      "metadata": {
        "id": "p89jdgn-7FR0"
      },
      "execution_count": null,
      "outputs": []
    },
    {
      "cell_type": "markdown",
      "source": [
        "##Geometric Bilinear Layer"
      ],
      "metadata": {
        "id": "fBl1B6JWDqYE"
      }
    },
    {
      "cell_type": "code",
      "source": [
        "class GeometricBilinearLayer(nn.Module):\n",
        "    \"\"\"\n",
        "    Geometric bilinear layer.\n",
        "\n",
        "    Args:\n",
        "        in_mv_channels (int): number of channels in the input multivector\n",
        "        hidden_mv_channels (int): number of channels in the hidden multivector\n",
        "\n",
        "    Attributes:\n",
        "        geom_linear_1 (EquiLinearLayer): layer for geometric product operand 1\n",
        "        geom_linear_2 (EquiLinearLayer): layer for geometric product operand 2\n",
        "        join_linear_1 (EquiLinearLayer): layer for join operand 1\n",
        "        join_linear_2 (EquiLinearLayer): layer for join operand 2\n",
        "\n",
        "    Methods:\n",
        "        forward(x, ref): computes the forward pass of the geometric bilinear layer\n",
        "    \"\"\"\n",
        "\n",
        "    def __init__(self,in_mv_channels,hidden_mv_channels):\n",
        "        super(GeometricBilinearLayer,self).__init__()\n",
        "\n",
        "        self.geom_linear_1 = EquiLinearLayer(\n",
        "            input_mv_channels = in_mv_channels,\n",
        "            hidden_mv_dim = hidden_mv_channels // 2,\n",
        "            blade = blade,\n",
        "            blade_len = blade_len\n",
        "         )\n",
        "\n",
        "        self.geom_linear_2 = EquiLinearLayer(\n",
        "            input_mv_channels = in_mv_channels,\n",
        "            hidden_mv_dim = hidden_mv_channels // 2,\n",
        "            blade = blade,\n",
        "            blade_len = blade_len\n",
        "         )\n",
        "\n",
        "        self.join_linear_1 = EquiLinearLayer(\n",
        "            input_mv_channels = in_mv_channels,\n",
        "            hidden_mv_dim = hidden_mv_channels // 2,\n",
        "            blade = blade,\n",
        "            blade_len = blade_len\n",
        "         )\n",
        "\n",
        "        self.join_linear_2 = EquiLinearLayer(\n",
        "            input_mv_channels = in_mv_channels,\n",
        "            hidden_mv_dim = hidden_mv_channels // 2,\n",
        "            blade = blade,\n",
        "            blade_len = blade_len\n",
        "         )\n",
        "\n",
        "    def forward(self,x,ref):\n",
        "        geom_linear_1 = self.geom_linear_1(x)\n",
        "        geom_linear_2 = self.geom_linear_2(x)\n",
        "        geom_product = geometric_product(\n",
        "            geom_linear_1, geom_linear_2\n",
        "        ) * 10e-6\n",
        "\n",
        "        join_linear_1 = self.join_linear_1(x)\n",
        "        join_linear_2 = self.join_linear_2(x)\n",
        "        #print(join_linear_1.shape, join_linear_2.shape,ref.shape)\n",
        "        equi_join = join(join_linear_1, join_linear_2, ref)\n",
        "        outputs_mv = torch.cat((geom_product, equi_join), dim=-2)\n",
        "\n",
        "        return outputs_mv"
      ],
      "metadata": {
        "id": "iOmIl2ZdDWXI"
      },
      "execution_count": null,
      "outputs": []
    },
    {
      "cell_type": "code",
      "source": [
        "# Mean over each batch element (each item of each channel)\n",
        "ref = torch.mean(input_mv, dim = 2, keepdim = True)\n",
        "print(ref.shape)\n",
        "geo_bi = GeometricBilinearLayer(\n",
        "    in_mv_channels = 8, #global_var['hidden_dim']\n",
        "    hidden_mv_channels = 8 #global_var['hidden_dim']\n",
        ").to(device)"
      ],
      "metadata": {
        "id": "scRSN0eIG2Qv"
      },
      "execution_count": null,
      "outputs": []
    },
    {
      "cell_type": "code",
      "source": [
        "geo_bi_input = res_output\n",
        "geo_bi_input_shape = geo_bi_input.shape\n",
        "print(f\"Input of geometric bilinear layer: {geo_bi_input_shape}\")\n",
        "\n",
        "geo_bi_output = geo_bi(geo_bi_input,ref)\n",
        "geo_bi_output_shape = geo_bi_output.shape\n",
        "print(f\"Output of geometric attention layer: {geo_bi_output_shape}\")"
      ],
      "metadata": {
        "id": "8kGklijPHEIt"
      },
      "execution_count": null,
      "outputs": []
    },
    {
      "cell_type": "markdown",
      "source": [
        "## Gated GELU"
      ],
      "metadata": {
        "id": "nI5xXEuqHNpB"
      }
    },
    {
      "cell_type": "code",
      "source": [
        "class GatedGELU(nn.Module):\n",
        "    \"\"\"\n",
        "    Gated GeLU activation\n",
        "\n",
        "    Attributes:\n",
        "        gelu (nn.GELU): GELU activation function\n",
        "\n",
        "    Methods:\n",
        "        forward(x): computes the forward pass of the Gated GeLU layer\n",
        "    \"\"\"\n",
        "\n",
        "    def __init__(self):\n",
        "        super(GatedGELU,self).__init__()\n",
        "        self.gelu = nn.GELU()\n",
        "\n",
        "    def forward(self,x):\n",
        "        gates = x[...,[0]]\n",
        "        weights = self.gelu(gates)\n",
        "        outputs = weights * x\n",
        "        return outputs"
      ],
      "metadata": {
        "id": "33SxCoH_HRfq"
      },
      "execution_count": null,
      "outputs": []
    },
    {
      "cell_type": "code",
      "source": [
        "gated_gelu = GatedGELU()\n",
        "\n",
        "gelu_equilinear = EquiLinearLayer(\n",
        "    input_mv_channels = 8, #global_var['hidden_dim'],\n",
        "    hidden_mv_dim = 8, #global_var['hidden_dim'],\n",
        "    blade = blade,\n",
        "    blade_len = blade_len\n",
        ").to(device)"
      ],
      "metadata": {
        "id": "HaVSWMTsHXih"
      },
      "execution_count": null,
      "outputs": []
    },
    {
      "cell_type": "code",
      "source": [
        "gated_gelu_input = geo_bi_output\n",
        "gated_gelu_input_shape = gated_gelu_input.shape\n",
        "print(f\"Input of equilinear norm layer: {gated_gelu_input_shape}\")\n",
        "\n",
        "gated_gelu_output = gated_gelu(gated_gelu_input)\n",
        "gated_gelu_output_shape = gated_gelu_output.shape\n",
        "print(f\"Output of GELU layer: {gated_gelu_output_shape}\")\n",
        "\n",
        "\n",
        "gelu_equilinear_input = gated_gelu_output\n",
        "gelu_equilinear_output = gelu_equilinear(gelu_equilinear_input)\n",
        "gelu_equilinear_output_shape = gelu_equilinear_output.shape\n",
        "print(f\"Output of equilinear layer: {gelu_equilinear_output_shape}\")"
      ],
      "metadata": {
        "id": "_Ni-Yti7HgIN"
      },
      "execution_count": null,
      "outputs": []
    },
    {
      "cell_type": "markdown",
      "source": [
        "##Final equilinear layer"
      ],
      "metadata": {
        "id": "SHS7CrKSIQMq"
      }
    },
    {
      "cell_type": "code",
      "source": [
        "classes = 2"
      ],
      "metadata": {
        "id": "WgvKEh1uIgXV"
      },
      "execution_count": null,
      "outputs": []
    },
    {
      "cell_type": "code",
      "source": [
        "sigmoid = nn.Sigmoid()\n",
        "accuracy_meter = torchmetrics.classification.Accuracy(\n",
        "    task = \"binary\",\n",
        "    num_classes = 2\n",
        ").to(device)\n",
        "criterion = nn.BCELoss()\n",
        "\n",
        "final_equilinear = EquiLinearLayer(\n",
        "    input_mv_channels = 8, #global_var['hidden_dim'],\n",
        "    hidden_mv_dim = 1,\n",
        "    blade = blade.to(device),\n",
        "    blade_len = blade_len\n",
        ").to(device)\n",
        "\n",
        "output_projection = nn.Linear(\n",
        "    input_mv.shape[1],\n",
        "    classes -1 #global_var['classes'] - 1\n",
        ").to(device)"
      ],
      "metadata": {
        "id": "7Nju3C5qIPKU"
      },
      "execution_count": null,
      "outputs": []
    },
    {
      "cell_type": "code",
      "source": [
        "final_equilinear_input = gelu_equilinear_output.to(device)\n",
        "final_equilinear_shape = final_equilinear_input.shape\n",
        "print(f\"Input of final equilinear layer: {final_equilinear_shape}\")\n",
        "\n",
        "final_equilinear_output = final_equilinear(final_equilinear_input)\n",
        "final_equilinear_output_shape = final_equilinear_output.shape\n",
        "print(f\"Output of final equilinear layer: {final_equilinear_output_shape}\")\n",
        "\n",
        "# final_equilinear_output[:,:,0,:][...,[0]] means\n",
        "# select from the mvunique channel the scalar component\n",
        "extracted_scalars = final_equilinear_output[:,:,0,:][...,[0]].squeeze(-1)\n",
        "extracted_scalars_shape = extracted_scalars.shape\n",
        "print(f\"Extracted scalars: {extracted_scalars_shape}\")\n",
        "\n",
        "proj_extracted_input = output_projection(extracted_scalars)\n",
        "proj_extracted_input_shape = proj_extracted_input.shape\n",
        "print(f\"Proj scalars: {proj_extracted_input_shape}\")\n",
        "\n",
        "probabilities = sigmoid(proj_extracted_input)\n",
        "probabilities_shape = probabilities.shape\n",
        "print(f\"Sigmoid output: {probabilities_shape}\")\n",
        "\n",
        "loss = criterion(probabilities,labels.float().to(device))\n",
        "print(f\"Dummy loss: {loss.item():.4f}\")\n",
        "\n",
        "accuracy = accuracy_meter(probabilities,labels.float().to(device))\n",
        "print(f\"Dummy accuracy: {accuracy.item():.4f}\")"
      ],
      "metadata": {
        "id": "4Nl7MM3HIxtF"
      },
      "execution_count": null,
      "outputs": []
    },
    {
      "cell_type": "markdown",
      "source": [
        "#GATr model"
      ],
      "metadata": {
        "id": "haSl1hWPbqL2"
      }
    },
    {
      "cell_type": "markdown",
      "source": [
        "##Pytorch module"
      ],
      "metadata": {
        "id": "uwZ4XueqcaIh"
      }
    },
    {
      "cell_type": "code",
      "source": [
        "class GATrNet(nn.Module):\n",
        "    \"\"\"\n",
        "    GATr neural network.\n",
        "\n",
        "    Args:\n",
        "        in_channels (int): Number of input channels in the data\n",
        "        blade (torch.Tensor): Blade tensor for EquilinearLayer operations\n",
        "        blade_len (int): Length of the blade tensor\n",
        "        hidden_dim (int): Hidden dimension of the EquilinearLayer\n",
        "\n",
        "    Attributes:\n",
        "        enter_equilinear (EquiLinearLayer): EquilinearLayer for initial projection\n",
        "        attention_equinorm (EquilinearNormLayer): EquilinearNormLayer for attention block normalization\n",
        "        geometric_attention (GeometricAttentionLayer): GeometricAttentionLayer for attention block\n",
        "        bilinear_equinorm (EquilinearNormLayer): EquilinearNormLayer for bilinear block normalization\n",
        "        geometric_bilinear (GeometricBilinearLayer): GeometricBilinearLayer for bilinear block\n",
        "        gated_gelu (GatedGELU): Gated GELU activation function\n",
        "        gelu_equilinear (EquiLinearLayer): EquilinearLayer for final GELU operation\n",
        "        final_equilinear (EquiLinearLayer): Final EquilinearLayer for output projection\n",
        "        vectorizer (nn.Linear): Linear layer for vectorization\n",
        "\n",
        "    Methods:\n",
        "        forward(x): computes the forward pass of the GATrNet\n",
        "    \"\"\"\n",
        "\n",
        "    def __init__(self,in_channels,blade,blade_len,hidden_dim):\n",
        "        super(GATrNet, self).__init__()\n",
        "\n",
        "        # Entering Equilinear Layer\n",
        "        self.enter_equilinear = EquiLinearLayer(\n",
        "            input_mv_channels = in_channels,\n",
        "            hidden_mv_dim = hidden_dim,\n",
        "            blade = blade,\n",
        "            blade_len = blade_len\n",
        "         )\n",
        "\n",
        "        # Attention block\n",
        "        self.attention_equinorm = EquilinearNormLayer()\n",
        "\n",
        "        self.geometric_attention = GeometricAttentionLayer(\n",
        "            mv_channels = hidden_dim,\n",
        "            hidden_dim = hidden_dim,\n",
        "            out_channels = hidden_dim,\n",
        "            blade = blade,\n",
        "            blade_len = blade_len,\n",
        "            n_heads = 2 #global_var['n_heads']\n",
        "         )\n",
        "\n",
        "        # Bilinear block\n",
        "        self.bilinear_equinorm = EquilinearNormLayer()\n",
        "\n",
        "        self.geometric_bilinear = GeometricBilinearLayer(\n",
        "            in_mv_channels = hidden_dim,\n",
        "            hidden_mv_channels = hidden_dim,\n",
        "         )\n",
        "\n",
        "        self.gated_gelu = GatedGELU()\n",
        "\n",
        "        self.gelu_equilinear = EquiLinearLayer(\n",
        "            input_mv_channels = hidden_dim,\n",
        "            hidden_mv_dim = hidden_dim,\n",
        "            blade = blade,\n",
        "            blade_len = blade_len\n",
        "         )\n",
        "\n",
        "        # Final Equilinear Layer\n",
        "        self.final_equilinear = EquiLinearLayer(\n",
        "            input_mv_channels = hidden_dim,\n",
        "            hidden_mv_dim = classes - 1, #global_var['classes'] - 1,\n",
        "            blade = blade,\n",
        "            blade_len = blade_len\n",
        "         )\n",
        "\n",
        "        # Vectorizer\n",
        "        self.vectorizer = nn.Linear(\n",
        "            50, #global_var['data_crop'],\n",
        "            classes - 1 #global_var['classes'] - 1\n",
        "         )\n",
        "\n",
        "    def forward(self,x):\n",
        "        # Entering Equilinear Layer\n",
        "        projected_in_mv = self.enter_equilinear(x)\n",
        "        #print(projected_in_mv.shape)\n",
        "        # Attention block\n",
        "        normalized_in_mv = self.attention_equinorm(\n",
        "            projected_in_mv\n",
        "         )\n",
        "        #print(normalized_in_mv.shape)\n",
        "\n",
        "        attended_mv = self.geometric_attention(\n",
        "            normalized_in_mv\n",
        "         )\n",
        "        #print(attended_mv.shape)\n",
        "        # Residual connection 1\n",
        "        residual_mv_1 = attended_mv + projected_in_mv\n",
        "        #print(residual_mv_1.shape)\n",
        "        # Bilinear block\n",
        "        #print(x.shape)\n",
        "        reference = torch.mean(x, dim = 2, keepdim = True)\n",
        "        #print(reference.shape)\n",
        "\n",
        "        #reference = torch.mean(x, dim = (1,2), keepdim = True)\n",
        "        #reference = torch.mean(x, dim = 3 , keepdim = True)\n",
        "        #print(\"Reference\" + str(reference.shape))\n",
        "\n",
        "        normalized_residual_mv = self.bilinear_equinorm(\n",
        "            residual_mv_1\n",
        "         )\n",
        "        #print(normalized_residual_mv.shape)\n",
        "\n",
        "        bilinear_mv = self.geometric_bilinear(\n",
        "            normalized_residual_mv,\n",
        "            reference\n",
        "         )\n",
        "\n",
        "        gated_mv = self.gated_gelu(bilinear_mv)\n",
        "\n",
        "        projected_bilinear_mv = self.gelu_equilinear(\n",
        "            gated_mv\n",
        "         )\n",
        "\n",
        "        # Residual connection 2\n",
        "        residual_mv_2 = projected_bilinear_mv + residual_mv_1\n",
        "\n",
        "        # Final Equilinear Layer\n",
        "        output_mv = self.final_equilinear(residual_mv_2)\n",
        "        extracted_scalars = output_mv[:,:,0,:][...,[0]].squeeze(-1)\n",
        "        logits = self.vectorizer(extracted_scalars)\n",
        "        return logits"
      ],
      "metadata": {
        "id": "0Pi2WePSbyex"
      },
      "execution_count": null,
      "outputs": []
    },
    {
      "cell_type": "code",
      "source": [
        "blade = blade_operator().to(device)\n",
        "blade_len = blade.shape[0]\n",
        "gatr = GATrNet(\n",
        "    input_mv.shape[-2],\n",
        "    blade,\n",
        "    blade_len,\n",
        "    8 #global_var['hidden_dim']\n",
        ").to(device)\n",
        "\n",
        "total_params = sum(p.numel() for p in gatr.parameters())\n",
        "print(f\"Numero totale di parametri del modello: {total_params}\")"
      ],
      "metadata": {
        "id": "6RN4fsiIc4wF",
        "colab": {
          "base_uri": "https://localhost:8080/"
        },
        "outputId": "bc253cda-fa90-4b78-a144-c8802cef874d"
      },
      "execution_count": null,
      "outputs": [
        {
          "output_type": "stream",
          "name": "stdout",
          "text": [
            "Numero totale di parametri del modello: 5379\n"
          ]
        }
      ]
    },
    {
      "cell_type": "code",
      "source": [
        "input_mv.shape[-2]"
      ],
      "metadata": {
        "colab": {
          "base_uri": "https://localhost:8080/"
        },
        "id": "GnZK4Uvx0qNb",
        "outputId": "1208538b-f9b0-42d2-f80b-beac972b00d6"
      },
      "execution_count": null,
      "outputs": [
        {
          "output_type": "execute_result",
          "data": {
            "text/plain": [
              "1"
            ]
          },
          "metadata": {},
          "execution_count": 417
        }
      ]
    },
    {
      "cell_type": "code",
      "source": [
        "gatr_input = input_mv\n",
        "gatr_input_shape = gatr_input.shape\n",
        "#print(f\"[LOG] Input of GATr: {gatr_input_shape}\")\n",
        "\n",
        "gatr_output = gatr(gatr_input)\n",
        "gatr_output_shape = gatr_output.shape\n",
        "print(f\"[LOG] Output of GATr: {gatr_output_shape}\")"
      ],
      "metadata": {
        "id": "ghXd2_nhdFdz",
        "colab": {
          "base_uri": "https://localhost:8080/"
        },
        "outputId": "d5047b45-88bc-4114-892f-da728deafb27"
      },
      "execution_count": null,
      "outputs": [
        {
          "output_type": "stream",
          "name": "stdout",
          "text": [
            "[LOG] Output of GATr: torch.Size([32, 1])\n"
          ]
        }
      ]
    },
    {
      "cell_type": "markdown",
      "source": [
        "##Pytorch Lightning module"
      ],
      "metadata": {
        "id": "XfYCOalZdI19"
      }
    },
    {
      "cell_type": "code",
      "source": [
        "class GATr(pl.LightningModule):\n",
        "    \"\"\"\n",
        "    LightningModule for training and evaluation of the GATrNet neural network.\n",
        "\n",
        "    Args:\n",
        "        in_channels (int): Number of input channels in the data\n",
        "        blade (torch.Tensor): Blade tensor for EquilinearLayer operations\n",
        "        blade_len (int): Length of the blade tensor\n",
        "        hidden_dim (int): Hidden dimension of the EquilinearLayer\n",
        "        lr (float): Learning rate for optimization\n",
        "        gamma (float): Gamma parameter for the learning rate scheduler\n",
        "\n",
        "    Attributes:\n",
        "        criterion (nn.BCELoss): Binary Cross Entropy Loss for training\n",
        "        accuracy_meter (torchmetrics.classification.Accuracy): Accuracy metric for binary classification\n",
        "        lr (float): Learning rate for optimization\n",
        "        gamma (float): Gamma parameter for the learning rate scheduler\n",
        "        sigmoid (nn.Sigmoid): Sigmoid activation function\n",
        "        gatr (GATrNet): GATrNet neural network\n",
        "\n",
        "    Methods:\n",
        "        forward(x): computes the forward pass of the GATrNet\n",
        "        configure_optimizers(): configures the optimizer and learning rate scheduler\n",
        "        training_step(batch, batch_idx): performs a training step with the given batch\n",
        "        validation_step(batch): performs a validation step with the given batch\n",
        "        test_step(batch): performs a test step with the given batch\n",
        "        predict_step(batch): performs a prediction step with the given batch\n",
        "    \"\"\"\n",
        "\n",
        "    def __init__(self,in_channels,blade,blade_len,hidden_dim,lr,gamma):\n",
        "        super(GATr, self).__init__()\n",
        "        self.criterion = nn.BCELoss()\n",
        "        self.accuracy_meter = torchmetrics.classification.Accuracy(\n",
        "            task = \"binary\",\n",
        "            num_classes = 2\n",
        "         )\n",
        "        self.save_hyperparameters()\n",
        "        self.lr = lr\n",
        "        self.gamma = gamma\n",
        "        self.sigmoid = nn.Sigmoid()\n",
        "        self.gatr = GATrNet(\n",
        "            in_channels,\n",
        "            blade,\n",
        "            blade_len,\n",
        "            hidden_dim\n",
        "         )\n",
        "\n",
        "    def forward(self, x):\n",
        "        out = self.gatr(x)\n",
        "        return out\n",
        "\n",
        "    def configure_optimizers(self):\n",
        "        optimizer = torch.optim.Adam(self.parameters(), lr = self.lr)\n",
        "        scheduler = ExponentialLR(optimizer, gamma = self.gamma)\n",
        "\n",
        "        return {\n",
        "            'optimizer': optimizer,\n",
        "            'lr_scheduler': {\n",
        "                'scheduler': scheduler,\n",
        "                'interval': 'epoch',\n",
        "                'frequency': 5,\n",
        "             }\n",
        "         }\n",
        "\n",
        "\n",
        "    def training_step(self, batch, batch_idx):\n",
        "        inputs, labels = batch\n",
        "        inputs, labels = inputs.to(device), labels.to(device)\n",
        "        outputs = self.gatr(inputs)\n",
        "\n",
        "        probabilities = self.sigmoid(outputs)\n",
        "        train_loss = self.criterion(probabilities,labels.float())\n",
        "        train_accuracy = self.accuracy_meter(probabilities,labels.float())\n",
        "\n",
        "        values = {\"train_loss\": train_loss, \"train_acc\": train_accuracy}\n",
        "        self.log_dict(values, prog_bar = True)\n",
        "\n",
        "        return train_loss\n",
        "\n",
        "    def validation_step(self, batch, batch_idx):\n",
        "        inputs, labels = batch\n",
        "        inputs, labels = inputs.to(device),labels.to(device)\n",
        "        outputs = self.gatr(inputs)\n",
        "\n",
        "        probabilities = self.sigmoid(outputs)\n",
        "        val_loss = self.criterion(probabilities,labels.float())\n",
        "        val_accuracy = self.accuracy_meter(probabilities,labels.float())\n",
        "        values = {\"val_loss\": val_loss, \"val_acc\": val_accuracy}\n",
        "        self.log_dict(values, prog_bar = True)\n",
        "\n",
        "        return val_loss\n",
        "\n",
        "\n",
        "    def test_step(self, batch):\n",
        "        inputs, labels = batch\n",
        "        inputs, labels = inputs.to(device), labels.to(device)\n",
        "        outputs = self.gatr(inputs)\n",
        "\n",
        "        probabilities = self.sigmoid(outputs)\n",
        "        test_loss = self.criterion(probabilities,labels.float())\n",
        "        test_accuracy = self.accuracy_meter(probabilities,labels.float())\n",
        "\n",
        "        values = {\"test_loss\": test_loss, \"test_acc\": test_accuracy}\n",
        "        self.log_dict(values, prog_bar = True)\n",
        "\n",
        "        return test_loss\n",
        "\n",
        "    def predict_step(self, batch):\n",
        "        inputs, _ = batch\n",
        "        inputs = inputs.to(device)\n",
        "        predictions = self.gatr(inputs)\n",
        "        probabilities = self.sigmoid(predictions)\n",
        "        return torch.round(probabilities)"
      ],
      "metadata": {
        "id": "82OyzQv1dICA"
      },
      "execution_count": null,
      "outputs": []
    },
    {
      "cell_type": "markdown",
      "source": [
        "##Hyperparameters search"
      ],
      "metadata": {
        "id": "OQpiEjjTd28o"
      }
    },
    {
      "cell_type": "code",
      "source": [
        "def optuna_callback(study, trial):\n",
        "    \"\"\"\n",
        "    Callback that prints the information from the hyperparameters search\n",
        "\n",
        "    Args:\n",
        "        study (optuna.Study): Hyperpaameter optimization wrapper\n",
        "        trial (optuna.Trial): Current values in the optimization process\n",
        "    Returns:\n",
        "        Prints logs about current study trial\n",
        "    \"\"\"\n",
        "    string_prefix = \"\\033[1m\\033[94m**********************  Trial \"\n",
        "    string_msg = f\"{trial.number + 1}/10\"#{global_var['optuna_trial']}\"\n",
        "    string_suffix = \" ended *******************************\\033[0m\"\n",
        "    print(string_prefix + string_msg + string_suffix)"
      ],
      "metadata": {
        "id": "Pc5P3qunhSjZ"
      },
      "execution_count": null,
      "outputs": []
    },
    {
      "cell_type": "code",
      "source": [
        "def hyperparameter_search(name,objective,trials):\n",
        "    \"\"\"\n",
        "    Function for hyperparameter search using Optuna.\n",
        "\n",
        "    Args:\n",
        "        name (str): Name of the search\n",
        "        objective (function): Objective function for hyperparameter optimization\n",
        "        trials (int): Number of trials for the optimization process\n",
        "\n",
        "    Returns:\n",
        "        (Tuple): Best hyperparameters and the Optuna study object\n",
        "    \"\"\"\n",
        "\n",
        "    best_hyperparameters = []\n",
        "    prefix_string = \"\\033[1m\\033[94m\" + \"*\"*30\n",
        "    suffix_string = \"*\"*30 + \"\\033[0m\"\n",
        "    print(prefix_string + \" Hyperparameter search started \" + suffix_string)\n",
        "\n",
        "    sampler = optuna.samplers.TPESampler(\n",
        "        seed = 0#global_var['sampler_seed']\n",
        "     )\n",
        "\n",
        "    study = optuna.create_study(\n",
        "        direction = \"minimize\",\n",
        "        sampler = sampler,\n",
        "        study_name = \"Transformer_hyperparameter_search\"\n",
        "     )\n",
        "\n",
        "    study.optimize(\n",
        "        objective,\n",
        "        n_trials = trials,\n",
        "        callbacks = [optuna_callback]\n",
        "     )\n",
        "\n",
        "    print(prefix_string + \" Hyperparameter search ended \" + suffix_string)\n",
        "    print(\"\\nBest objective function value:\", study.best_trial.values[0])\n",
        "    print(\"Best Hyperparameters\", study.best_params)\n",
        "\n",
        "    best_hyperparameters.append(study.best_params[\"hidden_dim\"])\n",
        "    best_hyperparameters.append(round(study.best_params[\"learning_rate\"],5))\n",
        "    best_hyperparameters.append(round(study.best_params[\"scheduler_gamma\"],2))\n",
        "    best_hyperparameters.append(study.best_params[\"batch_size\"])\n",
        "\n",
        "    return best_hyperparameters, study"
      ],
      "metadata": {
        "id": "3kRF2XGrgrct"
      },
      "execution_count": null,
      "outputs": []
    },
    {
      "cell_type": "code",
      "source": [
        "def gatr_objective(trial):\n",
        "    \"\"\"\n",
        "    Objective function for hyperparameter optimization using Optuna.\n",
        "    This function trains a GATr model on the VesselDataModule\n",
        "    for a given set of hyperparameters and returns the validation loss.\n",
        "\n",
        "    Args:\n",
        "        trial (optuna.Trial): Optuna trial object for hyperparameter optimization\n",
        "\n",
        "    Returns:\n",
        "        (float): Validation loss after training the Transformer model\n",
        "    \"\"\"\n",
        "\n",
        "    hidden_dim = trial.suggest_int(\"hidden_dim\",2,8,step = 2)\n",
        "    learning_rate = trial.suggest_float(\"learning_rate\",1e-3,1e-1)\n",
        "    scheduler_gamma = trial.suggest_float(\"scheduler_gamma\",0.94,0.99)\n",
        "    batch_size = trial.suggest_int(\"batch_size\",20,60,step = 10)\n",
        "\n",
        "\n",
        "    datamodule = MultivectorDataModule(\n",
        "        batch_size = batch_size,\n",
        "        train_mvdata_name = \"train_set.pt\",\n",
        "        test_mvdata_name = 'test_set.pt',\n",
        "        gatr_flag=True\n",
        "     )\n",
        "\n",
        "    blade = blade_operator().to(device)\n",
        "    blade_len = blade.shape[0]\n",
        "\n",
        "    hyper_opt_model = GATr(\n",
        "        in_channels = 2,#global_var['input_channels'],\n",
        "        blade = blade,\n",
        "        blade_len = blade_len,\n",
        "        hidden_dim = hidden_dim,\n",
        "        lr = learning_rate,\n",
        "        gamma = scheduler_gamma\n",
        "     )\n",
        "\n",
        "    trainer = pl.Trainer(\n",
        "        max_epochs = 15,\n",
        "        logger = False,\n",
        "        enable_checkpointing = False\n",
        "     )\n",
        "    trainer.fit(hyper_opt_model,datamodule)\n",
        "\n",
        "    return trainer.logged_metrics[\"val_loss\"].item()"
      ],
      "metadata": {
        "id": "bN2pprGbd-B0"
      },
      "execution_count": null,
      "outputs": []
    },
    {
      "cell_type": "code",
      "source": [
        "[best_hidden_dim, best_lr, best_gamma, best_batch_size], study = hyperparameter_search(\n",
        "    name = \"GATr Hyperparameter Search\",\n",
        "    objective = gatr_objective,\n",
        "    trials = 5 #global_var['optuna_trial']\n",
        ")"
      ],
      "metadata": {
        "id": "kvdla75vfvFn"
      },
      "execution_count": null,
      "outputs": []
    },
    {
      "cell_type": "code",
      "source": [
        "optimization_landscape = optuna.visualization.plot_contour(\n",
        "    study,\n",
        "    params = [\"hidden_dim\", \"learning_rate\"],\n",
        "    target_name = \"Validation Loss\"\n",
        ")\n",
        "optimization_landscape.update_layout(\n",
        "    title_text = 'GATr Optimization Landscape',\n",
        "    showlegend = True\n",
        ")\n",
        "optimization_landscape.show()"
      ],
      "metadata": {
        "id": "cjI_1D6GzbTm",
        "colab": {
          "base_uri": "https://localhost:8080/",
          "height": 542
        },
        "outputId": "ee3ddc00-3c88-463e-e555-6fd1d8d242e5"
      },
      "execution_count": null,
      "outputs": [
        {
          "output_type": "display_data",
          "data": {
            "text/html": [
              "<html>\n",
              "<head><meta charset=\"utf-8\" /></head>\n",
              "<body>\n",
              "    <div>            <script src=\"https://cdnjs.cloudflare.com/ajax/libs/mathjax/2.7.5/MathJax.js?config=TeX-AMS-MML_SVG\"></script><script type=\"text/javascript\">if (window.MathJax && window.MathJax.Hub && window.MathJax.Hub.Config) {window.MathJax.Hub.Config({SVG: {font: \"STIX-Web\"}});}</script>                <script type=\"text/javascript\">window.PlotlyConfig = {MathJaxConfig: 'local'};</script>\n",
              "        <script charset=\"utf-8\" src=\"https://cdn.plot.ly/plotly-2.24.1.min.js\"></script>                <div id=\"abe1c1fb-7bde-42f8-a38c-43c5e3068334\" class=\"plotly-graph-div\" style=\"height:525px; width:100%;\"></div>            <script type=\"text/javascript\">                                    window.PLOTLYENV=window.PLOTLYENV || {};                                    if (document.getElementById(\"abe1c1fb-7bde-42f8-a38c-43c5e3068334\")) {                    Plotly.newPlot(                        \"abe1c1fb-7bde-42f8-a38c-43c5e3068334\",                        [{\"colorbar\":{\"title\":{\"text\":\"Validation Loss\"}},\"colorscale\":[[0.0,\"rgb(247,251,255)\"],[0.125,\"rgb(222,235,247)\"],[0.25,\"rgb(198,219,239)\"],[0.375,\"rgb(158,202,225)\"],[0.5,\"rgb(107,174,214)\"],[0.625,\"rgb(66,146,198)\"],[0.75,\"rgb(33,113,181)\"],[0.875,\"rgb(8,81,156)\"],[1.0,\"rgb(8,48,107)\"]],\"connectgaps\":true,\"contours\":{\"coloring\":\"heatmap\"},\"hoverinfo\":\"none\",\"line\":{\"smoothing\":1.3},\"reversescale\":true,\"x\":[1.7,2,4,6,8,8.3],\"y\":[0.036277042522390925,0.038960710363751996,0.06494351719359896,0.07180374727086954,0.08342936470924586,0.09263406719097345,0.09531773503233452],\"z\":[[null,null,null,null,null,null],[null,null,null,null,0.0011490596225485206,null],[null,null,0.001168529037386179,null,null,null],[null,null,null,0.0005670055979862809,null,null],[null,0.0016635458450764418,null,null,null,null],[null,null,null,0.00011896760406671092,null,null],[null,null,null,null,null,null]],\"type\":\"contour\"},{\"marker\":{\"color\":\"black\",\"line\":{\"color\":\"Gray\",\"width\":2.0}},\"mode\":\"markers\",\"name\":\"Feasible Trial\",\"showlegend\":false,\"x\":[6,4,8,6,2],\"y\":[0.07180374727086954,0.06494351719359896,0.038960710363751996,0.09263406719097345,0.08342936470924586],\"type\":\"scatter\"},{\"marker\":{\"color\":\"#cccccc\",\"line\":{\"color\":\"Gray\",\"width\":2.0}},\"mode\":\"markers\",\"name\":\"Infeasible Trial\",\"showlegend\":false,\"x\":[],\"y\":[],\"type\":\"scatter\"}],                        {\"title\":{\"text\":\"GATr Optimization Landscape\"},\"template\":{\"data\":{\"histogram2dcontour\":[{\"type\":\"histogram2dcontour\",\"colorbar\":{\"outlinewidth\":0,\"ticks\":\"\"},\"colorscale\":[[0.0,\"#0d0887\"],[0.1111111111111111,\"#46039f\"],[0.2222222222222222,\"#7201a8\"],[0.3333333333333333,\"#9c179e\"],[0.4444444444444444,\"#bd3786\"],[0.5555555555555556,\"#d8576b\"],[0.6666666666666666,\"#ed7953\"],[0.7777777777777778,\"#fb9f3a\"],[0.8888888888888888,\"#fdca26\"],[1.0,\"#f0f921\"]]}],\"choropleth\":[{\"type\":\"choropleth\",\"colorbar\":{\"outlinewidth\":0,\"ticks\":\"\"}}],\"histogram2d\":[{\"type\":\"histogram2d\",\"colorbar\":{\"outlinewidth\":0,\"ticks\":\"\"},\"colorscale\":[[0.0,\"#0d0887\"],[0.1111111111111111,\"#46039f\"],[0.2222222222222222,\"#7201a8\"],[0.3333333333333333,\"#9c179e\"],[0.4444444444444444,\"#bd3786\"],[0.5555555555555556,\"#d8576b\"],[0.6666666666666666,\"#ed7953\"],[0.7777777777777778,\"#fb9f3a\"],[0.8888888888888888,\"#fdca26\"],[1.0,\"#f0f921\"]]}],\"heatmap\":[{\"type\":\"heatmap\",\"colorbar\":{\"outlinewidth\":0,\"ticks\":\"\"},\"colorscale\":[[0.0,\"#0d0887\"],[0.1111111111111111,\"#46039f\"],[0.2222222222222222,\"#7201a8\"],[0.3333333333333333,\"#9c179e\"],[0.4444444444444444,\"#bd3786\"],[0.5555555555555556,\"#d8576b\"],[0.6666666666666666,\"#ed7953\"],[0.7777777777777778,\"#fb9f3a\"],[0.8888888888888888,\"#fdca26\"],[1.0,\"#f0f921\"]]}],\"heatmapgl\":[{\"type\":\"heatmapgl\",\"colorbar\":{\"outlinewidth\":0,\"ticks\":\"\"},\"colorscale\":[[0.0,\"#0d0887\"],[0.1111111111111111,\"#46039f\"],[0.2222222222222222,\"#7201a8\"],[0.3333333333333333,\"#9c179e\"],[0.4444444444444444,\"#bd3786\"],[0.5555555555555556,\"#d8576b\"],[0.6666666666666666,\"#ed7953\"],[0.7777777777777778,\"#fb9f3a\"],[0.8888888888888888,\"#fdca26\"],[1.0,\"#f0f921\"]]}],\"contourcarpet\":[{\"type\":\"contourcarpet\",\"colorbar\":{\"outlinewidth\":0,\"ticks\":\"\"}}],\"contour\":[{\"type\":\"contour\",\"colorbar\":{\"outlinewidth\":0,\"ticks\":\"\"},\"colorscale\":[[0.0,\"#0d0887\"],[0.1111111111111111,\"#46039f\"],[0.2222222222222222,\"#7201a8\"],[0.3333333333333333,\"#9c179e\"],[0.4444444444444444,\"#bd3786\"],[0.5555555555555556,\"#d8576b\"],[0.6666666666666666,\"#ed7953\"],[0.7777777777777778,\"#fb9f3a\"],[0.8888888888888888,\"#fdca26\"],[1.0,\"#f0f921\"]]}],\"surface\":[{\"type\":\"surface\",\"colorbar\":{\"outlinewidth\":0,\"ticks\":\"\"},\"colorscale\":[[0.0,\"#0d0887\"],[0.1111111111111111,\"#46039f\"],[0.2222222222222222,\"#7201a8\"],[0.3333333333333333,\"#9c179e\"],[0.4444444444444444,\"#bd3786\"],[0.5555555555555556,\"#d8576b\"],[0.6666666666666666,\"#ed7953\"],[0.7777777777777778,\"#fb9f3a\"],[0.8888888888888888,\"#fdca26\"],[1.0,\"#f0f921\"]]}],\"mesh3d\":[{\"type\":\"mesh3d\",\"colorbar\":{\"outlinewidth\":0,\"ticks\":\"\"}}],\"scatter\":[{\"fillpattern\":{\"fillmode\":\"overlay\",\"size\":10,\"solidity\":0.2},\"type\":\"scatter\"}],\"parcoords\":[{\"type\":\"parcoords\",\"line\":{\"colorbar\":{\"outlinewidth\":0,\"ticks\":\"\"}}}],\"scatterpolargl\":[{\"type\":\"scatterpolargl\",\"marker\":{\"colorbar\":{\"outlinewidth\":0,\"ticks\":\"\"}}}],\"bar\":[{\"error_x\":{\"color\":\"#2a3f5f\"},\"error_y\":{\"color\":\"#2a3f5f\"},\"marker\":{\"line\":{\"color\":\"#E5ECF6\",\"width\":0.5},\"pattern\":{\"fillmode\":\"overlay\",\"size\":10,\"solidity\":0.2}},\"type\":\"bar\"}],\"scattergeo\":[{\"type\":\"scattergeo\",\"marker\":{\"colorbar\":{\"outlinewidth\":0,\"ticks\":\"\"}}}],\"scatterpolar\":[{\"type\":\"scatterpolar\",\"marker\":{\"colorbar\":{\"outlinewidth\":0,\"ticks\":\"\"}}}],\"histogram\":[{\"marker\":{\"pattern\":{\"fillmode\":\"overlay\",\"size\":10,\"solidity\":0.2}},\"type\":\"histogram\"}],\"scattergl\":[{\"type\":\"scattergl\",\"marker\":{\"colorbar\":{\"outlinewidth\":0,\"ticks\":\"\"}}}],\"scatter3d\":[{\"type\":\"scatter3d\",\"line\":{\"colorbar\":{\"outlinewidth\":0,\"ticks\":\"\"}},\"marker\":{\"colorbar\":{\"outlinewidth\":0,\"ticks\":\"\"}}}],\"scattermapbox\":[{\"type\":\"scattermapbox\",\"marker\":{\"colorbar\":{\"outlinewidth\":0,\"ticks\":\"\"}}}],\"scatterternary\":[{\"type\":\"scatterternary\",\"marker\":{\"colorbar\":{\"outlinewidth\":0,\"ticks\":\"\"}}}],\"scattercarpet\":[{\"type\":\"scattercarpet\",\"marker\":{\"colorbar\":{\"outlinewidth\":0,\"ticks\":\"\"}}}],\"carpet\":[{\"aaxis\":{\"endlinecolor\":\"#2a3f5f\",\"gridcolor\":\"white\",\"linecolor\":\"white\",\"minorgridcolor\":\"white\",\"startlinecolor\":\"#2a3f5f\"},\"baxis\":{\"endlinecolor\":\"#2a3f5f\",\"gridcolor\":\"white\",\"linecolor\":\"white\",\"minorgridcolor\":\"white\",\"startlinecolor\":\"#2a3f5f\"},\"type\":\"carpet\"}],\"table\":[{\"cells\":{\"fill\":{\"color\":\"#EBF0F8\"},\"line\":{\"color\":\"white\"}},\"header\":{\"fill\":{\"color\":\"#C8D4E3\"},\"line\":{\"color\":\"white\"}},\"type\":\"table\"}],\"barpolar\":[{\"marker\":{\"line\":{\"color\":\"#E5ECF6\",\"width\":0.5},\"pattern\":{\"fillmode\":\"overlay\",\"size\":10,\"solidity\":0.2}},\"type\":\"barpolar\"}],\"pie\":[{\"automargin\":true,\"type\":\"pie\"}]},\"layout\":{\"autotypenumbers\":\"strict\",\"colorway\":[\"#636efa\",\"#EF553B\",\"#00cc96\",\"#ab63fa\",\"#FFA15A\",\"#19d3f3\",\"#FF6692\",\"#B6E880\",\"#FF97FF\",\"#FECB52\"],\"font\":{\"color\":\"#2a3f5f\"},\"hovermode\":\"closest\",\"hoverlabel\":{\"align\":\"left\"},\"paper_bgcolor\":\"white\",\"plot_bgcolor\":\"#E5ECF6\",\"polar\":{\"bgcolor\":\"#E5ECF6\",\"angularaxis\":{\"gridcolor\":\"white\",\"linecolor\":\"white\",\"ticks\":\"\"},\"radialaxis\":{\"gridcolor\":\"white\",\"linecolor\":\"white\",\"ticks\":\"\"}},\"ternary\":{\"bgcolor\":\"#E5ECF6\",\"aaxis\":{\"gridcolor\":\"white\",\"linecolor\":\"white\",\"ticks\":\"\"},\"baxis\":{\"gridcolor\":\"white\",\"linecolor\":\"white\",\"ticks\":\"\"},\"caxis\":{\"gridcolor\":\"white\",\"linecolor\":\"white\",\"ticks\":\"\"}},\"coloraxis\":{\"colorbar\":{\"outlinewidth\":0,\"ticks\":\"\"}},\"colorscale\":{\"sequential\":[[0.0,\"#0d0887\"],[0.1111111111111111,\"#46039f\"],[0.2222222222222222,\"#7201a8\"],[0.3333333333333333,\"#9c179e\"],[0.4444444444444444,\"#bd3786\"],[0.5555555555555556,\"#d8576b\"],[0.6666666666666666,\"#ed7953\"],[0.7777777777777778,\"#fb9f3a\"],[0.8888888888888888,\"#fdca26\"],[1.0,\"#f0f921\"]],\"sequentialminus\":[[0.0,\"#0d0887\"],[0.1111111111111111,\"#46039f\"],[0.2222222222222222,\"#7201a8\"],[0.3333333333333333,\"#9c179e\"],[0.4444444444444444,\"#bd3786\"],[0.5555555555555556,\"#d8576b\"],[0.6666666666666666,\"#ed7953\"],[0.7777777777777778,\"#fb9f3a\"],[0.8888888888888888,\"#fdca26\"],[1.0,\"#f0f921\"]],\"diverging\":[[0,\"#8e0152\"],[0.1,\"#c51b7d\"],[0.2,\"#de77ae\"],[0.3,\"#f1b6da\"],[0.4,\"#fde0ef\"],[0.5,\"#f7f7f7\"],[0.6,\"#e6f5d0\"],[0.7,\"#b8e186\"],[0.8,\"#7fbc41\"],[0.9,\"#4d9221\"],[1,\"#276419\"]]},\"xaxis\":{\"gridcolor\":\"white\",\"linecolor\":\"white\",\"ticks\":\"\",\"title\":{\"standoff\":15},\"zerolinecolor\":\"white\",\"automargin\":true,\"zerolinewidth\":2},\"yaxis\":{\"gridcolor\":\"white\",\"linecolor\":\"white\",\"ticks\":\"\",\"title\":{\"standoff\":15},\"zerolinecolor\":\"white\",\"automargin\":true,\"zerolinewidth\":2},\"scene\":{\"xaxis\":{\"backgroundcolor\":\"#E5ECF6\",\"gridcolor\":\"white\",\"linecolor\":\"white\",\"showbackground\":true,\"ticks\":\"\",\"zerolinecolor\":\"white\",\"gridwidth\":2},\"yaxis\":{\"backgroundcolor\":\"#E5ECF6\",\"gridcolor\":\"white\",\"linecolor\":\"white\",\"showbackground\":true,\"ticks\":\"\",\"zerolinecolor\":\"white\",\"gridwidth\":2},\"zaxis\":{\"backgroundcolor\":\"#E5ECF6\",\"gridcolor\":\"white\",\"linecolor\":\"white\",\"showbackground\":true,\"ticks\":\"\",\"zerolinecolor\":\"white\",\"gridwidth\":2}},\"shapedefaults\":{\"line\":{\"color\":\"#2a3f5f\"}},\"annotationdefaults\":{\"arrowcolor\":\"#2a3f5f\",\"arrowhead\":0,\"arrowwidth\":1},\"geo\":{\"bgcolor\":\"white\",\"landcolor\":\"#E5ECF6\",\"subunitcolor\":\"white\",\"showland\":true,\"showlakes\":true,\"lakecolor\":\"white\"},\"title\":{\"x\":0.05},\"mapbox\":{\"style\":\"light\"}}},\"xaxis\":{\"title\":{\"text\":\"hidden_dim\"},\"range\":[1.7,8.3]},\"yaxis\":{\"title\":{\"text\":\"learning_rate\"},\"range\":[0.036277042522390925,0.09531773503233452]},\"showlegend\":true},                        {\"responsive\": true}                    ).then(function(){\n",
              "                            \n",
              "var gd = document.getElementById('abe1c1fb-7bde-42f8-a38c-43c5e3068334');\n",
              "var x = new MutationObserver(function (mutations, observer) {{\n",
              "        var display = window.getComputedStyle(gd).display;\n",
              "        if (!display || display === 'none') {{\n",
              "            console.log([gd, 'removed!']);\n",
              "            Plotly.purge(gd);\n",
              "            observer.disconnect();\n",
              "        }}\n",
              "}});\n",
              "\n",
              "// Listen for the removal of the full notebook cells\n",
              "var notebookContainer = gd.closest('#notebook-container');\n",
              "if (notebookContainer) {{\n",
              "    x.observe(notebookContainer, {childList: true});\n",
              "}}\n",
              "\n",
              "// Listen for the clearing of the current output cell\n",
              "var outputEl = gd.closest('.output');\n",
              "if (outputEl) {{\n",
              "    x.observe(outputEl, {childList: true});\n",
              "}}\n",
              "\n",
              "                        })                };                            </script>        </div>\n",
              "</body>\n",
              "</html>"
            ]
          },
          "metadata": {}
        }
      ]
    },
    {
      "cell_type": "code",
      "source": [
        "def train(name,datamodule,model):\n",
        "    \"\"\"\n",
        "    Function to train a PyTorch Lightning model.\n",
        "\n",
        "    Args:\n",
        "        name (str): Name of the training session\n",
        "        datamodule (pl.LightningDataModule): PyTorch Lightning DataModule for training\n",
        "        model (pl.LightningModule): PyTorch Lightning model to be trained\n",
        "    \"\"\"\n",
        "\n",
        "    tb_logger = TensorBoardLogger(\"/content/lightning_logs\", name = name)\n",
        "    checkpoint_callback = ModelCheckpoint(filename = name)\n",
        "    callbacks = [TQDMProgressBar(refresh_rate = 20),checkpoint_callback]\n",
        "\n",
        "    trainer = pl.Trainer(\n",
        "        max_epochs = 10,#global_var['epochs'],\n",
        "        callbacks = callbacks,\n",
        "        logger = tb_logger,\n",
        "        default_root_dir = \"/content\"\n",
        "     )\n",
        "\n",
        "    trainer.fit(model, datamodule)"
      ],
      "metadata": {
        "id": "PLnZYoBN042z"
      },
      "execution_count": 107,
      "outputs": []
    },
    {
      "cell_type": "code",
      "source": [
        "gatr_datamodule = MultivectorDataModule(\n",
        "    batch_size = best_batch_size,\n",
        "    train_mvdata_name = \"train_set.pt\",\n",
        "    test_mvdata_name = 'test_set.pt',\n",
        "    gatr_flag=True\n",
        ")\n",
        "\n",
        "blade = blade_operator().to(device)\n",
        "blade_len = blade.shape[0]\n",
        "gatr_model = GATr(\n",
        "    in_channels = 2, #global_var['input_channels'],\n",
        "    blade = blade,\n",
        "    blade_len = blade_len,\n",
        "    hidden_dim = best_hidden_dim,\n",
        "    lr = best_lr,\n",
        "    gamma = best_gamma\n",
        ")\n",
        "\n",
        "train(\n",
        "    name = \"GATr\",\n",
        "    datamodule = gatr_datamodule,\n",
        "    model = gatr_model\n",
        ")"
      ],
      "metadata": {
        "id": "DdRb2PNIy09P",
        "colab": {
          "base_uri": "https://localhost:8080/",
          "height": 327,
          "referenced_widgets": [
            "8f8f6d8c62234902aac0299c26ff3a2b",
            "3b08d42b1b6e485889bb6d6e3b11d734",
            "a60c785de7f84969924756d8707df99c",
            "7fd5a052464f4e0794106c6ae707a202",
            "d00538df828e4924bb1ff4773691e36c",
            "cd52aa1f8cc040ec94e427808f95619c",
            "02138fcce4b64374b6558885e9b71e14",
            "b79d6c50f2754dc3bbc604b29b6883a8",
            "63da5942205540f8a3e9724189800446",
            "9206c6f789884c2f8dcc0cd6b5fc15d7",
            "0165880f9826445fbc6a4c2cfa4b8dae",
            "7e3e0421f871469ba78ea530837733f2",
            "4d6ef9eb936141a4a1485e3abf45572e",
            "e6a5ed81c4be4d6c8f6be3f387ab2f19",
            "b45040da9f5a4cfd8d42d60dc41f8fc5",
            "3f91d5f56dc0435b9e401a447ae2391c",
            "e68466d6738541e3b95feb67c9aa72d6",
            "a785103db61a40b9888d07bcf4cdba63",
            "563fa7c8619d4bc8aa55ee5404cb3dcc",
            "32695631b19549fd90bbced4b91e5176",
            "884f3e39d95749c8b5f811b277af901c",
            "4906be0d1a4f475098907c8c6cc47c05",
            "01498c56a19f4c3b857a52b3bd161b5e",
            "232756229e1c48979ad342dedc560c1b",
            "58ccd6ee7b314a84940cabca1d8bea63",
            "b5cd3cbe561646d287edc042bac00583",
            "ce977106066047048442a95deffb4aae",
            "adc37a1f4a1544cf9cc51a2a3c9a1841",
            "618fe951621249928d462ed0691b66ce",
            "3f34903acdee469cb5bd5da0a434cec2",
            "115e6c1a6549455eb4106efe474322b4",
            "139ee906990241e38f492c88f971d717",
            "c24b345a316a4838806766dbc14a544a"
          ]
        },
        "outputId": "e2c8bb3c-a268-408e-c814-feee6ea3390b"
      },
      "execution_count": null,
      "outputs": [
        {
          "output_type": "stream",
          "name": "stderr",
          "text": [
            "INFO:pytorch_lightning.utilities.rank_zero:GPU available: False, used: False\n",
            "INFO:pytorch_lightning.utilities.rank_zero:TPU available: False, using: 0 TPU cores\n",
            "INFO:pytorch_lightning.utilities.rank_zero:HPU available: False, using: 0 HPUs\n",
            "INFO:pytorch_lightning.callbacks.model_summary:\n",
            "  | Name           | Type           | Params | Mode \n",
            "----------------------------------------------------------\n",
            "0 | criterion      | BCELoss        | 0      | train\n",
            "1 | accuracy_meter | BinaryAccuracy | 0      | train\n",
            "2 | sigmoid        | Sigmoid        | 0      | train\n",
            "3 | gatr           | GATrNet        | 3.1 K  | train\n",
            "----------------------------------------------------------\n",
            "3.1 K     Trainable params\n",
            "0         Non-trainable params\n",
            "3.1 K     Total params\n",
            "0.013     Total estimated model params size (MB)\n"
          ]
        },
        {
          "output_type": "stream",
          "name": "stdout",
          "text": [
            "torch.Size([3199, 51, 1, 16])\n"
          ]
        },
        {
          "output_type": "display_data",
          "data": {
            "text/plain": [
              "Sanity Checking: |          | 0/? [00:00<?, ?it/s]"
            ],
            "application/vnd.jupyter.widget-view+json": {
              "version_major": 2,
              "version_minor": 0,
              "model_id": "8f8f6d8c62234902aac0299c26ff3a2b"
            }
          },
          "metadata": {}
        },
        {
          "output_type": "display_data",
          "data": {
            "text/plain": [
              "Training: |          | 0/? [00:00<?, ?it/s]"
            ],
            "application/vnd.jupyter.widget-view+json": {
              "version_major": 2,
              "version_minor": 0,
              "model_id": "7e3e0421f871469ba78ea530837733f2"
            }
          },
          "metadata": {}
        },
        {
          "output_type": "display_data",
          "data": {
            "text/plain": [
              "Validation: |          | 0/? [00:00<?, ?it/s]"
            ],
            "application/vnd.jupyter.widget-view+json": {
              "version_major": 2,
              "version_minor": 0,
              "model_id": "01498c56a19f4c3b857a52b3bd161b5e"
            }
          },
          "metadata": {}
        }
      ]
    },
    {
      "cell_type": "code",
      "source": [
        "%cd .."
      ],
      "metadata": {
        "id": "pdLFHPf2-yUU"
      },
      "execution_count": null,
      "outputs": []
    },
    {
      "cell_type": "code",
      "source": [
        "%cd ./version_0"
      ],
      "metadata": {
        "id": "PXgzfHaN736W"
      },
      "execution_count": null,
      "outputs": []
    },
    {
      "cell_type": "code",
      "source": [
        "# Carica l'estensione di TensorBoard\n",
        "%load_ext tensorboard\n",
        "\n",
        "# Avvia TensorBoard per visualizzare i log dal percorso specificato\n",
        "%tensorboard --logdir /content/lightning_logs/GATr/version_0/"
      ],
      "metadata": {
        "id": "4jhIkeIZ--Sr"
      },
      "execution_count": null,
      "outputs": []
    },
    {
      "cell_type": "code",
      "source": [
        "checkpoint_path = 'GATr.ckpt'\n",
        "checkpoint = torch.load(checkpoint_path)\n",
        "checkpoint.keys()\n",
        "callbacks = checkpoint['callbacks']\n",
        "print(callbacks.keys())\n",
        "\n",
        "# Esplora ogni callback per trovare le metriche\n",
        "for key in callbacks:\n",
        "    print(f\"Callback key: {key}\")\n",
        "    print(callbacks[key])\n",
        "    print(\"\\n\")\n",
        "\n",
        "# Supponendo che le metriche siano trovate in uno specifico callback\n",
        "# Sostituisci 'ModelCheckpoint{...}' con la chiave esatta trovata\n",
        "model_checkpoint = callbacks['ModelCheckpoint{...}']\n",
        "\n",
        "# Stampa le chiavi per capire cosa contiene\n",
        "print(model_checkpoint.keys())\n",
        "\n",
        "# Estrarre le metriche specifiche\n",
        "# Nota: le chiavi esatte dipendono da come sono stati salvati i dati, quindi assicurati di esplorare il contenuto\n",
        "train_losses = model_checkpoint.get('train_loss', [])\n",
        "val_accuracies = model_checkpoint.get('val_acc', [])\n",
        "\n",
        "# Plotta le metriche\n",
        "epochs = range(1, len(train_losses) + 1)\n",
        "\n",
        "plt.figure(figsize=(10, 6))\n",
        "plt.plot(epochs, train_losses, label='Train Loss')\n",
        "plt.plot(epochs, val_accuracies, label='Validation Accuracy')\n",
        "plt.xlabel('Epochs')\n",
        "plt.ylabel('Metric')\n",
        "plt.title('Training Loss and Validation Accuracy over Epochs')\n",
        "plt.legend()\n",
        "plt.show()"
      ],
      "metadata": {
        "id": "k4NJX67l9KOf"
      },
      "execution_count": null,
      "outputs": []
    },
    {
      "cell_type": "code",
      "source": [
        "# Percorso del checkpoint\n",
        "checkpoint_path = 'GATr.ckpt'\n",
        "\n",
        "# Carica il modello dal checkpoint\n",
        "#model = YourLightningModule.load_from_checkpoint(checkpoint_path)\n",
        "\n",
        "# Carica lo stato del checkpoint\n",
        "checkpoint = torch.load(checkpoint_path)\n",
        "\n",
        "# Estrarre i log delle metriche\n",
        "logs = checkpoint['callbacks']\n",
        "\n",
        "# Supponendo che i log delle metriche siano salvati in `logs`\n",
        "# Esempio per la loss e accuracy (assumi che le chiavi siano 'train_loss' e 'val_acc')\n",
        "train_loss = logs['ModelCheckpoint']['train_loss']\n",
        "val_acc = logs['ModelCheckpoint']['val_acc']\n",
        "\n",
        "# Plotta i dati\n",
        "epochs = range(1, len(train_loss) + 1)\n",
        "\n",
        "plt.figure(figsize=(10, 6))\n",
        "plt.plot(epochs, train_loss, label='Train Loss')\n",
        "plt.plot(epochs, val_acc, label='Validation Accuracy')\n",
        "plt.xlabel('Epochs')\n",
        "plt.ylabel('Metric')\n",
        "plt.title('Training Loss and Validation Accuracy over Epochs')\n",
        "plt.legend()\n",
        "plt.show()"
      ],
      "metadata": {
        "id": "KCyVUz2O72uo"
      },
      "execution_count": null,
      "outputs": []
    },
    {
      "cell_type": "markdown",
      "source": [
        "# Transformer"
      ],
      "metadata": {
        "id": "iiTnZEQMaB8G"
      }
    },
    {
      "cell_type": "markdown",
      "source": [
        "## Transformer layers\n"
      ],
      "metadata": {
        "id": "p5Dzsvr9P0Fk"
      }
    },
    {
      "cell_type": "code",
      "source": [
        "##Embedding\n",
        "\n",
        "class PositionalEmbedding(nn.Module):\n",
        "\n",
        "    def __init__(self, input_dim, seq_len=50):\n",
        "        super(PositionalEmbedding, self).__init__()\n",
        "\n",
        "        embedd = torch.zeros(seq_len, input_dim)\n",
        "        position = torch.arange(0, seq_len, dtype=torch.float).unsqueeze(1)\n",
        "        div_term = torch.exp(torch.arange(0, input_dim, 2).float() * (-math.log(10000.0) / input_dim))\n",
        "        embedd[:, 0::2] = torch.sin(position * div_term)\n",
        "        embedd[:, 1::2] = torch.cos(position * div_term)\n",
        "        embedd = embedd.unsqueeze(0)\n",
        "        embedd.shape\n",
        "        self.register_buffer('embedding', embedd)\n",
        "\n",
        "\n",
        "    def forward(self, x):\n",
        "        return x + self.embedding"
      ],
      "metadata": {
        "id": "fXOqbDUTP3o6"
      },
      "execution_count": 56,
      "outputs": []
    },
    {
      "cell_type": "code",
      "source": [
        "import os\n",
        "import random\n",
        "import math\n",
        "\n",
        "from functools import partial # fix some parameters of a function and generate a new function\n",
        "from tqdm.notebook import tqdm\n",
        "\n",
        "import torch\n",
        "import numpy as np\n",
        "import matplotlib.pyplot as plt\n",
        "\n",
        "# utility torch\n",
        "import torch.nn as nn\n",
        "import torch.nn.functional as F\n",
        "import torch.optim as optim\n",
        "\n",
        "try:\n",
        "    import pytorch_lightning as pl\n",
        "except ModuleNotFoundError:\n",
        "    %pip install --quiet pytorch-lightning\n",
        "    import pytorch_lightning as pl\n",
        "from pytorch_lightning.callbacks import LearningRateMonitor, ModelCheckpoint"
      ],
      "metadata": {
        "id": "SPvqnJkkaluR"
      },
      "execution_count": 57,
      "outputs": []
    },
    {
      "cell_type": "code",
      "source": [
        "class Transformer(nn.Module):\n",
        "\n",
        "  def __init__(self, input_dim, projected_dim, num_heads=4):\n",
        "    super(Transformer, self).__init__()\n",
        "\n",
        "    self.project = nn.Linear(input_dim, projected_dim)\n",
        "    self.embedding = PositionalEmbedding(projected_dim)\n",
        "\n",
        "    self.multi_head_block = MultiHead(projected_dim, num_heads)\n",
        "    self.layer_norm1 = nn.LayerNorm(projected_dim)\n",
        "\n",
        "    self.fully_connected = nn.Sequential(\n",
        "        nn.Linear(projected_dim, projected_dim//2),\n",
        "        nn.ReLU(inplace=True),\n",
        "        nn.LayerNorm(projected_dim//2),\n",
        "        nn.Linear(projected_dim//2, 128)\n",
        "    )\n",
        "    self.logit_layer = nn.Linear(128, 1)\n",
        "    self.activation = nn.ReLU()\n",
        "  def forward(self, x):\n",
        "    \"\"\"\n",
        "    x : [batch, seq_len, input_dim]\n",
        "    latent_rappresentation = [batch, seq_len, num_heads, head_dimension]\n",
        "    \"\"\"\n",
        "    x.squeeze(-2)\n",
        "    print(x.shape)\n",
        "    emb = self.embedding(self.project(x))                    # embedding\n",
        "    output_encoder = self.multi_head_block(emb, emb, emb)    # multihead\n",
        "    x = self.layer_norm1(output_encoder + emb)               # residual + layerNorm\n",
        "    x = self.activation(self.fully_connected(x))             # classifier\n",
        "    x = torch.mean(x, dim=1)                                 # Mean pooling : from set to vectors --> [batch, embedding_dim]\n",
        "    probability = F.sigmoid(self.logit_layer(x))             # logit\n",
        "    return probability"
      ],
      "metadata": {
        "id": "5QMl4STGQznb"
      },
      "execution_count": 112,
      "outputs": []
    },
    {
      "cell_type": "code",
      "source": [
        "class WarmupScheduler(torch.optim.lr_scheduler._LRScheduler):\n",
        "\n",
        "    def __init__(self, optimizer, warmup, max_number_iters=-1):\n",
        "        self.warmup = warmup\n",
        "        self.max_number_iters = max_number_iters\n",
        "        super(WarmupScheduler, self).__init__(optimizer)\n",
        "\n",
        "\n",
        "    def get_lr(self):\n",
        "        lr_factor = self.get_lr_factor(epoch=self.last_epoch)\n",
        "        return [base_lr * lr_factor for base_lr in self.base_lrs]\n",
        "\n",
        "    def get_lr_factor(self, epoch):\n",
        "        lr_factor = 0.5 * (1 + np.cos(np.pi * epoch  / self.max_number_iters))\n",
        "        if epoch < self.warmup:\n",
        "            lr_factor *= epoch / self.warmup\n",
        "        return lr_factor"
      ],
      "metadata": {
        "id": "NcTp7jhjPxfD"
      },
      "execution_count": 62,
      "outputs": []
    },
    {
      "cell_type": "code",
      "source": [
        "class MultiHead(nn.Module):\n",
        "\n",
        "    def __init__(self, emb_dim, num_heads):\n",
        "\n",
        "        super(MultiHead, self).__init__()\n",
        "        assert emb_dim % num_heads == 0, \"latent dimension must be divisible by the number of heads\"\n",
        "\n",
        "        self.emb_dim = emb_dim\n",
        "        self.num_heads = num_heads\n",
        "        self.head_dim = int(self.emb_dim/self.num_heads)\n",
        "\n",
        "        # projection matrix in the QKV space: each matrix is emb/num_head x emb/num_head\n",
        "        # Expected dimension:  64/4 : 16x16 matrix\n",
        "        self.q_matrix = nn.Linear(self.head_dim, self.head_dim, bias=False)\n",
        "        self.k_matrix = nn.Linear(self.head_dim, self.head_dim, bias=False)\n",
        "        self.v_matrix = nn.Linear(self.head_dim, self.head_dim, bias=False)\n",
        "\n",
        "        # output layer, take the concatenation of the multiheads output and\n",
        "        # reproject with the same dimenison of the input\n",
        "        self.output_projection = nn.Linear(self.num_heads*self.head_dim, self.emb_dim)\n",
        "\n",
        "        #self._reset_parameters()\n",
        "\n",
        "\n",
        "    # why we do that? why is usefull to have this data distribution?\n",
        "    def _reset_parameters(self):\n",
        "        nn.init.xavier_uniform_(self.qkv_projection.weight)\n",
        "        self.qkv_projection.bias.data.fill_(0)\n",
        "\n",
        "        nn.init.xavier_uniform_(self.my_projection.weight)\n",
        "        self.my_projection.bias.data.fill_(0)\n",
        "\n",
        "    # ps: the mask is for the decoder or for hide some token\n",
        "    def forward(self, k, q, v, mask=None):\n",
        "\n",
        "        batch_size, seq_len = k.size(0), k.size(1)\n",
        "        # transpose all\n",
        "        k = k.view(batch_size, seq_len, self.num_heads, self.head_dim)\n",
        "        q = q.view(batch_size, seq_len, self.num_heads, self.head_dim)\n",
        "        v = v.view(batch_size, seq_len, self.num_heads, self.head_dim)\n",
        "\n",
        "        # Project : output : [batch, seq_len, num_heads, head_dim]\n",
        "        K = self.k_matrix(k)\n",
        "        Q = self.q_matrix(q)\n",
        "        V = self.v_matrix(v)\n",
        "\n",
        "        # for QxK.t we should re-arrange the view:\n",
        "        # (batch_size, n_heads, seq_len, head_dim)\n",
        "        Q = Q.transpose(1,2)  #  (32 x 4 x 50 x 16)\n",
        "        K = K.transpose(1,2)  #  (32 x 4 x 50 x 16)\n",
        "        V = V.transpose(1,2)  #  (32 x 4 x 50 x 16)\n",
        "\n",
        "        K_transpose = K.transpose(-1, -2) # (batch_size, n_heads, head_dim, seq_len)\n",
        "\n",
        "\n",
        "        score = torch.matmul(Q, K_transpose)\n",
        "\n",
        "        if mask is not None:\n",
        "            score = score.masked_fill(mask==0, float('-1e20'))\n",
        "\n",
        "        attention_score = F.softmax(score/math.sqrt(self.head_dim), dim=-1)\n",
        "        attention = torch.matmul(attention_score, V)\n",
        "\n",
        "        # remove a contiuguous call after the transpose, it should just worry in case of memory proble\n",
        "        concat_multihead = attention.transpose(1, 2).view(\n",
        "            batch_size,\n",
        "            seq_len,\n",
        "            self.num_heads * self.head_dim)\n",
        "        output = self.output_projection(concat_multihead)\n",
        "        return output\n",
        "\n",
        "MultiHead(emb_dim=64, num_heads=4)"
      ],
      "metadata": {
        "id": "GTBjpuV1aufX",
        "outputId": "14c6bf0b-ce8d-43d8-9b9d-f4463a53e6cc",
        "colab": {
          "base_uri": "https://localhost:8080/"
        }
      },
      "execution_count": 60,
      "outputs": [
        {
          "output_type": "execute_result",
          "data": {
            "text/plain": [
              "MultiHead(\n",
              "  (q_matrix): Linear(in_features=16, out_features=16, bias=False)\n",
              "  (k_matrix): Linear(in_features=16, out_features=16, bias=False)\n",
              "  (v_matrix): Linear(in_features=16, out_features=16, bias=False)\n",
              "  (output_projection): Linear(in_features=64, out_features=64, bias=True)\n",
              ")"
            ]
          },
          "metadata": {},
          "execution_count": 60
        }
      ]
    },
    {
      "cell_type": "code",
      "source": [
        "\n",
        "class TransformerArchitecture(pl.LightningModule):\n",
        "\n",
        "    def __init__(self):\n",
        "        super(TransformerArchitecture, self).__init__()\n",
        "\n",
        "\n",
        "        input_dim = 16\n",
        "        hidden_dim = 16\n",
        "        max_seq_len = 1000\n",
        "        num_heads = 8\n",
        "        dim_feedforwards = 512\n",
        "        num_layers = 2\n",
        "        output_dim = 256\n",
        "\n",
        "        # training parameters:\n",
        "        self.lr = 1e-3\n",
        "        self.warmup = 0.01\n",
        "        self.max_iters = 10000\n",
        "        #self.device = torch.device(\"cuda:0\")# if torch.cuda.is_available() else \"cpu\")\n",
        "\n",
        "        self.net = Transformer(input_dim=16,\n",
        "                               projected_dim=64 )\n",
        "\n",
        "                               # hidden_dim,\n",
        "                               #   max_seq_len,\n",
        "                                #  num_heads,\n",
        "                                 # dim_feedforwards,\n",
        "                                  #num_layers,\n",
        "                                 # output_dim,\n",
        "                                 # dropout=0.1,\"\"\"\n",
        "\n",
        "        self.sigmoid = nn.Sigmoid()\n",
        "        self.criterion = nn.BCELoss()\n",
        "        #self.accuracy_meter = pl.metrics.Accuracy()\n",
        "\n",
        "    def forward(self, x, mask=None):\n",
        "        return self.net(x)\n",
        "\n",
        "\n",
        "    @torch.no_grad()\n",
        "    def get_attention_maps(self, x, mask=None, add_positional_encoding=True):\n",
        "        \"\"\"\n",
        "        Function for extracting the attention matrices of the whole Transformer for a single batch.\n",
        "        Input arguments same as the forward pass.\n",
        "        \"\"\"\n",
        "        x = self.input_net(x)\n",
        "        if add_positional_encoding:\n",
        "            x = self.positional_encoding(x)\n",
        "        attention_maps = self.transformer.get_attention_maps(x, mask=mask)\n",
        "        return attention_maps\n",
        "\n",
        "    def configure_optimizers(self):\n",
        "        optimizer = optim.Adam(self.parameters(), lr=self.lr)\n",
        "\n",
        "        # Apply lr scheduler per step\n",
        "        lr_scheduler = WarmupScheduler(optimizer,\n",
        "                                        warmup=self.warmup,\n",
        "                                        max_number_iters=self.max_iters)\n",
        "\n",
        "        return [optimizer], [{'scheduler': lr_scheduler, 'interval': 'step'}]\n",
        "\n",
        "    def training_step(self, batch, batch_idx):\n",
        "        inputs, labels = batch\n",
        "        inputs, labels = inputs.to(device), labels.to(device)\n",
        "        outputs = self.net(inputs)\n",
        "\n",
        "        probabilities = self.sigmoid(outputs)\n",
        "        train_loss = self.criterion(probabilities,labels.float())\n",
        "        train_accuracy = self.accuracy_meter(probabilities,labels.float())\n",
        "\n",
        "        values = {\"train_loss\": train_loss, \"train_acc\": train_accuracy}\n",
        "        self.log_dict(values, prog_bar = True)\n",
        "\n",
        "        return train_loss\n",
        "\n",
        "    def validation_step(self, batch, batch_idx):\n",
        "\n",
        "        inputs, labels = batch\n",
        "        inputs, labels = inputs.to(device),labels.to(device)\n",
        "        outputs = self.net(inputs)\n",
        "\n",
        "        probabilities = self.sigmoid(outputs)\n",
        "        val_loss = self.criterion(probabilities,labels.float())\n",
        "        val_accuracy = self.accuracy_meter(probabilities,labels.float())\n",
        "\n",
        "        values = {\"val_loss\": val_loss, \"val_acc\": val_accuracy}\n",
        "        self.log_dict(values, prog_bar = True)\n",
        "\n",
        "        return val_loss\n",
        "\n",
        "    def test_step(self, batch, batch_idx):\n",
        "        inputs, labels = batch\n",
        "        inputs, labels = inputs.to(device), labels.to(device)\n",
        "        outputs = self.net(inputs)\n",
        "\n",
        "        probabilities = self.sigmoid(outputs)\n",
        "        test_loss = self.criterion(probabilities,labels.float())\n",
        "        test_accuracy = self.accuracy_meter(probabilities,labels.float())\n",
        "\n",
        "        values = {\"test_loss\": test_loss, \"test_acc\": test_accuracy}\n",
        "        self.log_dict(values, prog_bar = True)\n",
        "\n",
        "        return test_loss"
      ],
      "metadata": {
        "id": "tVCF16oRa_5n"
      },
      "execution_count": 104,
      "outputs": []
    },
    {
      "cell_type": "code",
      "source": [
        "gatr_datamodule = MultivectorDataModule(\n",
        "    batch_size = 32,\n",
        "    train_mvdata_name = \"train_set.pt\",\n",
        "    test_mvdata_name = 'test_set.pt',\n",
        "    gatr_flag=True\n",
        ")\n",
        "transformer_model = TransformerArchitecture() # 16 input_dim, 64_projected\n",
        "gatr_datamodule.setup(None)\n",
        "dataloader = gatr_datamodule.train_dataloader()"
      ],
      "metadata": {
        "id": "vY7MfeQCbEDd",
        "outputId": "4fe734eb-dddb-4ac7-e90e-4e2ab85ad89a",
        "colab": {
          "base_uri": "https://localhost:8080/"
        }
      },
      "execution_count": 74,
      "outputs": [
        {
          "output_type": "stream",
          "name": "stdout",
          "text": [
            "torch.Size([3199, 51, 1, 16])\n",
            "torch.Size([32, 50, 16])\n"
          ]
        }
      ]
    },
    {
      "cell_type": "code",
      "source": [
        "y = transformer_model(x)\n",
        "y.shape"
      ],
      "metadata": {
        "id": "gCWK3kkjkN-7",
        "outputId": "4aa3ee71-40c7-4255-b87c-0d1dd57e70bf",
        "colab": {
          "base_uri": "https://localhost:8080/",
          "height": 1000
        }
      },
      "execution_count": 75,
      "outputs": [
        {
          "output_type": "error",
          "ename": "RuntimeError",
          "evalue": "view size is not compatible with input tensor's size and stride (at least one dimension spans across two contiguous subspaces). Use .reshape(...) instead.",
          "traceback": [
            "\u001b[0;31m---------------------------------------------------------------------------\u001b[0m",
            "\u001b[0;31mRuntimeError\u001b[0m                              Traceback (most recent call last)",
            "\u001b[0;32m<ipython-input-75-3c49a6bce261>\u001b[0m in \u001b[0;36m<cell line: 1>\u001b[0;34m()\u001b[0m\n\u001b[0;32m----> 1\u001b[0;31m \u001b[0my\u001b[0m \u001b[0;34m=\u001b[0m \u001b[0mtransformer_model\u001b[0m\u001b[0;34m(\u001b[0m\u001b[0mx\u001b[0m\u001b[0;34m)\u001b[0m\u001b[0;34m\u001b[0m\u001b[0;34m\u001b[0m\u001b[0m\n\u001b[0m\u001b[1;32m      2\u001b[0m \u001b[0my\u001b[0m\u001b[0;34m.\u001b[0m\u001b[0mshape\u001b[0m\u001b[0;34m\u001b[0m\u001b[0;34m\u001b[0m\u001b[0m\n",
            "\u001b[0;32m/usr/local/lib/python3.10/dist-packages/torch/nn/modules/module.py\u001b[0m in \u001b[0;36m_wrapped_call_impl\u001b[0;34m(self, *args, **kwargs)\u001b[0m\n\u001b[1;32m   1530\u001b[0m             \u001b[0;32mreturn\u001b[0m \u001b[0mself\u001b[0m\u001b[0;34m.\u001b[0m\u001b[0m_compiled_call_impl\u001b[0m\u001b[0;34m(\u001b[0m\u001b[0;34m*\u001b[0m\u001b[0margs\u001b[0m\u001b[0;34m,\u001b[0m \u001b[0;34m**\u001b[0m\u001b[0mkwargs\u001b[0m\u001b[0;34m)\u001b[0m  \u001b[0;31m# type: ignore[misc]\u001b[0m\u001b[0;34m\u001b[0m\u001b[0;34m\u001b[0m\u001b[0m\n\u001b[1;32m   1531\u001b[0m         \u001b[0;32melse\u001b[0m\u001b[0;34m:\u001b[0m\u001b[0;34m\u001b[0m\u001b[0;34m\u001b[0m\u001b[0m\n\u001b[0;32m-> 1532\u001b[0;31m             \u001b[0;32mreturn\u001b[0m \u001b[0mself\u001b[0m\u001b[0;34m.\u001b[0m\u001b[0m_call_impl\u001b[0m\u001b[0;34m(\u001b[0m\u001b[0;34m*\u001b[0m\u001b[0margs\u001b[0m\u001b[0;34m,\u001b[0m \u001b[0;34m**\u001b[0m\u001b[0mkwargs\u001b[0m\u001b[0;34m)\u001b[0m\u001b[0;34m\u001b[0m\u001b[0;34m\u001b[0m\u001b[0m\n\u001b[0m\u001b[1;32m   1533\u001b[0m \u001b[0;34m\u001b[0m\u001b[0m\n\u001b[1;32m   1534\u001b[0m     \u001b[0;32mdef\u001b[0m \u001b[0m_call_impl\u001b[0m\u001b[0;34m(\u001b[0m\u001b[0mself\u001b[0m\u001b[0;34m,\u001b[0m \u001b[0;34m*\u001b[0m\u001b[0margs\u001b[0m\u001b[0;34m,\u001b[0m \u001b[0;34m**\u001b[0m\u001b[0mkwargs\u001b[0m\u001b[0;34m)\u001b[0m\u001b[0;34m:\u001b[0m\u001b[0;34m\u001b[0m\u001b[0;34m\u001b[0m\u001b[0m\n",
            "\u001b[0;32m/usr/local/lib/python3.10/dist-packages/torch/nn/modules/module.py\u001b[0m in \u001b[0;36m_call_impl\u001b[0;34m(self, *args, **kwargs)\u001b[0m\n\u001b[1;32m   1539\u001b[0m                 \u001b[0;32mor\u001b[0m \u001b[0m_global_backward_pre_hooks\u001b[0m \u001b[0;32mor\u001b[0m \u001b[0m_global_backward_hooks\u001b[0m\u001b[0;34m\u001b[0m\u001b[0;34m\u001b[0m\u001b[0m\n\u001b[1;32m   1540\u001b[0m                 or _global_forward_hooks or _global_forward_pre_hooks):\n\u001b[0;32m-> 1541\u001b[0;31m             \u001b[0;32mreturn\u001b[0m \u001b[0mforward_call\u001b[0m\u001b[0;34m(\u001b[0m\u001b[0;34m*\u001b[0m\u001b[0margs\u001b[0m\u001b[0;34m,\u001b[0m \u001b[0;34m**\u001b[0m\u001b[0mkwargs\u001b[0m\u001b[0;34m)\u001b[0m\u001b[0;34m\u001b[0m\u001b[0;34m\u001b[0m\u001b[0m\n\u001b[0m\u001b[1;32m   1542\u001b[0m \u001b[0;34m\u001b[0m\u001b[0m\n\u001b[1;32m   1543\u001b[0m         \u001b[0;32mtry\u001b[0m\u001b[0;34m:\u001b[0m\u001b[0;34m\u001b[0m\u001b[0;34m\u001b[0m\u001b[0m\n",
            "\u001b[0;32m<ipython-input-70-4521e9a8f787>\u001b[0m in \u001b[0;36mforward\u001b[0;34m(self, x, mask)\u001b[0m\n\u001b[1;32m     35\u001b[0m \u001b[0;34m\u001b[0m\u001b[0m\n\u001b[1;32m     36\u001b[0m     \u001b[0;32mdef\u001b[0m \u001b[0mforward\u001b[0m\u001b[0;34m(\u001b[0m\u001b[0mself\u001b[0m\u001b[0;34m,\u001b[0m \u001b[0mx\u001b[0m\u001b[0;34m,\u001b[0m \u001b[0mmask\u001b[0m\u001b[0;34m=\u001b[0m\u001b[0;32mNone\u001b[0m\u001b[0;34m)\u001b[0m\u001b[0;34m:\u001b[0m\u001b[0;34m\u001b[0m\u001b[0;34m\u001b[0m\u001b[0m\n\u001b[0;32m---> 37\u001b[0;31m         \u001b[0;32mreturn\u001b[0m \u001b[0mself\u001b[0m\u001b[0;34m.\u001b[0m\u001b[0mnet\u001b[0m\u001b[0;34m(\u001b[0m\u001b[0mx\u001b[0m\u001b[0;34m)\u001b[0m\u001b[0;34m\u001b[0m\u001b[0;34m\u001b[0m\u001b[0m\n\u001b[0m\u001b[1;32m     38\u001b[0m \u001b[0;34m\u001b[0m\u001b[0m\n\u001b[1;32m     39\u001b[0m \u001b[0;34m\u001b[0m\u001b[0m\n",
            "\u001b[0;32m/usr/local/lib/python3.10/dist-packages/torch/nn/modules/module.py\u001b[0m in \u001b[0;36m_wrapped_call_impl\u001b[0;34m(self, *args, **kwargs)\u001b[0m\n\u001b[1;32m   1530\u001b[0m             \u001b[0;32mreturn\u001b[0m \u001b[0mself\u001b[0m\u001b[0;34m.\u001b[0m\u001b[0m_compiled_call_impl\u001b[0m\u001b[0;34m(\u001b[0m\u001b[0;34m*\u001b[0m\u001b[0margs\u001b[0m\u001b[0;34m,\u001b[0m \u001b[0;34m**\u001b[0m\u001b[0mkwargs\u001b[0m\u001b[0;34m)\u001b[0m  \u001b[0;31m# type: ignore[misc]\u001b[0m\u001b[0;34m\u001b[0m\u001b[0;34m\u001b[0m\u001b[0m\n\u001b[1;32m   1531\u001b[0m         \u001b[0;32melse\u001b[0m\u001b[0;34m:\u001b[0m\u001b[0;34m\u001b[0m\u001b[0;34m\u001b[0m\u001b[0m\n\u001b[0;32m-> 1532\u001b[0;31m             \u001b[0;32mreturn\u001b[0m \u001b[0mself\u001b[0m\u001b[0;34m.\u001b[0m\u001b[0m_call_impl\u001b[0m\u001b[0;34m(\u001b[0m\u001b[0;34m*\u001b[0m\u001b[0margs\u001b[0m\u001b[0;34m,\u001b[0m \u001b[0;34m**\u001b[0m\u001b[0mkwargs\u001b[0m\u001b[0;34m)\u001b[0m\u001b[0;34m\u001b[0m\u001b[0;34m\u001b[0m\u001b[0m\n\u001b[0m\u001b[1;32m   1533\u001b[0m \u001b[0;34m\u001b[0m\u001b[0m\n\u001b[1;32m   1534\u001b[0m     \u001b[0;32mdef\u001b[0m \u001b[0m_call_impl\u001b[0m\u001b[0;34m(\u001b[0m\u001b[0mself\u001b[0m\u001b[0;34m,\u001b[0m \u001b[0;34m*\u001b[0m\u001b[0margs\u001b[0m\u001b[0;34m,\u001b[0m \u001b[0;34m**\u001b[0m\u001b[0mkwargs\u001b[0m\u001b[0;34m)\u001b[0m\u001b[0;34m:\u001b[0m\u001b[0;34m\u001b[0m\u001b[0;34m\u001b[0m\u001b[0m\n",
            "\u001b[0;32m/usr/local/lib/python3.10/dist-packages/torch/nn/modules/module.py\u001b[0m in \u001b[0;36m_call_impl\u001b[0;34m(self, *args, **kwargs)\u001b[0m\n\u001b[1;32m   1539\u001b[0m                 \u001b[0;32mor\u001b[0m \u001b[0m_global_backward_pre_hooks\u001b[0m \u001b[0;32mor\u001b[0m \u001b[0m_global_backward_hooks\u001b[0m\u001b[0;34m\u001b[0m\u001b[0;34m\u001b[0m\u001b[0m\n\u001b[1;32m   1540\u001b[0m                 or _global_forward_hooks or _global_forward_pre_hooks):\n\u001b[0;32m-> 1541\u001b[0;31m             \u001b[0;32mreturn\u001b[0m \u001b[0mforward_call\u001b[0m\u001b[0;34m(\u001b[0m\u001b[0;34m*\u001b[0m\u001b[0margs\u001b[0m\u001b[0;34m,\u001b[0m \u001b[0;34m**\u001b[0m\u001b[0mkwargs\u001b[0m\u001b[0;34m)\u001b[0m\u001b[0;34m\u001b[0m\u001b[0;34m\u001b[0m\u001b[0m\n\u001b[0m\u001b[1;32m   1542\u001b[0m \u001b[0;34m\u001b[0m\u001b[0m\n\u001b[1;32m   1543\u001b[0m         \u001b[0;32mtry\u001b[0m\u001b[0;34m:\u001b[0m\u001b[0;34m\u001b[0m\u001b[0;34m\u001b[0m\u001b[0m\n",
            "\u001b[0;32m<ipython-input-73-af1800bf5b4d>\u001b[0m in \u001b[0;36mforward\u001b[0;34m(self, x)\u001b[0m\n\u001b[1;32m     24\u001b[0m     \"\"\"\n\u001b[1;32m     25\u001b[0m     \u001b[0memb\u001b[0m \u001b[0;34m=\u001b[0m \u001b[0mself\u001b[0m\u001b[0;34m.\u001b[0m\u001b[0membedding\u001b[0m\u001b[0;34m(\u001b[0m\u001b[0mself\u001b[0m\u001b[0;34m.\u001b[0m\u001b[0mproject\u001b[0m\u001b[0;34m(\u001b[0m\u001b[0mx\u001b[0m\u001b[0;34m)\u001b[0m\u001b[0;34m)\u001b[0m                    \u001b[0;31m# embedding\u001b[0m\u001b[0;34m\u001b[0m\u001b[0;34m\u001b[0m\u001b[0m\n\u001b[0;32m---> 26\u001b[0;31m     \u001b[0moutput_encoder\u001b[0m \u001b[0;34m=\u001b[0m \u001b[0mself\u001b[0m\u001b[0;34m.\u001b[0m\u001b[0mmulti_head_block\u001b[0m\u001b[0;34m(\u001b[0m\u001b[0memb\u001b[0m\u001b[0;34m,\u001b[0m \u001b[0memb\u001b[0m\u001b[0;34m,\u001b[0m \u001b[0memb\u001b[0m\u001b[0;34m)\u001b[0m    \u001b[0;31m# multihead\u001b[0m\u001b[0;34m\u001b[0m\u001b[0;34m\u001b[0m\u001b[0m\n\u001b[0m\u001b[1;32m     27\u001b[0m     \u001b[0;31m#x = self.layer_norm1(output_encoder + emb)               # residual + layerNorm\u001b[0m\u001b[0;34m\u001b[0m\u001b[0;34m\u001b[0m\u001b[0m\n\u001b[1;32m     28\u001b[0m     \u001b[0;31m#x = self.activation(self.fully_connected(x))             # classifier\u001b[0m\u001b[0;34m\u001b[0m\u001b[0;34m\u001b[0m\u001b[0m\n",
            "\u001b[0;32m/usr/local/lib/python3.10/dist-packages/torch/nn/modules/module.py\u001b[0m in \u001b[0;36m_wrapped_call_impl\u001b[0;34m(self, *args, **kwargs)\u001b[0m\n\u001b[1;32m   1530\u001b[0m             \u001b[0;32mreturn\u001b[0m \u001b[0mself\u001b[0m\u001b[0;34m.\u001b[0m\u001b[0m_compiled_call_impl\u001b[0m\u001b[0;34m(\u001b[0m\u001b[0;34m*\u001b[0m\u001b[0margs\u001b[0m\u001b[0;34m,\u001b[0m \u001b[0;34m**\u001b[0m\u001b[0mkwargs\u001b[0m\u001b[0;34m)\u001b[0m  \u001b[0;31m# type: ignore[misc]\u001b[0m\u001b[0;34m\u001b[0m\u001b[0;34m\u001b[0m\u001b[0m\n\u001b[1;32m   1531\u001b[0m         \u001b[0;32melse\u001b[0m\u001b[0;34m:\u001b[0m\u001b[0;34m\u001b[0m\u001b[0;34m\u001b[0m\u001b[0m\n\u001b[0;32m-> 1532\u001b[0;31m             \u001b[0;32mreturn\u001b[0m \u001b[0mself\u001b[0m\u001b[0;34m.\u001b[0m\u001b[0m_call_impl\u001b[0m\u001b[0;34m(\u001b[0m\u001b[0;34m*\u001b[0m\u001b[0margs\u001b[0m\u001b[0;34m,\u001b[0m \u001b[0;34m**\u001b[0m\u001b[0mkwargs\u001b[0m\u001b[0;34m)\u001b[0m\u001b[0;34m\u001b[0m\u001b[0;34m\u001b[0m\u001b[0m\n\u001b[0m\u001b[1;32m   1533\u001b[0m \u001b[0;34m\u001b[0m\u001b[0m\n\u001b[1;32m   1534\u001b[0m     \u001b[0;32mdef\u001b[0m \u001b[0m_call_impl\u001b[0m\u001b[0;34m(\u001b[0m\u001b[0mself\u001b[0m\u001b[0;34m,\u001b[0m \u001b[0;34m*\u001b[0m\u001b[0margs\u001b[0m\u001b[0;34m,\u001b[0m \u001b[0;34m**\u001b[0m\u001b[0mkwargs\u001b[0m\u001b[0;34m)\u001b[0m\u001b[0;34m:\u001b[0m\u001b[0;34m\u001b[0m\u001b[0;34m\u001b[0m\u001b[0m\n",
            "\u001b[0;32m/usr/local/lib/python3.10/dist-packages/torch/nn/modules/module.py\u001b[0m in \u001b[0;36m_call_impl\u001b[0;34m(self, *args, **kwargs)\u001b[0m\n\u001b[1;32m   1539\u001b[0m                 \u001b[0;32mor\u001b[0m \u001b[0m_global_backward_pre_hooks\u001b[0m \u001b[0;32mor\u001b[0m \u001b[0m_global_backward_hooks\u001b[0m\u001b[0;34m\u001b[0m\u001b[0;34m\u001b[0m\u001b[0m\n\u001b[1;32m   1540\u001b[0m                 or _global_forward_hooks or _global_forward_pre_hooks):\n\u001b[0;32m-> 1541\u001b[0;31m             \u001b[0;32mreturn\u001b[0m \u001b[0mforward_call\u001b[0m\u001b[0;34m(\u001b[0m\u001b[0;34m*\u001b[0m\u001b[0margs\u001b[0m\u001b[0;34m,\u001b[0m \u001b[0;34m**\u001b[0m\u001b[0mkwargs\u001b[0m\u001b[0;34m)\u001b[0m\u001b[0;34m\u001b[0m\u001b[0;34m\u001b[0m\u001b[0m\n\u001b[0m\u001b[1;32m   1542\u001b[0m \u001b[0;34m\u001b[0m\u001b[0m\n\u001b[1;32m   1543\u001b[0m         \u001b[0;32mtry\u001b[0m\u001b[0;34m:\u001b[0m\u001b[0;34m\u001b[0m\u001b[0;34m\u001b[0m\u001b[0m\n",
            "\u001b[0;32m<ipython-input-60-0f9e13b3910b>\u001b[0m in \u001b[0;36mforward\u001b[0;34m(self, k, q, v, mask)\u001b[0m\n\u001b[1;32m     63\u001b[0m \u001b[0;34m\u001b[0m\u001b[0m\n\u001b[1;32m     64\u001b[0m         \u001b[0;31m# remove a contiuguous call after the transpose, it should just worry in case of memory proble\u001b[0m\u001b[0;34m\u001b[0m\u001b[0;34m\u001b[0m\u001b[0m\n\u001b[0;32m---> 65\u001b[0;31m         concat_multihead = attention.transpose(1, 2).view(\n\u001b[0m\u001b[1;32m     66\u001b[0m             \u001b[0mbatch_size\u001b[0m\u001b[0;34m,\u001b[0m\u001b[0;34m\u001b[0m\u001b[0;34m\u001b[0m\u001b[0m\n\u001b[1;32m     67\u001b[0m             \u001b[0mseq_len\u001b[0m\u001b[0;34m,\u001b[0m\u001b[0;34m\u001b[0m\u001b[0;34m\u001b[0m\u001b[0m\n",
            "\u001b[0;31mRuntimeError\u001b[0m: view size is not compatible with input tensor's size and stride (at least one dimension spans across two contiguous subspaces). Use .reshape(...) instead."
          ]
        }
      ]
    },
    {
      "cell_type": "code",
      "source": [
        "attention_block = MultiHead(16, 8)\n",
        "attention_block(y, y, y)"
      ],
      "metadata": {
        "id": "Nrv4vF20l-oz",
        "outputId": "de1c457f-4c90-4378-ecec-8539a138379f",
        "colab": {
          "base_uri": "https://localhost:8080/",
          "height": 322
        }
      },
      "execution_count": 262,
      "outputs": [
        {
          "output_type": "stream",
          "name": "stdout",
          "text": [
            "torch.Size([32, 50, 64])\n"
          ]
        },
        {
          "output_type": "error",
          "ename": "RuntimeError",
          "evalue": "shape '[32, 50, 8, 2]' is invalid for input of size 102400",
          "traceback": [
            "\u001b[0;31m---------------------------------------------------------------------------\u001b[0m",
            "\u001b[0;31mRuntimeError\u001b[0m                              Traceback (most recent call last)",
            "\u001b[0;32m<ipython-input-262-855c596265bd>\u001b[0m in \u001b[0;36m<cell line: 2>\u001b[0;34m()\u001b[0m\n\u001b[1;32m      1\u001b[0m \u001b[0mattention_block\u001b[0m \u001b[0;34m=\u001b[0m \u001b[0mMultiHead\u001b[0m\u001b[0;34m(\u001b[0m\u001b[0;36m16\u001b[0m\u001b[0;34m,\u001b[0m \u001b[0;36m8\u001b[0m\u001b[0;34m)\u001b[0m\u001b[0;34m\u001b[0m\u001b[0;34m\u001b[0m\u001b[0m\n\u001b[0;32m----> 2\u001b[0;31m \u001b[0mattention_block\u001b[0m\u001b[0;34m(\u001b[0m\u001b[0my\u001b[0m\u001b[0;34m,\u001b[0m \u001b[0my\u001b[0m\u001b[0;34m,\u001b[0m \u001b[0my\u001b[0m\u001b[0;34m)\u001b[0m\u001b[0;34m\u001b[0m\u001b[0;34m\u001b[0m\u001b[0m\n\u001b[0m",
            "\u001b[0;32m/usr/local/lib/python3.10/dist-packages/torch/nn/modules/module.py\u001b[0m in \u001b[0;36m_wrapped_call_impl\u001b[0;34m(self, *args, **kwargs)\u001b[0m\n\u001b[1;32m   1530\u001b[0m             \u001b[0;32mreturn\u001b[0m \u001b[0mself\u001b[0m\u001b[0;34m.\u001b[0m\u001b[0m_compiled_call_impl\u001b[0m\u001b[0;34m(\u001b[0m\u001b[0;34m*\u001b[0m\u001b[0margs\u001b[0m\u001b[0;34m,\u001b[0m \u001b[0;34m**\u001b[0m\u001b[0mkwargs\u001b[0m\u001b[0;34m)\u001b[0m  \u001b[0;31m# type: ignore[misc]\u001b[0m\u001b[0;34m\u001b[0m\u001b[0;34m\u001b[0m\u001b[0m\n\u001b[1;32m   1531\u001b[0m         \u001b[0;32melse\u001b[0m\u001b[0;34m:\u001b[0m\u001b[0;34m\u001b[0m\u001b[0;34m\u001b[0m\u001b[0m\n\u001b[0;32m-> 1532\u001b[0;31m             \u001b[0;32mreturn\u001b[0m \u001b[0mself\u001b[0m\u001b[0;34m.\u001b[0m\u001b[0m_call_impl\u001b[0m\u001b[0;34m(\u001b[0m\u001b[0;34m*\u001b[0m\u001b[0margs\u001b[0m\u001b[0;34m,\u001b[0m \u001b[0;34m**\u001b[0m\u001b[0mkwargs\u001b[0m\u001b[0;34m)\u001b[0m\u001b[0;34m\u001b[0m\u001b[0;34m\u001b[0m\u001b[0m\n\u001b[0m\u001b[1;32m   1533\u001b[0m \u001b[0;34m\u001b[0m\u001b[0m\n\u001b[1;32m   1534\u001b[0m     \u001b[0;32mdef\u001b[0m \u001b[0m_call_impl\u001b[0m\u001b[0;34m(\u001b[0m\u001b[0mself\u001b[0m\u001b[0;34m,\u001b[0m \u001b[0;34m*\u001b[0m\u001b[0margs\u001b[0m\u001b[0;34m,\u001b[0m \u001b[0;34m**\u001b[0m\u001b[0mkwargs\u001b[0m\u001b[0;34m)\u001b[0m\u001b[0;34m:\u001b[0m\u001b[0;34m\u001b[0m\u001b[0;34m\u001b[0m\u001b[0m\n",
            "\u001b[0;32m/usr/local/lib/python3.10/dist-packages/torch/nn/modules/module.py\u001b[0m in \u001b[0;36m_call_impl\u001b[0;34m(self, *args, **kwargs)\u001b[0m\n\u001b[1;32m   1539\u001b[0m                 \u001b[0;32mor\u001b[0m \u001b[0m_global_backward_pre_hooks\u001b[0m \u001b[0;32mor\u001b[0m \u001b[0m_global_backward_hooks\u001b[0m\u001b[0;34m\u001b[0m\u001b[0;34m\u001b[0m\u001b[0m\n\u001b[1;32m   1540\u001b[0m                 or _global_forward_hooks or _global_forward_pre_hooks):\n\u001b[0;32m-> 1541\u001b[0;31m             \u001b[0;32mreturn\u001b[0m \u001b[0mforward_call\u001b[0m\u001b[0;34m(\u001b[0m\u001b[0;34m*\u001b[0m\u001b[0margs\u001b[0m\u001b[0;34m,\u001b[0m \u001b[0;34m**\u001b[0m\u001b[0mkwargs\u001b[0m\u001b[0;34m)\u001b[0m\u001b[0;34m\u001b[0m\u001b[0;34m\u001b[0m\u001b[0m\n\u001b[0m\u001b[1;32m   1542\u001b[0m \u001b[0;34m\u001b[0m\u001b[0m\n\u001b[1;32m   1543\u001b[0m         \u001b[0;32mtry\u001b[0m\u001b[0;34m:\u001b[0m\u001b[0;34m\u001b[0m\u001b[0;34m\u001b[0m\u001b[0m\n",
            "\u001b[0;32m<ipython-input-209-33169a7abed0>\u001b[0m in \u001b[0;36mforward\u001b[0;34m(self, k, q, v, mask)\u001b[0m\n\u001b[1;32m     54\u001b[0m         \u001b[0mbatch_size\u001b[0m\u001b[0;34m,\u001b[0m \u001b[0mseq_len\u001b[0m \u001b[0;34m=\u001b[0m \u001b[0mk\u001b[0m\u001b[0;34m.\u001b[0m\u001b[0msize\u001b[0m\u001b[0;34m(\u001b[0m\u001b[0;36m0\u001b[0m\u001b[0;34m)\u001b[0m\u001b[0;34m,\u001b[0m \u001b[0mk\u001b[0m\u001b[0;34m.\u001b[0m\u001b[0msize\u001b[0m\u001b[0;34m(\u001b[0m\u001b[0;36m1\u001b[0m\u001b[0;34m)\u001b[0m\u001b[0;34m\u001b[0m\u001b[0;34m\u001b[0m\u001b[0m\n\u001b[1;32m     55\u001b[0m         \u001b[0;31m# transpose all\u001b[0m\u001b[0;34m\u001b[0m\u001b[0;34m\u001b[0m\u001b[0m\n\u001b[0;32m---> 56\u001b[0;31m         \u001b[0mk\u001b[0m \u001b[0;34m=\u001b[0m \u001b[0mk\u001b[0m\u001b[0;34m.\u001b[0m\u001b[0mview\u001b[0m\u001b[0;34m(\u001b[0m\u001b[0mbatch_size\u001b[0m\u001b[0;34m,\u001b[0m \u001b[0mseq_len\u001b[0m\u001b[0;34m,\u001b[0m \u001b[0mself\u001b[0m\u001b[0;34m.\u001b[0m\u001b[0mnum_heads\u001b[0m\u001b[0;34m,\u001b[0m \u001b[0mself\u001b[0m\u001b[0;34m.\u001b[0m\u001b[0mhead_dim\u001b[0m\u001b[0;34m)\u001b[0m\u001b[0;34m\u001b[0m\u001b[0;34m\u001b[0m\u001b[0m\n\u001b[0m\u001b[1;32m     57\u001b[0m         \u001b[0mq\u001b[0m \u001b[0;34m=\u001b[0m \u001b[0mq\u001b[0m\u001b[0;34m.\u001b[0m\u001b[0mview\u001b[0m\u001b[0;34m(\u001b[0m\u001b[0mbatch_size\u001b[0m\u001b[0;34m,\u001b[0m \u001b[0mseq_len\u001b[0m\u001b[0;34m,\u001b[0m \u001b[0mself\u001b[0m\u001b[0;34m.\u001b[0m\u001b[0mnum_heads\u001b[0m\u001b[0;34m,\u001b[0m \u001b[0mself\u001b[0m\u001b[0;34m.\u001b[0m\u001b[0mhead_dim\u001b[0m\u001b[0;34m)\u001b[0m\u001b[0;34m\u001b[0m\u001b[0;34m\u001b[0m\u001b[0m\n\u001b[1;32m     58\u001b[0m         \u001b[0mv\u001b[0m \u001b[0;34m=\u001b[0m \u001b[0mv\u001b[0m\u001b[0;34m.\u001b[0m\u001b[0mview\u001b[0m\u001b[0;34m(\u001b[0m\u001b[0mbatch_size\u001b[0m\u001b[0;34m,\u001b[0m \u001b[0mseq_len\u001b[0m\u001b[0;34m,\u001b[0m \u001b[0mself\u001b[0m\u001b[0;34m.\u001b[0m\u001b[0mnum_heads\u001b[0m\u001b[0;34m,\u001b[0m \u001b[0mself\u001b[0m\u001b[0;34m.\u001b[0m\u001b[0mhead_dim\u001b[0m\u001b[0;34m)\u001b[0m\u001b[0;34m\u001b[0m\u001b[0;34m\u001b[0m\u001b[0m\n",
            "\u001b[0;31mRuntimeError\u001b[0m: shape '[32, 50, 8, 2]' is invalid for input of size 102400"
          ]
        }
      ]
    },
    {
      "cell_type": "code",
      "source": [
        "transformer_model = TransformerArchitecture()"
      ],
      "metadata": {
        "id": "9BamdY7-Urc2"
      },
      "execution_count": 113,
      "outputs": []
    },
    {
      "cell_type": "code",
      "source": [
        "train(\n",
        "    name=\"BaseLine\",\n",
        "    datamodule = gatr_datamodule,\n",
        "    model = transformer_model\n",
        ")"
      ],
      "metadata": {
        "collapsed": true,
        "id": "LDbJdu9wS879",
        "outputId": "85fc7ec5-92b0-45ae-cbe2-cca034f027f0",
        "colab": {
          "base_uri": "https://localhost:8080/",
          "height": 1000,
          "referenced_widgets": [
            "6a3c605fdc7a47bfbaa1284406fe11de",
            "53cd3f1fcc7744bbb9accc31b889126f",
            "340db81470214d80b3b6e33f8812f1d8",
            "bbd19a388b2443a3912f56aa8f90463c",
            "a31b27955572407198479855b0d185b3",
            "6672b011b82143c898a16a9e68015fbe",
            "c86dbd4caf15496f8201e7f34de5c79f",
            "73f28c088c61440d88f239fcd9bcdf79",
            "ff8b180b381d4be7b317f78f9a87ef5b",
            "edcc1ab73aaf4ac090a04a6db3d03a89",
            "5222b7426009468c919e6ba577c615d5"
          ]
        }
      },
      "execution_count": 114,
      "outputs": [
        {
          "output_type": "stream",
          "name": "stderr",
          "text": [
            "INFO:pytorch_lightning.utilities.rank_zero:GPU available: False, used: False\n",
            "INFO:pytorch_lightning.utilities.rank_zero:TPU available: False, using: 0 TPU cores\n",
            "INFO:pytorch_lightning.utilities.rank_zero:HPU available: False, using: 0 HPUs\n",
            "INFO:pytorch_lightning.callbacks.model_summary:\n",
            "  | Name      | Type        | Params | Mode \n",
            "--------------------------------------------------\n",
            "0 | net       | Transformer | 12.6 K | train\n",
            "1 | sigmoid   | Sigmoid     | 0      | train\n",
            "2 | criterion | BCELoss     | 0      | train\n",
            "--------------------------------------------------\n",
            "12.6 K    Trainable params\n",
            "0         Non-trainable params\n",
            "12.6 K    Total params\n",
            "0.051     Total estimated model params size (MB)\n"
          ]
        },
        {
          "output_type": "stream",
          "name": "stdout",
          "text": [
            "torch.Size([3199, 51, 1, 16])\n"
          ]
        },
        {
          "output_type": "display_data",
          "data": {
            "text/plain": [
              "Sanity Checking: |          | 0/? [00:00<?, ?it/s]"
            ],
            "application/vnd.jupyter.widget-view+json": {
              "version_major": 2,
              "version_minor": 0,
              "model_id": "6a3c605fdc7a47bfbaa1284406fe11de"
            }
          },
          "metadata": {}
        },
        {
          "output_type": "stream",
          "name": "stdout",
          "text": [
            "torch.Size([32, 50, 1, 16])\n"
          ]
        },
        {
          "output_type": "error",
          "ename": "RuntimeError",
          "evalue": "shape '[32, 50, 4, 16]' is invalid for input of size 5120000",
          "traceback": [
            "\u001b[0;31m---------------------------------------------------------------------------\u001b[0m",
            "\u001b[0;31mRuntimeError\u001b[0m                              Traceback (most recent call last)",
            "\u001b[0;32m<ipython-input-114-1063da758d2c>\u001b[0m in \u001b[0;36m<cell line: 1>\u001b[0;34m()\u001b[0m\n\u001b[0;32m----> 1\u001b[0;31m train(\n\u001b[0m\u001b[1;32m      2\u001b[0m     \u001b[0mname\u001b[0m\u001b[0;34m=\u001b[0m\u001b[0;34m\"BaseLine\"\u001b[0m\u001b[0;34m,\u001b[0m\u001b[0;34m\u001b[0m\u001b[0;34m\u001b[0m\u001b[0m\n\u001b[1;32m      3\u001b[0m     \u001b[0mdatamodule\u001b[0m \u001b[0;34m=\u001b[0m \u001b[0mgatr_datamodule\u001b[0m\u001b[0;34m,\u001b[0m\u001b[0;34m\u001b[0m\u001b[0;34m\u001b[0m\u001b[0m\n\u001b[1;32m      4\u001b[0m     \u001b[0mmodel\u001b[0m \u001b[0;34m=\u001b[0m \u001b[0mtransformer_model\u001b[0m\u001b[0;34m\u001b[0m\u001b[0;34m\u001b[0m\u001b[0m\n\u001b[1;32m      5\u001b[0m )\n",
            "\u001b[0;32m<ipython-input-107-4c2cc2a37e27>\u001b[0m in \u001b[0;36mtrain\u001b[0;34m(name, datamodule, model)\u001b[0m\n\u001b[1;32m     20\u001b[0m      )\n\u001b[1;32m     21\u001b[0m \u001b[0;34m\u001b[0m\u001b[0m\n\u001b[0;32m---> 22\u001b[0;31m     \u001b[0mtrainer\u001b[0m\u001b[0;34m.\u001b[0m\u001b[0mfit\u001b[0m\u001b[0;34m(\u001b[0m\u001b[0mmodel\u001b[0m\u001b[0;34m,\u001b[0m \u001b[0mdatamodule\u001b[0m\u001b[0;34m)\u001b[0m\u001b[0;34m\u001b[0m\u001b[0;34m\u001b[0m\u001b[0m\n\u001b[0m",
            "\u001b[0;32m/usr/local/lib/python3.10/dist-packages/pytorch_lightning/trainer/trainer.py\u001b[0m in \u001b[0;36mfit\u001b[0;34m(self, model, train_dataloaders, val_dataloaders, datamodule, ckpt_path)\u001b[0m\n\u001b[1;32m    541\u001b[0m         \u001b[0mself\u001b[0m\u001b[0;34m.\u001b[0m\u001b[0mstate\u001b[0m\u001b[0;34m.\u001b[0m\u001b[0mstatus\u001b[0m \u001b[0;34m=\u001b[0m \u001b[0mTrainerStatus\u001b[0m\u001b[0;34m.\u001b[0m\u001b[0mRUNNING\u001b[0m\u001b[0;34m\u001b[0m\u001b[0;34m\u001b[0m\u001b[0m\n\u001b[1;32m    542\u001b[0m         \u001b[0mself\u001b[0m\u001b[0;34m.\u001b[0m\u001b[0mtraining\u001b[0m \u001b[0;34m=\u001b[0m \u001b[0;32mTrue\u001b[0m\u001b[0;34m\u001b[0m\u001b[0;34m\u001b[0m\u001b[0m\n\u001b[0;32m--> 543\u001b[0;31m         call._call_and_handle_interrupt(\n\u001b[0m\u001b[1;32m    544\u001b[0m             \u001b[0mself\u001b[0m\u001b[0;34m,\u001b[0m \u001b[0mself\u001b[0m\u001b[0;34m.\u001b[0m\u001b[0m_fit_impl\u001b[0m\u001b[0;34m,\u001b[0m \u001b[0mmodel\u001b[0m\u001b[0;34m,\u001b[0m \u001b[0mtrain_dataloaders\u001b[0m\u001b[0;34m,\u001b[0m \u001b[0mval_dataloaders\u001b[0m\u001b[0;34m,\u001b[0m \u001b[0mdatamodule\u001b[0m\u001b[0;34m,\u001b[0m \u001b[0mckpt_path\u001b[0m\u001b[0;34m\u001b[0m\u001b[0;34m\u001b[0m\u001b[0m\n\u001b[1;32m    545\u001b[0m         )\n",
            "\u001b[0;32m/usr/local/lib/python3.10/dist-packages/pytorch_lightning/trainer/call.py\u001b[0m in \u001b[0;36m_call_and_handle_interrupt\u001b[0;34m(trainer, trainer_fn, *args, **kwargs)\u001b[0m\n\u001b[1;32m     42\u001b[0m         \u001b[0;32mif\u001b[0m \u001b[0mtrainer\u001b[0m\u001b[0;34m.\u001b[0m\u001b[0mstrategy\u001b[0m\u001b[0;34m.\u001b[0m\u001b[0mlauncher\u001b[0m \u001b[0;32mis\u001b[0m \u001b[0;32mnot\u001b[0m \u001b[0;32mNone\u001b[0m\u001b[0;34m:\u001b[0m\u001b[0;34m\u001b[0m\u001b[0;34m\u001b[0m\u001b[0m\n\u001b[1;32m     43\u001b[0m             \u001b[0;32mreturn\u001b[0m \u001b[0mtrainer\u001b[0m\u001b[0;34m.\u001b[0m\u001b[0mstrategy\u001b[0m\u001b[0;34m.\u001b[0m\u001b[0mlauncher\u001b[0m\u001b[0;34m.\u001b[0m\u001b[0mlaunch\u001b[0m\u001b[0;34m(\u001b[0m\u001b[0mtrainer_fn\u001b[0m\u001b[0;34m,\u001b[0m \u001b[0;34m*\u001b[0m\u001b[0margs\u001b[0m\u001b[0;34m,\u001b[0m \u001b[0mtrainer\u001b[0m\u001b[0;34m=\u001b[0m\u001b[0mtrainer\u001b[0m\u001b[0;34m,\u001b[0m \u001b[0;34m**\u001b[0m\u001b[0mkwargs\u001b[0m\u001b[0;34m)\u001b[0m\u001b[0;34m\u001b[0m\u001b[0;34m\u001b[0m\u001b[0m\n\u001b[0;32m---> 44\u001b[0;31m         \u001b[0;32mreturn\u001b[0m \u001b[0mtrainer_fn\u001b[0m\u001b[0;34m(\u001b[0m\u001b[0;34m*\u001b[0m\u001b[0margs\u001b[0m\u001b[0;34m,\u001b[0m \u001b[0;34m**\u001b[0m\u001b[0mkwargs\u001b[0m\u001b[0;34m)\u001b[0m\u001b[0;34m\u001b[0m\u001b[0;34m\u001b[0m\u001b[0m\n\u001b[0m\u001b[1;32m     45\u001b[0m \u001b[0;34m\u001b[0m\u001b[0m\n\u001b[1;32m     46\u001b[0m     \u001b[0;32mexcept\u001b[0m \u001b[0m_TunerExitException\u001b[0m\u001b[0;34m:\u001b[0m\u001b[0;34m\u001b[0m\u001b[0;34m\u001b[0m\u001b[0m\n",
            "\u001b[0;32m/usr/local/lib/python3.10/dist-packages/pytorch_lightning/trainer/trainer.py\u001b[0m in \u001b[0;36m_fit_impl\u001b[0;34m(self, model, train_dataloaders, val_dataloaders, datamodule, ckpt_path)\u001b[0m\n\u001b[1;32m    577\u001b[0m             \u001b[0mmodel_connected\u001b[0m\u001b[0;34m=\u001b[0m\u001b[0mself\u001b[0m\u001b[0;34m.\u001b[0m\u001b[0mlightning_module\u001b[0m \u001b[0;32mis\u001b[0m \u001b[0;32mnot\u001b[0m \u001b[0;32mNone\u001b[0m\u001b[0;34m,\u001b[0m\u001b[0;34m\u001b[0m\u001b[0;34m\u001b[0m\u001b[0m\n\u001b[1;32m    578\u001b[0m         )\n\u001b[0;32m--> 579\u001b[0;31m         \u001b[0mself\u001b[0m\u001b[0;34m.\u001b[0m\u001b[0m_run\u001b[0m\u001b[0;34m(\u001b[0m\u001b[0mmodel\u001b[0m\u001b[0;34m,\u001b[0m \u001b[0mckpt_path\u001b[0m\u001b[0;34m=\u001b[0m\u001b[0mckpt_path\u001b[0m\u001b[0;34m)\u001b[0m\u001b[0;34m\u001b[0m\u001b[0;34m\u001b[0m\u001b[0m\n\u001b[0m\u001b[1;32m    580\u001b[0m \u001b[0;34m\u001b[0m\u001b[0m\n\u001b[1;32m    581\u001b[0m         \u001b[0;32massert\u001b[0m \u001b[0mself\u001b[0m\u001b[0;34m.\u001b[0m\u001b[0mstate\u001b[0m\u001b[0;34m.\u001b[0m\u001b[0mstopped\u001b[0m\u001b[0;34m\u001b[0m\u001b[0;34m\u001b[0m\u001b[0m\n",
            "\u001b[0;32m/usr/local/lib/python3.10/dist-packages/pytorch_lightning/trainer/trainer.py\u001b[0m in \u001b[0;36m_run\u001b[0;34m(self, model, ckpt_path)\u001b[0m\n\u001b[1;32m    984\u001b[0m         \u001b[0;31m# RUN THE TRAINER\u001b[0m\u001b[0;34m\u001b[0m\u001b[0;34m\u001b[0m\u001b[0m\n\u001b[1;32m    985\u001b[0m         \u001b[0;31m# ----------------------------\u001b[0m\u001b[0;34m\u001b[0m\u001b[0;34m\u001b[0m\u001b[0m\n\u001b[0;32m--> 986\u001b[0;31m         \u001b[0mresults\u001b[0m \u001b[0;34m=\u001b[0m \u001b[0mself\u001b[0m\u001b[0;34m.\u001b[0m\u001b[0m_run_stage\u001b[0m\u001b[0;34m(\u001b[0m\u001b[0;34m)\u001b[0m\u001b[0;34m\u001b[0m\u001b[0;34m\u001b[0m\u001b[0m\n\u001b[0m\u001b[1;32m    987\u001b[0m \u001b[0;34m\u001b[0m\u001b[0m\n\u001b[1;32m    988\u001b[0m         \u001b[0;31m# ----------------------------\u001b[0m\u001b[0;34m\u001b[0m\u001b[0;34m\u001b[0m\u001b[0m\n",
            "\u001b[0;32m/usr/local/lib/python3.10/dist-packages/pytorch_lightning/trainer/trainer.py\u001b[0m in \u001b[0;36m_run_stage\u001b[0;34m(self)\u001b[0m\n\u001b[1;32m   1026\u001b[0m         \u001b[0;32mif\u001b[0m \u001b[0mself\u001b[0m\u001b[0;34m.\u001b[0m\u001b[0mtraining\u001b[0m\u001b[0;34m:\u001b[0m\u001b[0;34m\u001b[0m\u001b[0;34m\u001b[0m\u001b[0m\n\u001b[1;32m   1027\u001b[0m             \u001b[0;32mwith\u001b[0m \u001b[0misolate_rng\u001b[0m\u001b[0;34m(\u001b[0m\u001b[0;34m)\u001b[0m\u001b[0;34m:\u001b[0m\u001b[0;34m\u001b[0m\u001b[0;34m\u001b[0m\u001b[0m\n\u001b[0;32m-> 1028\u001b[0;31m                 \u001b[0mself\u001b[0m\u001b[0;34m.\u001b[0m\u001b[0m_run_sanity_check\u001b[0m\u001b[0;34m(\u001b[0m\u001b[0;34m)\u001b[0m\u001b[0;34m\u001b[0m\u001b[0;34m\u001b[0m\u001b[0m\n\u001b[0m\u001b[1;32m   1029\u001b[0m             \u001b[0;32mwith\u001b[0m \u001b[0mtorch\u001b[0m\u001b[0;34m.\u001b[0m\u001b[0mautograd\u001b[0m\u001b[0;34m.\u001b[0m\u001b[0mset_detect_anomaly\u001b[0m\u001b[0;34m(\u001b[0m\u001b[0mself\u001b[0m\u001b[0;34m.\u001b[0m\u001b[0m_detect_anomaly\u001b[0m\u001b[0;34m)\u001b[0m\u001b[0;34m:\u001b[0m\u001b[0;34m\u001b[0m\u001b[0;34m\u001b[0m\u001b[0m\n\u001b[1;32m   1030\u001b[0m                 \u001b[0mself\u001b[0m\u001b[0;34m.\u001b[0m\u001b[0mfit_loop\u001b[0m\u001b[0;34m.\u001b[0m\u001b[0mrun\u001b[0m\u001b[0;34m(\u001b[0m\u001b[0;34m)\u001b[0m\u001b[0;34m\u001b[0m\u001b[0;34m\u001b[0m\u001b[0m\n",
            "\u001b[0;32m/usr/local/lib/python3.10/dist-packages/pytorch_lightning/trainer/trainer.py\u001b[0m in \u001b[0;36m_run_sanity_check\u001b[0;34m(self)\u001b[0m\n\u001b[1;32m   1055\u001b[0m \u001b[0;34m\u001b[0m\u001b[0m\n\u001b[1;32m   1056\u001b[0m             \u001b[0;31m# run eval step\u001b[0m\u001b[0;34m\u001b[0m\u001b[0;34m\u001b[0m\u001b[0m\n\u001b[0;32m-> 1057\u001b[0;31m             \u001b[0mval_loop\u001b[0m\u001b[0;34m.\u001b[0m\u001b[0mrun\u001b[0m\u001b[0;34m(\u001b[0m\u001b[0;34m)\u001b[0m\u001b[0;34m\u001b[0m\u001b[0;34m\u001b[0m\u001b[0m\n\u001b[0m\u001b[1;32m   1058\u001b[0m \u001b[0;34m\u001b[0m\u001b[0m\n\u001b[1;32m   1059\u001b[0m             \u001b[0mcall\u001b[0m\u001b[0;34m.\u001b[0m\u001b[0m_call_callback_hooks\u001b[0m\u001b[0;34m(\u001b[0m\u001b[0mself\u001b[0m\u001b[0;34m,\u001b[0m \u001b[0;34m\"on_sanity_check_end\"\u001b[0m\u001b[0;34m)\u001b[0m\u001b[0;34m\u001b[0m\u001b[0;34m\u001b[0m\u001b[0m\n",
            "\u001b[0;32m/usr/local/lib/python3.10/dist-packages/pytorch_lightning/loops/utilities.py\u001b[0m in \u001b[0;36m_decorator\u001b[0;34m(self, *args, **kwargs)\u001b[0m\n\u001b[1;32m    180\u001b[0m             \u001b[0mcontext_manager\u001b[0m \u001b[0;34m=\u001b[0m \u001b[0mtorch\u001b[0m\u001b[0;34m.\u001b[0m\u001b[0mno_grad\u001b[0m\u001b[0;34m\u001b[0m\u001b[0;34m\u001b[0m\u001b[0m\n\u001b[1;32m    181\u001b[0m         \u001b[0;32mwith\u001b[0m \u001b[0mcontext_manager\u001b[0m\u001b[0;34m(\u001b[0m\u001b[0;34m)\u001b[0m\u001b[0;34m:\u001b[0m\u001b[0;34m\u001b[0m\u001b[0;34m\u001b[0m\u001b[0m\n\u001b[0;32m--> 182\u001b[0;31m             \u001b[0;32mreturn\u001b[0m \u001b[0mloop_run\u001b[0m\u001b[0;34m(\u001b[0m\u001b[0mself\u001b[0m\u001b[0;34m,\u001b[0m \u001b[0;34m*\u001b[0m\u001b[0margs\u001b[0m\u001b[0;34m,\u001b[0m \u001b[0;34m**\u001b[0m\u001b[0mkwargs\u001b[0m\u001b[0;34m)\u001b[0m\u001b[0;34m\u001b[0m\u001b[0;34m\u001b[0m\u001b[0m\n\u001b[0m\u001b[1;32m    183\u001b[0m \u001b[0;34m\u001b[0m\u001b[0m\n\u001b[1;32m    184\u001b[0m     \u001b[0;32mreturn\u001b[0m \u001b[0m_decorator\u001b[0m\u001b[0;34m\u001b[0m\u001b[0;34m\u001b[0m\u001b[0m\n",
            "\u001b[0;32m/usr/local/lib/python3.10/dist-packages/pytorch_lightning/loops/evaluation_loop.py\u001b[0m in \u001b[0;36mrun\u001b[0;34m(self)\u001b[0m\n\u001b[1;32m    133\u001b[0m                 \u001b[0mself\u001b[0m\u001b[0;34m.\u001b[0m\u001b[0mbatch_progress\u001b[0m\u001b[0;34m.\u001b[0m\u001b[0mis_last_batch\u001b[0m \u001b[0;34m=\u001b[0m \u001b[0mdata_fetcher\u001b[0m\u001b[0;34m.\u001b[0m\u001b[0mdone\u001b[0m\u001b[0;34m\u001b[0m\u001b[0;34m\u001b[0m\u001b[0m\n\u001b[1;32m    134\u001b[0m                 \u001b[0;31m# run step hooks\u001b[0m\u001b[0;34m\u001b[0m\u001b[0;34m\u001b[0m\u001b[0m\n\u001b[0;32m--> 135\u001b[0;31m                 \u001b[0mself\u001b[0m\u001b[0;34m.\u001b[0m\u001b[0m_evaluation_step\u001b[0m\u001b[0;34m(\u001b[0m\u001b[0mbatch\u001b[0m\u001b[0;34m,\u001b[0m \u001b[0mbatch_idx\u001b[0m\u001b[0;34m,\u001b[0m \u001b[0mdataloader_idx\u001b[0m\u001b[0;34m,\u001b[0m \u001b[0mdataloader_iter\u001b[0m\u001b[0;34m)\u001b[0m\u001b[0;34m\u001b[0m\u001b[0;34m\u001b[0m\u001b[0m\n\u001b[0m\u001b[1;32m    136\u001b[0m             \u001b[0;32mexcept\u001b[0m \u001b[0mStopIteration\u001b[0m\u001b[0;34m:\u001b[0m\u001b[0;34m\u001b[0m\u001b[0;34m\u001b[0m\u001b[0m\n\u001b[1;32m    137\u001b[0m                 \u001b[0;31m# this needs to wrap the `*_step` call too (not just `next`) for `dataloader_iter` support\u001b[0m\u001b[0;34m\u001b[0m\u001b[0;34m\u001b[0m\u001b[0m\n",
            "\u001b[0;32m/usr/local/lib/python3.10/dist-packages/pytorch_lightning/loops/evaluation_loop.py\u001b[0m in \u001b[0;36m_evaluation_step\u001b[0;34m(self, batch, batch_idx, dataloader_idx, dataloader_iter)\u001b[0m\n\u001b[1;32m    394\u001b[0m             \u001b[0;32melse\u001b[0m \u001b[0;34m(\u001b[0m\u001b[0mdataloader_iter\u001b[0m\u001b[0;34m,\u001b[0m\u001b[0;34m)\u001b[0m\u001b[0;34m\u001b[0m\u001b[0;34m\u001b[0m\u001b[0m\n\u001b[1;32m    395\u001b[0m         )\n\u001b[0;32m--> 396\u001b[0;31m         \u001b[0moutput\u001b[0m \u001b[0;34m=\u001b[0m \u001b[0mcall\u001b[0m\u001b[0;34m.\u001b[0m\u001b[0m_call_strategy_hook\u001b[0m\u001b[0;34m(\u001b[0m\u001b[0mtrainer\u001b[0m\u001b[0;34m,\u001b[0m \u001b[0mhook_name\u001b[0m\u001b[0;34m,\u001b[0m \u001b[0;34m*\u001b[0m\u001b[0mstep_args\u001b[0m\u001b[0;34m)\u001b[0m\u001b[0;34m\u001b[0m\u001b[0;34m\u001b[0m\u001b[0m\n\u001b[0m\u001b[1;32m    397\u001b[0m \u001b[0;34m\u001b[0m\u001b[0m\n\u001b[1;32m    398\u001b[0m         \u001b[0mself\u001b[0m\u001b[0;34m.\u001b[0m\u001b[0mbatch_progress\u001b[0m\u001b[0;34m.\u001b[0m\u001b[0mincrement_processed\u001b[0m\u001b[0;34m(\u001b[0m\u001b[0;34m)\u001b[0m\u001b[0;34m\u001b[0m\u001b[0;34m\u001b[0m\u001b[0m\n",
            "\u001b[0;32m/usr/local/lib/python3.10/dist-packages/pytorch_lightning/trainer/call.py\u001b[0m in \u001b[0;36m_call_strategy_hook\u001b[0;34m(trainer, hook_name, *args, **kwargs)\u001b[0m\n\u001b[1;32m    309\u001b[0m \u001b[0;34m\u001b[0m\u001b[0m\n\u001b[1;32m    310\u001b[0m     \u001b[0;32mwith\u001b[0m \u001b[0mtrainer\u001b[0m\u001b[0;34m.\u001b[0m\u001b[0mprofiler\u001b[0m\u001b[0;34m.\u001b[0m\u001b[0mprofile\u001b[0m\u001b[0;34m(\u001b[0m\u001b[0;34mf\"[Strategy]{trainer.strategy.__class__.__name__}.{hook_name}\"\u001b[0m\u001b[0;34m)\u001b[0m\u001b[0;34m:\u001b[0m\u001b[0;34m\u001b[0m\u001b[0;34m\u001b[0m\u001b[0m\n\u001b[0;32m--> 311\u001b[0;31m         \u001b[0moutput\u001b[0m \u001b[0;34m=\u001b[0m \u001b[0mfn\u001b[0m\u001b[0;34m(\u001b[0m\u001b[0;34m*\u001b[0m\u001b[0margs\u001b[0m\u001b[0;34m,\u001b[0m \u001b[0;34m**\u001b[0m\u001b[0mkwargs\u001b[0m\u001b[0;34m)\u001b[0m\u001b[0;34m\u001b[0m\u001b[0;34m\u001b[0m\u001b[0m\n\u001b[0m\u001b[1;32m    312\u001b[0m \u001b[0;34m\u001b[0m\u001b[0m\n\u001b[1;32m    313\u001b[0m     \u001b[0;31m# restore current_fx when nested context\u001b[0m\u001b[0;34m\u001b[0m\u001b[0;34m\u001b[0m\u001b[0m\n",
            "\u001b[0;32m/usr/local/lib/python3.10/dist-packages/pytorch_lightning/strategies/strategy.py\u001b[0m in \u001b[0;36mvalidation_step\u001b[0;34m(self, *args, **kwargs)\u001b[0m\n\u001b[1;32m    409\u001b[0m             \u001b[0;32mif\u001b[0m \u001b[0mself\u001b[0m\u001b[0;34m.\u001b[0m\u001b[0mmodel\u001b[0m \u001b[0;34m!=\u001b[0m \u001b[0mself\u001b[0m\u001b[0;34m.\u001b[0m\u001b[0mlightning_module\u001b[0m\u001b[0;34m:\u001b[0m\u001b[0;34m\u001b[0m\u001b[0;34m\u001b[0m\u001b[0m\n\u001b[1;32m    410\u001b[0m                 \u001b[0;32mreturn\u001b[0m \u001b[0mself\u001b[0m\u001b[0;34m.\u001b[0m\u001b[0m_forward_redirection\u001b[0m\u001b[0;34m(\u001b[0m\u001b[0mself\u001b[0m\u001b[0;34m.\u001b[0m\u001b[0mmodel\u001b[0m\u001b[0;34m,\u001b[0m \u001b[0mself\u001b[0m\u001b[0;34m.\u001b[0m\u001b[0mlightning_module\u001b[0m\u001b[0;34m,\u001b[0m \u001b[0;34m\"validation_step\"\u001b[0m\u001b[0;34m,\u001b[0m \u001b[0;34m*\u001b[0m\u001b[0margs\u001b[0m\u001b[0;34m,\u001b[0m \u001b[0;34m**\u001b[0m\u001b[0mkwargs\u001b[0m\u001b[0;34m)\u001b[0m\u001b[0;34m\u001b[0m\u001b[0;34m\u001b[0m\u001b[0m\n\u001b[0;32m--> 411\u001b[0;31m             \u001b[0;32mreturn\u001b[0m \u001b[0mself\u001b[0m\u001b[0;34m.\u001b[0m\u001b[0mlightning_module\u001b[0m\u001b[0;34m.\u001b[0m\u001b[0mvalidation_step\u001b[0m\u001b[0;34m(\u001b[0m\u001b[0;34m*\u001b[0m\u001b[0margs\u001b[0m\u001b[0;34m,\u001b[0m \u001b[0;34m**\u001b[0m\u001b[0mkwargs\u001b[0m\u001b[0;34m)\u001b[0m\u001b[0;34m\u001b[0m\u001b[0;34m\u001b[0m\u001b[0m\n\u001b[0m\u001b[1;32m    412\u001b[0m \u001b[0;34m\u001b[0m\u001b[0m\n\u001b[1;32m    413\u001b[0m     \u001b[0;32mdef\u001b[0m \u001b[0mtest_step\u001b[0m\u001b[0;34m(\u001b[0m\u001b[0mself\u001b[0m\u001b[0;34m,\u001b[0m \u001b[0;34m*\u001b[0m\u001b[0margs\u001b[0m\u001b[0;34m:\u001b[0m \u001b[0mAny\u001b[0m\u001b[0;34m,\u001b[0m \u001b[0;34m**\u001b[0m\u001b[0mkwargs\u001b[0m\u001b[0;34m:\u001b[0m \u001b[0mAny\u001b[0m\u001b[0;34m)\u001b[0m \u001b[0;34m->\u001b[0m \u001b[0mSTEP_OUTPUT\u001b[0m\u001b[0;34m:\u001b[0m\u001b[0;34m\u001b[0m\u001b[0;34m\u001b[0m\u001b[0m\n",
            "\u001b[0;32m<ipython-input-104-4521e9a8f787>\u001b[0m in \u001b[0;36mvalidation_step\u001b[0;34m(self, batch, batch_idx)\u001b[0m\n\u001b[1;32m     78\u001b[0m         \u001b[0minputs\u001b[0m\u001b[0;34m,\u001b[0m \u001b[0mlabels\u001b[0m \u001b[0;34m=\u001b[0m \u001b[0mbatch\u001b[0m\u001b[0;34m\u001b[0m\u001b[0;34m\u001b[0m\u001b[0m\n\u001b[1;32m     79\u001b[0m         \u001b[0minputs\u001b[0m\u001b[0;34m,\u001b[0m \u001b[0mlabels\u001b[0m \u001b[0;34m=\u001b[0m \u001b[0minputs\u001b[0m\u001b[0;34m.\u001b[0m\u001b[0mto\u001b[0m\u001b[0;34m(\u001b[0m\u001b[0mdevice\u001b[0m\u001b[0;34m)\u001b[0m\u001b[0;34m,\u001b[0m\u001b[0mlabels\u001b[0m\u001b[0;34m.\u001b[0m\u001b[0mto\u001b[0m\u001b[0;34m(\u001b[0m\u001b[0mdevice\u001b[0m\u001b[0;34m)\u001b[0m\u001b[0;34m\u001b[0m\u001b[0;34m\u001b[0m\u001b[0m\n\u001b[0;32m---> 80\u001b[0;31m         \u001b[0moutputs\u001b[0m \u001b[0;34m=\u001b[0m \u001b[0mself\u001b[0m\u001b[0;34m.\u001b[0m\u001b[0mnet\u001b[0m\u001b[0;34m(\u001b[0m\u001b[0minputs\u001b[0m\u001b[0;34m)\u001b[0m\u001b[0;34m\u001b[0m\u001b[0;34m\u001b[0m\u001b[0m\n\u001b[0m\u001b[1;32m     81\u001b[0m \u001b[0;34m\u001b[0m\u001b[0m\n\u001b[1;32m     82\u001b[0m         \u001b[0mprobabilities\u001b[0m \u001b[0;34m=\u001b[0m \u001b[0mself\u001b[0m\u001b[0;34m.\u001b[0m\u001b[0msigmoid\u001b[0m\u001b[0;34m(\u001b[0m\u001b[0moutputs\u001b[0m\u001b[0;34m)\u001b[0m\u001b[0;34m\u001b[0m\u001b[0;34m\u001b[0m\u001b[0m\n",
            "\u001b[0;32m/usr/local/lib/python3.10/dist-packages/torch/nn/modules/module.py\u001b[0m in \u001b[0;36m_wrapped_call_impl\u001b[0;34m(self, *args, **kwargs)\u001b[0m\n\u001b[1;32m   1530\u001b[0m             \u001b[0;32mreturn\u001b[0m \u001b[0mself\u001b[0m\u001b[0;34m.\u001b[0m\u001b[0m_compiled_call_impl\u001b[0m\u001b[0;34m(\u001b[0m\u001b[0;34m*\u001b[0m\u001b[0margs\u001b[0m\u001b[0;34m,\u001b[0m \u001b[0;34m**\u001b[0m\u001b[0mkwargs\u001b[0m\u001b[0;34m)\u001b[0m  \u001b[0;31m# type: ignore[misc]\u001b[0m\u001b[0;34m\u001b[0m\u001b[0;34m\u001b[0m\u001b[0m\n\u001b[1;32m   1531\u001b[0m         \u001b[0;32melse\u001b[0m\u001b[0;34m:\u001b[0m\u001b[0;34m\u001b[0m\u001b[0;34m\u001b[0m\u001b[0m\n\u001b[0;32m-> 1532\u001b[0;31m             \u001b[0;32mreturn\u001b[0m \u001b[0mself\u001b[0m\u001b[0;34m.\u001b[0m\u001b[0m_call_impl\u001b[0m\u001b[0;34m(\u001b[0m\u001b[0;34m*\u001b[0m\u001b[0margs\u001b[0m\u001b[0;34m,\u001b[0m \u001b[0;34m**\u001b[0m\u001b[0mkwargs\u001b[0m\u001b[0;34m)\u001b[0m\u001b[0;34m\u001b[0m\u001b[0;34m\u001b[0m\u001b[0m\n\u001b[0m\u001b[1;32m   1533\u001b[0m \u001b[0;34m\u001b[0m\u001b[0m\n\u001b[1;32m   1534\u001b[0m     \u001b[0;32mdef\u001b[0m \u001b[0m_call_impl\u001b[0m\u001b[0;34m(\u001b[0m\u001b[0mself\u001b[0m\u001b[0;34m,\u001b[0m \u001b[0;34m*\u001b[0m\u001b[0margs\u001b[0m\u001b[0;34m,\u001b[0m \u001b[0;34m**\u001b[0m\u001b[0mkwargs\u001b[0m\u001b[0;34m)\u001b[0m\u001b[0;34m:\u001b[0m\u001b[0;34m\u001b[0m\u001b[0;34m\u001b[0m\u001b[0m\n",
            "\u001b[0;32m/usr/local/lib/python3.10/dist-packages/torch/nn/modules/module.py\u001b[0m in \u001b[0;36m_call_impl\u001b[0;34m(self, *args, **kwargs)\u001b[0m\n\u001b[1;32m   1539\u001b[0m                 \u001b[0;32mor\u001b[0m \u001b[0m_global_backward_pre_hooks\u001b[0m \u001b[0;32mor\u001b[0m \u001b[0m_global_backward_hooks\u001b[0m\u001b[0;34m\u001b[0m\u001b[0;34m\u001b[0m\u001b[0m\n\u001b[1;32m   1540\u001b[0m                 or _global_forward_hooks or _global_forward_pre_hooks):\n\u001b[0;32m-> 1541\u001b[0;31m             \u001b[0;32mreturn\u001b[0m \u001b[0mforward_call\u001b[0m\u001b[0;34m(\u001b[0m\u001b[0;34m*\u001b[0m\u001b[0margs\u001b[0m\u001b[0;34m,\u001b[0m \u001b[0;34m**\u001b[0m\u001b[0mkwargs\u001b[0m\u001b[0;34m)\u001b[0m\u001b[0;34m\u001b[0m\u001b[0;34m\u001b[0m\u001b[0m\n\u001b[0m\u001b[1;32m   1542\u001b[0m \u001b[0;34m\u001b[0m\u001b[0m\n\u001b[1;32m   1543\u001b[0m         \u001b[0;32mtry\u001b[0m\u001b[0;34m:\u001b[0m\u001b[0;34m\u001b[0m\u001b[0;34m\u001b[0m\u001b[0m\n",
            "\u001b[0;32m<ipython-input-112-40e6edaa6b04>\u001b[0m in \u001b[0;36mforward\u001b[0;34m(self, x)\u001b[0m\n\u001b[1;32m     26\u001b[0m     \u001b[0mprint\u001b[0m\u001b[0;34m(\u001b[0m\u001b[0mx\u001b[0m\u001b[0;34m.\u001b[0m\u001b[0mshape\u001b[0m\u001b[0;34m)\u001b[0m\u001b[0;34m\u001b[0m\u001b[0;34m\u001b[0m\u001b[0m\n\u001b[1;32m     27\u001b[0m     \u001b[0memb\u001b[0m \u001b[0;34m=\u001b[0m \u001b[0mself\u001b[0m\u001b[0;34m.\u001b[0m\u001b[0membedding\u001b[0m\u001b[0;34m(\u001b[0m\u001b[0mself\u001b[0m\u001b[0;34m.\u001b[0m\u001b[0mproject\u001b[0m\u001b[0;34m(\u001b[0m\u001b[0mx\u001b[0m\u001b[0;34m)\u001b[0m\u001b[0;34m)\u001b[0m                    \u001b[0;31m# embedding\u001b[0m\u001b[0;34m\u001b[0m\u001b[0;34m\u001b[0m\u001b[0m\n\u001b[0;32m---> 28\u001b[0;31m     \u001b[0moutput_encoder\u001b[0m \u001b[0;34m=\u001b[0m \u001b[0mself\u001b[0m\u001b[0;34m.\u001b[0m\u001b[0mmulti_head_block\u001b[0m\u001b[0;34m(\u001b[0m\u001b[0memb\u001b[0m\u001b[0;34m,\u001b[0m \u001b[0memb\u001b[0m\u001b[0;34m,\u001b[0m \u001b[0memb\u001b[0m\u001b[0;34m)\u001b[0m    \u001b[0;31m# multihead\u001b[0m\u001b[0;34m\u001b[0m\u001b[0;34m\u001b[0m\u001b[0m\n\u001b[0m\u001b[1;32m     29\u001b[0m     \u001b[0mx\u001b[0m \u001b[0;34m=\u001b[0m \u001b[0mself\u001b[0m\u001b[0;34m.\u001b[0m\u001b[0mlayer_norm1\u001b[0m\u001b[0;34m(\u001b[0m\u001b[0moutput_encoder\u001b[0m \u001b[0;34m+\u001b[0m \u001b[0memb\u001b[0m\u001b[0;34m)\u001b[0m               \u001b[0;31m# residual + layerNorm\u001b[0m\u001b[0;34m\u001b[0m\u001b[0;34m\u001b[0m\u001b[0m\n\u001b[1;32m     30\u001b[0m     \u001b[0mx\u001b[0m \u001b[0;34m=\u001b[0m \u001b[0mself\u001b[0m\u001b[0;34m.\u001b[0m\u001b[0mactivation\u001b[0m\u001b[0;34m(\u001b[0m\u001b[0mself\u001b[0m\u001b[0;34m.\u001b[0m\u001b[0mfully_connected\u001b[0m\u001b[0;34m(\u001b[0m\u001b[0mx\u001b[0m\u001b[0;34m)\u001b[0m\u001b[0;34m)\u001b[0m             \u001b[0;31m# classifier\u001b[0m\u001b[0;34m\u001b[0m\u001b[0;34m\u001b[0m\u001b[0m\n",
            "\u001b[0;32m/usr/local/lib/python3.10/dist-packages/torch/nn/modules/module.py\u001b[0m in \u001b[0;36m_wrapped_call_impl\u001b[0;34m(self, *args, **kwargs)\u001b[0m\n\u001b[1;32m   1530\u001b[0m             \u001b[0;32mreturn\u001b[0m \u001b[0mself\u001b[0m\u001b[0;34m.\u001b[0m\u001b[0m_compiled_call_impl\u001b[0m\u001b[0;34m(\u001b[0m\u001b[0;34m*\u001b[0m\u001b[0margs\u001b[0m\u001b[0;34m,\u001b[0m \u001b[0;34m**\u001b[0m\u001b[0mkwargs\u001b[0m\u001b[0;34m)\u001b[0m  \u001b[0;31m# type: ignore[misc]\u001b[0m\u001b[0;34m\u001b[0m\u001b[0;34m\u001b[0m\u001b[0m\n\u001b[1;32m   1531\u001b[0m         \u001b[0;32melse\u001b[0m\u001b[0;34m:\u001b[0m\u001b[0;34m\u001b[0m\u001b[0;34m\u001b[0m\u001b[0m\n\u001b[0;32m-> 1532\u001b[0;31m             \u001b[0;32mreturn\u001b[0m \u001b[0mself\u001b[0m\u001b[0;34m.\u001b[0m\u001b[0m_call_impl\u001b[0m\u001b[0;34m(\u001b[0m\u001b[0;34m*\u001b[0m\u001b[0margs\u001b[0m\u001b[0;34m,\u001b[0m \u001b[0;34m**\u001b[0m\u001b[0mkwargs\u001b[0m\u001b[0;34m)\u001b[0m\u001b[0;34m\u001b[0m\u001b[0;34m\u001b[0m\u001b[0m\n\u001b[0m\u001b[1;32m   1533\u001b[0m \u001b[0;34m\u001b[0m\u001b[0m\n\u001b[1;32m   1534\u001b[0m     \u001b[0;32mdef\u001b[0m \u001b[0m_call_impl\u001b[0m\u001b[0;34m(\u001b[0m\u001b[0mself\u001b[0m\u001b[0;34m,\u001b[0m \u001b[0;34m*\u001b[0m\u001b[0margs\u001b[0m\u001b[0;34m,\u001b[0m \u001b[0;34m**\u001b[0m\u001b[0mkwargs\u001b[0m\u001b[0;34m)\u001b[0m\u001b[0;34m:\u001b[0m\u001b[0;34m\u001b[0m\u001b[0;34m\u001b[0m\u001b[0m\n",
            "\u001b[0;32m/usr/local/lib/python3.10/dist-packages/torch/nn/modules/module.py\u001b[0m in \u001b[0;36m_call_impl\u001b[0;34m(self, *args, **kwargs)\u001b[0m\n\u001b[1;32m   1539\u001b[0m                 \u001b[0;32mor\u001b[0m \u001b[0m_global_backward_pre_hooks\u001b[0m \u001b[0;32mor\u001b[0m \u001b[0m_global_backward_hooks\u001b[0m\u001b[0;34m\u001b[0m\u001b[0;34m\u001b[0m\u001b[0m\n\u001b[1;32m   1540\u001b[0m                 or _global_forward_hooks or _global_forward_pre_hooks):\n\u001b[0;32m-> 1541\u001b[0;31m             \u001b[0;32mreturn\u001b[0m \u001b[0mforward_call\u001b[0m\u001b[0;34m(\u001b[0m\u001b[0;34m*\u001b[0m\u001b[0margs\u001b[0m\u001b[0;34m,\u001b[0m \u001b[0;34m**\u001b[0m\u001b[0mkwargs\u001b[0m\u001b[0;34m)\u001b[0m\u001b[0;34m\u001b[0m\u001b[0;34m\u001b[0m\u001b[0m\n\u001b[0m\u001b[1;32m   1542\u001b[0m \u001b[0;34m\u001b[0m\u001b[0m\n\u001b[1;32m   1543\u001b[0m         \u001b[0;32mtry\u001b[0m\u001b[0;34m:\u001b[0m\u001b[0;34m\u001b[0m\u001b[0;34m\u001b[0m\u001b[0m\n",
            "\u001b[0;32m<ipython-input-60-0f9e13b3910b>\u001b[0m in \u001b[0;36mforward\u001b[0;34m(self, k, q, v, mask)\u001b[0m\n\u001b[1;32m     36\u001b[0m         \u001b[0mbatch_size\u001b[0m\u001b[0;34m,\u001b[0m \u001b[0mseq_len\u001b[0m \u001b[0;34m=\u001b[0m \u001b[0mk\u001b[0m\u001b[0;34m.\u001b[0m\u001b[0msize\u001b[0m\u001b[0;34m(\u001b[0m\u001b[0;36m0\u001b[0m\u001b[0;34m)\u001b[0m\u001b[0;34m,\u001b[0m \u001b[0mk\u001b[0m\u001b[0;34m.\u001b[0m\u001b[0msize\u001b[0m\u001b[0;34m(\u001b[0m\u001b[0;36m1\u001b[0m\u001b[0;34m)\u001b[0m\u001b[0;34m\u001b[0m\u001b[0;34m\u001b[0m\u001b[0m\n\u001b[1;32m     37\u001b[0m         \u001b[0;31m# transpose all\u001b[0m\u001b[0;34m\u001b[0m\u001b[0;34m\u001b[0m\u001b[0m\n\u001b[0;32m---> 38\u001b[0;31m         \u001b[0mk\u001b[0m \u001b[0;34m=\u001b[0m \u001b[0mk\u001b[0m\u001b[0;34m.\u001b[0m\u001b[0mview\u001b[0m\u001b[0;34m(\u001b[0m\u001b[0mbatch_size\u001b[0m\u001b[0;34m,\u001b[0m \u001b[0mseq_len\u001b[0m\u001b[0;34m,\u001b[0m \u001b[0mself\u001b[0m\u001b[0;34m.\u001b[0m\u001b[0mnum_heads\u001b[0m\u001b[0;34m,\u001b[0m \u001b[0mself\u001b[0m\u001b[0;34m.\u001b[0m\u001b[0mhead_dim\u001b[0m\u001b[0;34m)\u001b[0m\u001b[0;34m\u001b[0m\u001b[0;34m\u001b[0m\u001b[0m\n\u001b[0m\u001b[1;32m     39\u001b[0m         \u001b[0mq\u001b[0m \u001b[0;34m=\u001b[0m \u001b[0mq\u001b[0m\u001b[0;34m.\u001b[0m\u001b[0mview\u001b[0m\u001b[0;34m(\u001b[0m\u001b[0mbatch_size\u001b[0m\u001b[0;34m,\u001b[0m \u001b[0mseq_len\u001b[0m\u001b[0;34m,\u001b[0m \u001b[0mself\u001b[0m\u001b[0;34m.\u001b[0m\u001b[0mnum_heads\u001b[0m\u001b[0;34m,\u001b[0m \u001b[0mself\u001b[0m\u001b[0;34m.\u001b[0m\u001b[0mhead_dim\u001b[0m\u001b[0;34m)\u001b[0m\u001b[0;34m\u001b[0m\u001b[0;34m\u001b[0m\u001b[0m\n\u001b[1;32m     40\u001b[0m         \u001b[0mv\u001b[0m \u001b[0;34m=\u001b[0m \u001b[0mv\u001b[0m\u001b[0;34m.\u001b[0m\u001b[0mview\u001b[0m\u001b[0;34m(\u001b[0m\u001b[0mbatch_size\u001b[0m\u001b[0;34m,\u001b[0m \u001b[0mseq_len\u001b[0m\u001b[0;34m,\u001b[0m \u001b[0mself\u001b[0m\u001b[0;34m.\u001b[0m\u001b[0mnum_heads\u001b[0m\u001b[0;34m,\u001b[0m \u001b[0mself\u001b[0m\u001b[0;34m.\u001b[0m\u001b[0mhead_dim\u001b[0m\u001b[0;34m)\u001b[0m\u001b[0;34m\u001b[0m\u001b[0;34m\u001b[0m\u001b[0m\n",
            "\u001b[0;31mRuntimeError\u001b[0m: shape '[32, 50, 4, 16]' is invalid for input of size 5120000"
          ]
        }
      ]
    },
    {
      "cell_type": "code",
      "source": [
        "\n",
        "x = next(iter(dataloader))[0].squeeze(-2)\n",
        "print(x.shape, 'dataloader')\n",
        "transformer_model = Transformer(16, 4)\n",
        "x = transformer_model.project(x)\n",
        "print(x.shape, 'project')\n",
        "x = transformer_model.embedding(x)\n",
        "print(x.shape, 'embedded')\n",
        "y = transformer_model.multi_head_block(x, x, x)\n",
        "print(y.shape, 'multihead')\n",
        "y = transformer_model.layer_norm1(y)\n",
        "print(y.shape, 'layer_norm1')\n",
        "y = transformer_model.fully_connected(y)\n",
        "print(y.shape, 'fully_connected')\n",
        "y = torch.mean(y, dim=1)\n",
        "print(y.shape, 'mean')\n",
        "y = transformer_model.logit_layer(y)\n",
        "print(y.shape, 'logit')\n",
        "y = torch.sigmoid(y)\n",
        "print('sigmoid\\n', y )"
      ],
      "metadata": {
        "id": "X3Kz5exnRoK-",
        "outputId": "19d602ba-76e4-4f00-b68f-9ee1f96b1bc0",
        "colab": {
          "base_uri": "https://localhost:8080/"
        }
      },
      "execution_count": 102,
      "outputs": [
        {
          "output_type": "stream",
          "name": "stdout",
          "text": [
            "torch.Size([32, 50, 16]) dataloader\n",
            "torch.Size([32, 50, 4]) project\n",
            "torch.Size([32, 50, 4]) embedded\n",
            "torch.Size([32, 50, 4]) multihead\n",
            "torch.Size([32, 50, 4]) layer_norm1\n",
            "torch.Size([32, 50, 128]) fully_connected\n",
            "torch.Size([32, 128]) mean\n",
            "torch.Size([32, 1]) logit\n",
            "sigmoid\n",
            " tensor([[0.5753],\n",
            "        [0.5753],\n",
            "        [0.5753],\n",
            "        [0.5753],\n",
            "        [0.5753],\n",
            "        [0.5753],\n",
            "        [0.5753],\n",
            "        [0.5753],\n",
            "        [0.5753],\n",
            "        [0.5753],\n",
            "        [0.5753],\n",
            "        [0.5753],\n",
            "        [0.5753],\n",
            "        [0.5753],\n",
            "        [0.5753],\n",
            "        [0.5753],\n",
            "        [0.5753],\n",
            "        [0.5753],\n",
            "        [0.5753],\n",
            "        [0.5753],\n",
            "        [0.5753],\n",
            "        [0.5753],\n",
            "        [0.5753],\n",
            "        [0.5753],\n",
            "        [0.5753],\n",
            "        [0.5753],\n",
            "        [0.5753],\n",
            "        [0.5753],\n",
            "        [0.5753],\n",
            "        [0.5753],\n",
            "        [0.5753],\n",
            "        [0.5753]], grad_fn=<SigmoidBackward0>)\n"
          ]
        }
      ]
    },
    {
      "cell_type": "code",
      "source": [
        "x2 = next(iter(dataloader))[0].squeeze(-2)\n",
        "transformer_model(x2)"
      ],
      "metadata": {
        "id": "vqRKR52SUJWP",
        "outputId": "d2dfca87-936b-4775-c271-503a56ebccbc",
        "colab": {
          "base_uri": "https://localhost:8080/"
        }
      },
      "execution_count": 103,
      "outputs": [
        {
          "output_type": "execute_result",
          "data": {
            "text/plain": [
              "tensor([[0.6398],\n",
              "        [0.6400],\n",
              "        [0.6399],\n",
              "        [0.6399],\n",
              "        [0.6400],\n",
              "        [0.6399],\n",
              "        [0.6400],\n",
              "        [0.6402],\n",
              "        [0.6400],\n",
              "        [0.6398],\n",
              "        [0.6400],\n",
              "        [0.6291],\n",
              "        [0.6395],\n",
              "        [0.6393],\n",
              "        [0.6400],\n",
              "        [0.6382],\n",
              "        [0.6383],\n",
              "        [0.6400],\n",
              "        [0.6397],\n",
              "        [0.6140],\n",
              "        [0.6398],\n",
              "        [0.6400],\n",
              "        [0.6396],\n",
              "        [0.6379],\n",
              "        [0.6277],\n",
              "        [0.6396],\n",
              "        [0.6370],\n",
              "        [0.6399],\n",
              "        [0.6239],\n",
              "        [0.6397],\n",
              "        [0.6399],\n",
              "        [0.6387]], grad_fn=<SigmoidBackward0>)"
            ]
          },
          "metadata": {},
          "execution_count": 103
        }
      ]
    },
    {
      "cell_type": "code",
      "source": [
        "y.shape, x.shape"
      ],
      "metadata": {
        "id": "Xf16GKc3ibD2",
        "outputId": "2207afae-28b3-4921-f4f1-1887ebf74782",
        "colab": {
          "base_uri": "https://localhost:8080/"
        }
      },
      "execution_count": 264,
      "outputs": [
        {
          "output_type": "execute_result",
          "data": {
            "text/plain": [
              "(torch.Size([32, 50, 64]), torch.Size([32, 50, 16]))"
            ]
          },
          "metadata": {},
          "execution_count": 264
        }
      ]
    },
    {
      "cell_type": "code",
      "source": [
        "batch, seq_len, emb_dim = y.size()\n",
        "num_head = 4\n",
        "head_dim = int(emb_dim / num_head)\n",
        "q, k, v = y, y, y\n",
        "\n",
        "q.view(batch, seq_len, num_head, head_dim)\n",
        "k.view(batch, seq_len, num_head, head_dim)\n",
        "v.view(batch, seq_len, num_head, head_dim)\n",
        "\n",
        "#project q, k, v with linear layer : each matrix is a 16/4\n",
        "q_matrix = nn.Linear(head_dim, head_dim)\n",
        "k_matrix = nn.Linear(head_dim, head_dim)\n",
        "v_matrix = nn.Linear(head_dim, head_dim)\n",
        "out_projection_matrix = nn.Linear(num_head*head_dim, emb_dim)\n",
        "# Q * K.t ---> traspose K but before change view for parallelize\n",
        "q = q.view(batch, num_head, seq_len, head_dim)\n",
        "k = k.view(batch, num_head, seq_len, head_dim)\n",
        "v = v.view(batch, num_head, seq_len, head_dim)\n",
        "\n",
        "Q = q_matrix(q)\n",
        "K = k_matrix(k)\n",
        "V = v_matrix(v)\n",
        "\n",
        "K_transpose = K.transpose(-1, -2)\n",
        "\n",
        "# (32, 4, 50, 50) : batch, # heads, seq_len, seq_len\n",
        "score = torch.matmul(Q, K_transpose)\n",
        "score = F.softmax(score/ math.sqrt(head_dim), dim=-1)\n",
        "attention = torch.matmul(score, V)\n",
        "\n",
        "concat_multihead = attention.transpose(1, 2).contiguous().view(batch, seq_len, num_head * head_dim)\n",
        "out_projection_matrix(concat_multihead).shape"
      ],
      "metadata": {
        "id": "tIJKaFd7nrhW",
        "outputId": "b8fd2fb8-119a-446f-aef5-3918fbb59be5",
        "colab": {
          "base_uri": "https://localhost:8080/",
          "height": 211
        }
      },
      "execution_count": 76,
      "outputs": [
        {
          "output_type": "error",
          "ename": "NameError",
          "evalue": "name 'y' is not defined",
          "traceback": [
            "\u001b[0;31m---------------------------------------------------------------------------\u001b[0m",
            "\u001b[0;31mNameError\u001b[0m                                 Traceback (most recent call last)",
            "\u001b[0;32m<ipython-input-76-67542f757cfb>\u001b[0m in \u001b[0;36m<cell line: 1>\u001b[0;34m()\u001b[0m\n\u001b[0;32m----> 1\u001b[0;31m \u001b[0mbatch\u001b[0m\u001b[0;34m,\u001b[0m \u001b[0mseq_len\u001b[0m\u001b[0;34m,\u001b[0m \u001b[0memb_dim\u001b[0m \u001b[0;34m=\u001b[0m \u001b[0my\u001b[0m\u001b[0;34m.\u001b[0m\u001b[0msize\u001b[0m\u001b[0;34m(\u001b[0m\u001b[0;34m)\u001b[0m\u001b[0;34m\u001b[0m\u001b[0;34m\u001b[0m\u001b[0m\n\u001b[0m\u001b[1;32m      2\u001b[0m \u001b[0mnum_head\u001b[0m \u001b[0;34m=\u001b[0m \u001b[0;36m4\u001b[0m\u001b[0;34m\u001b[0m\u001b[0;34m\u001b[0m\u001b[0m\n\u001b[1;32m      3\u001b[0m \u001b[0mhead_dim\u001b[0m \u001b[0;34m=\u001b[0m \u001b[0mint\u001b[0m\u001b[0;34m(\u001b[0m\u001b[0memb_dim\u001b[0m \u001b[0;34m/\u001b[0m \u001b[0mnum_head\u001b[0m\u001b[0;34m)\u001b[0m\u001b[0;34m\u001b[0m\u001b[0;34m\u001b[0m\u001b[0m\n\u001b[1;32m      4\u001b[0m \u001b[0mq\u001b[0m\u001b[0;34m,\u001b[0m \u001b[0mk\u001b[0m\u001b[0;34m,\u001b[0m \u001b[0mv\u001b[0m \u001b[0;34m=\u001b[0m \u001b[0my\u001b[0m\u001b[0;34m,\u001b[0m \u001b[0my\u001b[0m\u001b[0;34m,\u001b[0m \u001b[0my\u001b[0m\u001b[0;34m\u001b[0m\u001b[0;34m\u001b[0m\u001b[0m\n\u001b[1;32m      5\u001b[0m \u001b[0;34m\u001b[0m\u001b[0m\n",
            "\u001b[0;31mNameError\u001b[0m: name 'y' is not defined"
          ]
        }
      ]
    }
  ]
}